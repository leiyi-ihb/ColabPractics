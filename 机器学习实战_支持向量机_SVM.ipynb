{
  "nbformat": 4,
  "nbformat_minor": 0,
  "metadata": {
    "colab": {
      "provenance": [],
      "collapsed_sections": [],
      "authorship_tag": "ABX9TyOkRmO0XG+9oToAgC97ORGP",
      "include_colab_link": true
    },
    "kernelspec": {
      "name": "python3",
      "display_name": "Python 3"
    },
    "language_info": {
      "name": "python"
    }
  },
  "cells": [
    {
      "cell_type": "markdown",
      "metadata": {
        "id": "view-in-github",
        "colab_type": "text"
      },
      "source": [
        "<a href=\"https://colab.research.google.com/github/leiyi-ihb/ColabPractics/blob/main/%E6%9C%BA%E5%99%A8%E5%AD%A6%E4%B9%A0%E5%AE%9E%E6%88%98_%E6%94%AF%E6%8C%81%E5%90%91%E9%87%8F%E6%9C%BA_SVM.ipynb\" target=\"_parent\"><img src=\"https://colab.research.google.com/assets/colab-badge.svg\" alt=\"Open In Colab\"/></a>"
      ]
    },
    {
      "cell_type": "code",
      "execution_count": 1,
      "metadata": {
        "id": "ypAmQ3lxiVz_"
      },
      "outputs": [],
      "source": [
        "import numpy as np\n",
        "import matplotlib.pyplot as plt\n",
        "import pandas as pd"
      ]
    },
    {
      "cell_type": "code",
      "source": [
        "! if [ ! -f \"Social_Network_Ads.csv\" ]; then wget https://raw.githubusercontent.com/MLEveryday/100-Days-Of-ML-Code/master/datasets/Social_Network_Ads.csv ; else echo \"Found previous downloaded data.\"; fi"
      ],
      "metadata": {
        "colab": {
          "base_uri": "https://localhost:8080/"
        },
        "id": "jpDwkADHjIQw",
        "outputId": "1bbc7a85-3e81-47ed-d267-6d3504fa8ae4"
      },
      "execution_count": 2,
      "outputs": [
        {
          "output_type": "stream",
          "name": "stdout",
          "text": [
            "--2022-10-10 15:01:46--  https://raw.githubusercontent.com/MLEveryday/100-Days-Of-ML-Code/master/datasets/Social_Network_Ads.csv\n",
            "Resolving raw.githubusercontent.com (raw.githubusercontent.com)... 185.199.110.133, 185.199.109.133, 185.199.108.133, ...\n",
            "Connecting to raw.githubusercontent.com (raw.githubusercontent.com)|185.199.110.133|:443... connected.\n",
            "HTTP request sent, awaiting response... 200 OK\n",
            "Length: 10926 (11K) [text/plain]\n",
            "Saving to: ‘Social_Network_Ads.csv’\n",
            "\n",
            "\rSocial_Network_Ads.   0%[                    ]       0  --.-KB/s               \rSocial_Network_Ads. 100%[===================>]  10.67K  --.-KB/s    in 0s      \n",
            "\n",
            "2022-10-10 15:01:46 (57.8 MB/s) - ‘Social_Network_Ads.csv’ saved [10926/10926]\n",
            "\n"
          ]
        }
      ]
    },
    {
      "cell_type": "code",
      "source": [
        "dataset = pd.read_csv('Social_Network_Ads.csv')\n",
        "print(dataset)\n",
        "print(type(dataset))"
      ],
      "metadata": {
        "colab": {
          "base_uri": "https://localhost:8080/"
        },
        "id": "23Vt43tpkgfC",
        "outputId": "4ccfb1fb-d915-40aa-b7dd-8f41eb68ba55"
      },
      "execution_count": 4,
      "outputs": [
        {
          "output_type": "stream",
          "name": "stdout",
          "text": [
            "      User ID  Gender  Age  EstimatedSalary  Purchased\n",
            "0    15624510    Male   19            19000          0\n",
            "1    15810944    Male   35            20000          0\n",
            "2    15668575  Female   26            43000          0\n",
            "3    15603246  Female   27            57000          0\n",
            "4    15804002    Male   19            76000          0\n",
            "..        ...     ...  ...              ...        ...\n",
            "395  15691863  Female   46            41000          1\n",
            "396  15706071    Male   51            23000          1\n",
            "397  15654296  Female   50            20000          1\n",
            "398  15755018    Male   36            33000          0\n",
            "399  15594041  Female   49            36000          1\n",
            "\n",
            "[400 rows x 5 columns]\n",
            "<class 'pandas.core.frame.DataFrame'>\n"
          ]
        }
      ]
    },
    {
      "cell_type": "code",
      "source": [
        "X = dataset.iloc[:, [2,3]].values #https://blog.csdn.net/Fwuyi/article/details/123127754#:~:text=iloc%20%5B%5D%E5%87%BD%E6%95%B0%EF%BC%8C%E5%B1%9E%E4%BA%8E%20pandas%20%E5%BA%93%EF%BC%8C%E5%85%A8%E7%A7%B0%E4%B8%BAindex%20location%EF%BC%8C%E5%8D%B3%E5%AF%B9%E6%95%B0%E6%8D%AE%E8%BF%9B%E8%A1%8C%E4%BD%8D%E7%BD%AE%E7%B4%A2%E5%BC%95%EF%BC%8C%E4%BB%8E%E8%80%8C%E5%9C%A8%E6%95%B0%E6%8D%AE%E8%A1%A8%E4%B8%AD,%E6%8F%90%E5%8F%96%E5%87%BA%E7%9B%B8%E5%BA%94%E7%9A%84%E6%95%B0%E6%8D%AE%E3%80%82%202%20iloc%E5%87%BD%E6%95%B0%E4%BD%BF%E7%94%A8%20df.iloc%20%5Ba%2Cb%5D%EF%BC%8C%E5%85%B6%E4%B8%ADdf%E6%98%AFDataFrame%E6%95%B0%E6%8D%AE%E7%BB%93%E6%9E%84%E7%9A%84%E6%95%B0%E6%8D%AE%EF%BC%88%E8%A1%A81%E5%B0%B1%E6%98%AFdf%EF%BC%89%EF%BC%8Ca%E6%98%AF%E8%A1%8C%E7%B4%A2%E5%BC%95%EF%BC%88%E8%A7%81%E8%A1%A81%EF%BC%89%EF%BC%8Cb%E6%98%AF%E5%88%97%E7%B4%A2%E5%BC%95%EF%BC%88%E8%A7%81%E8%A1%A81%EF%BC%89%E3%80%82\n",
        "# print(type(X))\n",
        "y = dataset.iloc[:, 4].values\n",
        "# y\n"
      ],
      "metadata": {
        "id": "VhBx00AlouMj"
      },
      "execution_count": 5,
      "outputs": []
    },
    {
      "cell_type": "code",
      "source": [
        "from sklearn.model_selection import train_test_split\n",
        "X_train, X_test, y_train, y_test = train_test_split(X, y, test_size=0.25, random_state=0)\n",
        "# print(X_train, X_test)\n",
        "# print(y_train, y_test)"
      ],
      "metadata": {
        "id": "26cTSOUnrjzT"
      },
      "execution_count": 22,
      "outputs": []
    },
    {
      "cell_type": "code",
      "source": [
        "from sklearn.preprocessing import StandardScaler\n",
        "sc = StandardScaler()\n",
        "X_train = sc.fit_transform(X_train)\n",
        "X_test = sc.fit_transform(X_test)\n",
        "# print(X_train, X_test)\n",
        "# print(X_test.mean())\n"
      ],
      "metadata": {
        "id": "mTdVg6spoykP"
      },
      "execution_count": 7,
      "outputs": []
    },
    {
      "cell_type": "code",
      "source": [
        "from sklearn.svm import SVC\n",
        "classifer = SVC(kernel='linear', random_state=0)\n",
        "classifer.fit(X_train, y_train)"
      ],
      "metadata": {
        "colab": {
          "base_uri": "https://localhost:8080/"
        },
        "id": "uddG5BAhemmQ",
        "outputId": "657956de-4986-4d02-f6b7-4b15398cf9be"
      },
      "execution_count": 8,
      "outputs": [
        {
          "output_type": "execute_result",
          "data": {
            "text/plain": [
              "SVC(kernel='linear', random_state=0)"
            ]
          },
          "metadata": {},
          "execution_count": 8
        }
      ]
    },
    {
      "cell_type": "code",
      "source": [
        "y_pred = classifer.predict(X_test)\n",
        "print(y_pred)"
      ],
      "metadata": {
        "colab": {
          "base_uri": "https://localhost:8080/"
        },
        "id": "QnVA3qjFfVsu",
        "outputId": "1c043331-af86-4c1c-8e5d-edf679d70000"
      },
      "execution_count": 9,
      "outputs": [
        {
          "output_type": "stream",
          "name": "stdout",
          "text": [
            "[0 0 0 0 0 0 0 1 0 0 0 0 0 0 0 1 0 0 1 0 0 1 0 1 0 1 0 0 0 0 0 0 1 0 0 0 0\n",
            " 0 0 1 0 0 0 0 1 0 0 1 0 1 1 0 0 1 1 0 0 0 0 0 0 1 0 1 0 1 0 0 0 1 1 0 0 0\n",
            " 0 0 1 0 1 1 1 1 0 0 1 1 0 1 0 0 0 1 0 0 0 0 0 0 1 1]\n"
          ]
        }
      ]
    },
    {
      "cell_type": "code",
      "source": [
        "from sklearn.metrics import confusion_matrix\n",
        "cm = confusion_matrix(y_test, y_pred)\n",
        "cm"
      ],
      "metadata": {
        "colab": {
          "base_uri": "https://localhost:8080/"
        },
        "id": "Xk0IF1RpgiPt",
        "outputId": "5d4fd138-a8b4-4215-87be-3699ecba2498"
      },
      "execution_count": 10,
      "outputs": [
        {
          "output_type": "execute_result",
          "data": {
            "text/plain": [
              "array([[63,  5],\n",
              "       [ 7, 25]])"
            ]
          },
          "metadata": {},
          "execution_count": 10
        }
      ]
    },
    {
      "cell_type": "code",
      "source": [
        "from matplotlib.colors import ListedColormap\n",
        "X_set, y_set = X_train, y_train\n",
        "X1, X2 = np.meshgrid(np.arange(start=X_set[:, 0].min() - 1, stop=X_set[:, 0].max() + 1, step=0.01),\n",
        "                     np.arange(start=X_set[:, 1].min() - 1, stop=X_set[:, 1].max() + 1, step=0.01))\n",
        "plt.contourf(X1, X2, classifer.predict(np.array([X1.ravel(), X2.ravel()]).T).reshape(X1.shape),\n",
        "             alpha=0.75, cmap=ListedColormap(('red', 'green')))\n",
        "plt.xlim(X1.min(), X1.max())\n",
        "plt.ylim(X2.min(), X2.max())\n",
        "for i, j in enumerate(np.unique(y_set)):\n",
        "    plt.scatter(X_set[y_set == j, 0], X_set[y_set == j, 1],\n",
        "                c=ListedColormap(('red', 'green'))(i), label=j)\n",
        "plt.title('SVM (Training set)')\n",
        "plt.xlabel('Age')\n",
        "plt.ylabel('Estimated Salary')\n",
        "plt.legend()\n",
        "plt.show()"
      ],
      "metadata": {
        "colab": {
          "base_uri": "https://localhost:8080/",
          "height": 352
        },
        "id": "td4jzAnimZb_",
        "outputId": "9b3db56b-62ed-4919-cbd7-5ce19368dc08"
      },
      "execution_count": 12,
      "outputs": [
        {
          "output_type": "stream",
          "name": "stderr",
          "text": [
            "WARNING:matplotlib.axes._axes:*c* argument looks like a single numeric RGB or RGBA sequence, which should be avoided as value-mapping will have precedence in case its length matches with *x* & *y*.  Please use the *color* keyword-argument or provide a 2-D array with a single row if you intend to specify the same RGB or RGBA value for all points.\n",
            "WARNING:matplotlib.axes._axes:*c* argument looks like a single numeric RGB or RGBA sequence, which should be avoided as value-mapping will have precedence in case its length matches with *x* & *y*.  Please use the *color* keyword-argument or provide a 2-D array with a single row if you intend to specify the same RGB or RGBA value for all points.\n"
          ]
        },
        {
          "output_type": "display_data",
          "data": {
            "text/plain": [
              "<Figure size 432x288 with 1 Axes>"
            ],
            "image/png": "[encoded data removed]"
          },
          "metadata": {
            "needs_background": "light"
          }
        }
      ]
    },
    {
      "cell_type": "code",
      "source": [
        "from matplotlib.colors import ListedColormap\n",
        "X_set, y_set = X_test, y_test\n",
        "X1, X2 = np.meshgrid(np.arange(start=X_set[:, 0].min() - 1, stop=X_set[:, 0].max() + 1, step=0.01),\n",
        "                     np.arange(start=X_set[:, 1].min() - 1, stop=X_set[:, 1].max() + 1, step=0.01))\n",
        "plt.contourf(X1, X2, classifer.predict(np.array([X1.ravel(), X2.ravel()]).T).reshape(X1.shape),\n",
        "             alpha=0.75, cmap=ListedColormap(('red', 'green')))\n",
        "plt.xlim(X1.min(), X1.max())\n",
        "plt.ylim(X2.min(), X2.max())\n",
        "for i, j in enumerate(np.unique(y_set)):\n",
        "    plt.scatter(X_set[y_set == j, 0], X_set[y_set == j, 1],\n",
        "                c=ListedColormap(('red', 'green'))(i), label=j)\n",
        "plt.title('SVM (Test set)')\n",
        "plt.xlabel('Age')\n",
        "plt.ylabel('Estimated Salary')\n",
        "plt.legend()\n",
        "plt.show()"
      ],
      "metadata": {
        "colab": {
          "base_uri": "https://localhost:8080/",
          "height": 352
        },
        "id": "PWptfF7im5NF",
        "outputId": "1d85e743-3b22-44f9-d416-be0c5139408b"
      },
      "execution_count": 13,
      "outputs": [
        {
          "output_type": "stream",
          "name": "stderr",
          "text": [
            "WARNING:matplotlib.axes._axes:*c* argument looks like a single numeric RGB or RGBA sequence, which should be avoided as value-mapping will have precedence in case its length matches with *x* & *y*.  Please use the *color* keyword-argument or provide a 2-D array with a single row if you intend to specify the same RGB or RGBA value for all points.\n",
            "WARNING:matplotlib.axes._axes:*c* argument looks like a single numeric RGB or RGBA sequence, which should be avoided as value-mapping will have precedence in case its length matches with *x* & *y*.  Please use the *color* keyword-argument or provide a 2-D array with a single row if you intend to specify the same RGB or RGBA value for all points.\n"
          ]
        },
        {
          "output_type": "display_data",
          "data": {
            "text/plain": [
              "<Figure size 432x288 with 1 Axes>"
            ],
            "image/png": "[encoded data removed]"
          },
          "metadata": {
            "needs_background": "light"
          }
        }
      ]
    },
    {
      "cell_type": "code",
      "source": [
        "from sklearn.pipeline import Pipeline\n",
        "from sklearn.preprocessing import StandardScaler\n",
        "from sklearn.svm import LinearSVC\n",
        "svm_clf = Pipeline((\n",
        "    (\"scaler\", StandardScaler()), \n",
        "    (\"linear_svc\", LinearSVC(C=1, loss=\"hinge\", dual=True)),\n",
        "    )) \n",
        "svm_clf.fit(X, y)"
      ],
      "metadata": {
        "colab": {
          "base_uri": "https://localhost:8080/"
        },
        "id": "BBvBLcDroHt_",
        "outputId": "92e02456-d055-402c-aa23-785b21bd8d5b"
      },
      "execution_count": 14,
      "outputs": [
        {
          "output_type": "execute_result",
          "data": {
            "text/plain": [
              "Pipeline(steps=[('scaler', StandardScaler()),\n",
              "                ('linear_svc', LinearSVC(C=1, loss='hinge'))])"
            ]
          },
          "metadata": {},
          "execution_count": 14
        }
      ]
    },
    {
      "cell_type": "code",
      "source": [
        "from sklearn.datasets import make_moons\n",
        "from sklearn.pipeline import Pipeline\n",
        "from sklearn.preprocessing import PolynomialFeatures\n",
        "\n",
        "polynomial_svm_clf = Pipeline((\n",
        "        (\"poly_features\", PolynomialFeatures(degree=3)),\n",
        "        (\"scaler\", StandardScaler()),\n",
        "        (\"svm_clf\", LinearSVC(C=10, loss=\"hinge\"))\n",
        "    ))\n",
        "\n",
        "polynomial_svm_clf.fit(X, y)"
      ],
      "metadata": {
        "colab": {
          "base_uri": "https://localhost:8080/"
        },
        "id": "A7zL2gZcqYEm",
        "outputId": "cec3a061-5c3c-4368-8213-152446a71590"
      },
      "execution_count": 15,
      "outputs": [
        {
          "output_type": "stream",
          "name": "stderr",
          "text": [
            "/usr/local/lib/python3.7/dist-packages/sklearn/svm/_base.py:1208: ConvergenceWarning: Liblinear failed to converge, increase the number of iterations.\n",
            "  ConvergenceWarning,\n"
          ]
        },
        {
          "output_type": "execute_result",
          "data": {
            "text/plain": [
              "Pipeline(steps=[('poly_features', PolynomialFeatures(degree=3)),\n",
              "                ('scaler', StandardScaler()),\n",
              "                ('svm_clf', LinearSVC(C=10, loss='hinge'))])"
            ]
          },
          "metadata": {},
          "execution_count": 15
        }
      ]
    },
    {
      "cell_type": "code",
      "source": [
        "from sklearn.svm import SVC\n",
        "poly_kernel_svm_clf = Pipeline((\n",
        "        (\"scaler\", StandardScaler()),\n",
        "        (\"svm_clf\", SVC(kernel=\"poly\", degree=3, coef0=1, C=5))\n",
        "    ))\n",
        "poly_kernel_svm_clf.fit(X, y)"
      ],
      "metadata": {
        "colab": {
          "base_uri": "https://localhost:8080/"
        },
        "id": "KbQwn_jorBiD",
        "outputId": "9f845e81-4f7e-4fee-fd29-4728f62f328e"
      },
      "execution_count": 16,
      "outputs": [
        {
          "output_type": "execute_result",
          "data": {
            "text/plain": [
              "Pipeline(steps=[('scaler', StandardScaler()),\n",
              "                ('svm_clf', SVC(C=5, coef0=1, kernel='poly'))])"
            ]
          },
          "metadata": {},
          "execution_count": 16
        }
      ]
    },
    {
      "cell_type": "markdown",
      "source": [
        "#调参实例  \n",
        "以高斯函数NuSVC进行调参示例演练，这里我选取《kaggle 泰坦尼克：从灾难中学习算法》中经过数据处理的数据集。假设 train_X 为训练特征， train_y 为训练标签，高斯核函数支持向量分类器主要需要调整的参数有两个 nu 和 gamma. 基于分类任务的评价指标指标有很多，我们这里选取 scoring='accuracy' ，有兴趣的同学也可以尝试其他的评价指标，比如 'f1' 'roc_auc' 等。"
      ],
      "metadata": {
        "id": "UiKmTaKAbyjL"
      }
    },
    {
      "cell_type": "code",
      "source": [
        "from sklearn.svm import NuSVC\n",
        "from sklearn.model_selection import cross_val_score\n",
        "from sklearn.model_selection import GridSearchCV\n"
      ],
      "metadata": {
        "id": "aj755GISu2hj"
      },
      "execution_count": 18,
      "outputs": []
    },
    {
      "cell_type": "code",
      "source": [
        "nu_list = np.linspace(0.1, 0.7, 7)\n",
        "accuracy_scroes = []\n",
        "for nu in nu_list:\n",
        "  musc = NuSVC(nu=nu)\n",
        "  scores_accuracy = cross_val_score(musc, X_train, y_train, scoring='accuracy', cv=5)\n",
        "  accuracy_scroes.append(scores_accuracy.mean())\n",
        "print(accuracy_scroes)"
      ],
      "metadata": {
        "colab": {
          "base_uri": "https://localhost:8080/"
        },
        "id": "vx2gT2dwcm6F",
        "outputId": "19c6d7de-1280-49ed-d692-fd1968086d03"
      },
      "execution_count": 24,
      "outputs": [
        {
          "output_type": "stream",
          "name": "stdout",
          "text": [
            "[0.4833333333333334, 0.57, 0.6266666666666667, 0.6033333333333333, 0.7733333333333334, 0.76, 0.76]\n"
          ]
        }
      ]
    },
    {
      "cell_type": "code",
      "source": [
        "plt.plot(nu_list, accuracy_scroes)\n",
        "plt.title(\"nu for accuracy_scroes\")"
      ],
      "metadata": {
        "colab": {
          "base_uri": "https://localhost:8080/",
          "height": 299
        },
        "id": "FAOs_wBRf9tr",
        "outputId": "8d72292a-72ce-4491-eeb9-68e7c9840196"
      },
      "execution_count": 25,
      "outputs": [
        {
          "output_type": "execute_result",
          "data": {
            "text/plain": [
              "Text(0.5, 1.0, 'nu for accuracy_scroes')"
            ]
          },
          "metadata": {},
          "execution_count": 25
        },
        {
          "output_type": "display_data",
          "data": {
            "text/plain": [
              "<Figure size 432x288 with 1 Axes>"
            ],
            "image/png": "[encoded data removed]"
          },
          "metadata": {
            "needs_background": "light"
          }
        }
      ]
    },
    {
      "cell_type": "markdown",
      "source": [
        "由上结果可知，最佳nu值出现在`0.5`左右，所以网格搜索我们设定nu的取值范围在`[0.4, 0.6]`之间  \n",
        "# **搜索gamma的最优取值范围**"
      ],
      "metadata": {
        "id": "UYrBlPG6gfFE"
      }
    },
    {
      "cell_type": "code",
      "source": [
        "gamma_list = np.linspace(0.01, 1, 91)\n",
        "accuracy_scroes = []\n",
        "for gamma in gamma_list:\n",
        "  nsvc = NuSVC(gamma=gamma, nu=0.5)\n",
        "  scores_accuracy = cross_val_score(nsvc, X_train, y_train, scoring='accuracy', cv=5)\n",
        "  accuracy_scroes.append(scores_accuracy)\n",
        "print(accuracy_scroes)"
      ],
      "metadata": {
        "colab": {
          "base_uri": "https://localhost:8080/"
        },
        "id": "_NL_eHKUgO7o",
        "outputId": "40b8570e-5fbf-4e93-d60d-ffdc89e095e7"
      },
      "execution_count": 26,
      "outputs": [
        {
          "output_type": "stream",
          "name": "stdout",
          "text": [
            "[array([0.61666667, 0.71666667, 0.65      , 0.7       , 0.75      ]), array([0.63333333, 0.7       , 0.66666667, 0.7       , 0.73333333]), array([0.61666667, 0.65      , 0.63333333, 0.68333333, 0.66666667]), array([0.63333333, 0.65      , 0.61666667, 0.68333333, 0.66666667]), array([0.63333333, 0.65      , 0.61666667, 0.68333333, 0.66666667]), array([0.63333333, 0.63333333, 0.61666667, 0.68333333, 0.66666667]), array([0.65      , 0.63333333, 0.61666667, 0.68333333, 0.66666667]), array([0.65      , 0.63333333, 0.61666667, 0.66666667, 0.68333333]), array([0.65      , 0.63333333, 0.61666667, 0.66666667, 0.68333333]), array([0.65      , 0.63333333, 0.61666667, 0.66666667, 0.68333333]), array([0.66666667, 0.63333333, 0.61666667, 0.66666667, 0.68333333]), array([0.66666667, 0.63333333, 0.61666667, 0.66666667, 0.68333333]), array([0.66666667, 0.63333333, 0.61666667, 0.66666667, 0.68333333]), array([0.66666667, 0.63333333, 0.61666667, 0.66666667, 0.68333333]), array([0.66666667, 0.63333333, 0.61666667, 0.66666667, 0.68333333]), array([0.66666667, 0.63333333, 0.6       , 0.66666667, 0.68333333]), array([0.66666667, 0.63333333, 0.6       , 0.66666667, 0.68333333]), array([0.66666667, 0.63333333, 0.6       , 0.66666667, 0.7       ]), array([0.65      , 0.63333333, 0.6       , 0.66666667, 0.7       ]), array([0.65      , 0.63333333, 0.58333333, 0.65      , 0.65      ]), array([0.65      , 0.63333333, 0.58333333, 0.65      , 0.65      ]), array([0.65      , 0.63333333, 0.58333333, 0.65      , 0.65      ]), array([0.65      , 0.63333333, 0.6       , 0.65      , 0.65      ]), array([0.65      , 0.63333333, 0.6       , 0.65      , 0.65      ]), array([0.65      , 0.63333333, 0.6       , 0.65      , 0.65      ]), array([0.65      , 0.63333333, 0.6       , 0.65      , 0.65      ]), array([0.65      , 0.63333333, 0.6       , 0.65      , 0.65      ]), array([0.65      , 0.63333333, 0.6       , 0.65      , 0.65      ]), array([0.65      , 0.63333333, 0.6       , 0.65      , 0.65      ]), array([0.65      , 0.63333333, 0.6       , 0.65      , 0.65      ]), array([0.65      , 0.63333333, 0.6       , 0.65      , 0.65      ]), array([0.65      , 0.63333333, 0.6       , 0.65      , 0.65      ]), array([0.65      , 0.63333333, 0.6       , 0.65      , 0.63333333]), array([0.65      , 0.63333333, 0.6       , 0.65      , 0.63333333]), array([0.65      , 0.63333333, 0.6       , 0.65      , 0.63333333]), array([0.65      , 0.63333333, 0.6       , 0.65      , 0.63333333]), array([0.65      , 0.63333333, 0.6       , 0.65      , 0.63333333]), array([0.65      , 0.63333333, 0.6       , 0.65      , 0.63333333]), array([0.65      , 0.63333333, 0.6       , 0.65      , 0.63333333]), array([0.65      , 0.63333333, 0.6       , 0.65      , 0.63333333]), array([0.65      , 0.63333333, 0.6       , 0.65      , 0.63333333]), array([0.65      , 0.63333333, 0.6       , 0.63333333, 0.63333333]), array([0.65      , 0.63333333, 0.6       , 0.63333333, 0.63333333]), array([0.65      , 0.63333333, 0.6       , 0.63333333, 0.63333333]), array([0.65      , 0.63333333, 0.6       , 0.63333333, 0.63333333]), array([0.65      , 0.63333333, 0.6       , 0.63333333, 0.63333333]), array([0.65      , 0.63333333, 0.6       , 0.63333333, 0.63333333]), array([0.65      , 0.65      , 0.6       , 0.63333333, 0.63333333]), array([0.65      , 0.65      , 0.6       , 0.63333333, 0.63333333]), array([0.65      , 0.65      , 0.6       , 0.63333333, 0.63333333]), array([0.65      , 0.65      , 0.6       , 0.63333333, 0.63333333]), array([0.65      , 0.65      , 0.6       , 0.63333333, 0.63333333]), array([0.65      , 0.65      , 0.6       , 0.63333333, 0.63333333]), array([0.65      , 0.65      , 0.6       , 0.63333333, 0.63333333]), array([0.65      , 0.65      , 0.6       , 0.63333333, 0.63333333]), array([0.65      , 0.65      , 0.6       , 0.63333333, 0.63333333]), array([0.65      , 0.65      , 0.6       , 0.63333333, 0.63333333]), array([0.65      , 0.65      , 0.6       , 0.63333333, 0.63333333]), array([0.65      , 0.65      , 0.6       , 0.63333333, 0.63333333]), array([0.65      , 0.65      , 0.6       , 0.63333333, 0.63333333]), array([0.65      , 0.65      , 0.6       , 0.63333333, 0.63333333]), array([0.65      , 0.65      , 0.6       , 0.63333333, 0.63333333]), array([0.65      , 0.65      , 0.6       , 0.63333333, 0.63333333]), array([0.65      , 0.65      , 0.6       , 0.63333333, 0.63333333]), array([0.65      , 0.65      , 0.6       , 0.63333333, 0.63333333]), array([0.65      , 0.65      , 0.6       , 0.63333333, 0.63333333]), array([0.65      , 0.65      , 0.6       , 0.63333333, 0.63333333]), array([0.65      , 0.65      , 0.6       , 0.63333333, 0.63333333]), array([0.65      , 0.65      , 0.6       , 0.63333333, 0.63333333]), array([0.65      , 0.65      , 0.6       , 0.63333333, 0.63333333]), array([0.65      , 0.65      , 0.6       , 0.63333333, 0.63333333]), array([0.65      , 0.65      , 0.6       , 0.63333333, 0.63333333]), array([0.65      , 0.65      , 0.6       , 0.63333333, 0.63333333]), array([0.65      , 0.65      , 0.6       , 0.63333333, 0.63333333]), array([0.65      , 0.65      , 0.6       , 0.63333333, 0.63333333]), array([0.65      , 0.65      , 0.6       , 0.63333333, 0.63333333]), array([0.65      , 0.65      , 0.6       , 0.63333333, 0.63333333]), array([0.65      , 0.65      , 0.6       , 0.63333333, 0.63333333]), array([0.65      , 0.65      , 0.6       , 0.63333333, 0.63333333]), array([0.65      , 0.65      , 0.6       , 0.63333333, 0.63333333]), array([0.65      , 0.65      , 0.6       , 0.63333333, 0.63333333]), array([0.65      , 0.65      , 0.6       , 0.63333333, 0.63333333]), array([0.65      , 0.65      , 0.6       , 0.63333333, 0.63333333]), array([0.65      , 0.65      , 0.6       , 0.63333333, 0.63333333]), array([0.65      , 0.65      , 0.6       , 0.63333333, 0.63333333]), array([0.65      , 0.65      , 0.6       , 0.63333333, 0.63333333]), array([0.65      , 0.65      , 0.6       , 0.63333333, 0.63333333]), array([0.65      , 0.65      , 0.6       , 0.63333333, 0.63333333]), array([0.65      , 0.65      , 0.6       , 0.63333333, 0.63333333]), array([0.65      , 0.65      , 0.6       , 0.63333333, 0.63333333]), array([0.65      , 0.65      , 0.6       , 0.63333333, 0.63333333])]\n"
          ]
        }
      ]
    },
    {
      "cell_type": "code",
      "source": [
        "plt.plot(gamma_list, accuracy_scroes)\n",
        "plt.title('gamma for accuracy_scores')"
      ],
      "metadata": {
        "colab": {
          "base_uri": "https://localhost:8080/",
          "height": 299
        },
        "id": "caIc7BhYj1Xi",
        "outputId": "72b4e697-47a4-4714-ce6e-0c01e12a8fee"
      },
      "execution_count": 27,
      "outputs": [
        {
          "output_type": "execute_result",
          "data": {
            "text/plain": [
              "Text(0.5, 1.0, 'gamma for accuracy_scores')"
            ]
          },
          "metadata": {},
          "execution_count": 27
        },
        {
          "output_type": "display_data",
          "data": {
            "text/plain": [
              "<Figure size 432x288 with 1 Axes>"
            ],
            "image/png": "[encoded data removed]"
          },
          "metadata": {
            "needs_background": "light"
          }
        }
      ]
    },
    {
      "cell_type": "markdown",
      "source": [
        "由上结果就可以知道`gamma`值的最优结果在`0.02`左右，所以网格搜索设定ganmma的取值范围在`(0, 0.2]`之间  \n",
        "# 网格搜索"
      ],
      "metadata": {
        "id": "kLk86-kdkX04"
      }
    },
    {
      "cell_type": "code",
      "source": [
        "import numpy as np\n",
        "from joblib.logger import PrintTime\n",
        "param_grid = {'nu': np.linspace(0.3, 0.6, 31), 'gamma': np.linspace(0.01, 0.2, 191)}\n",
        "gsearch = GridSearchCV(NuSVC(), param_grid=param_grid, scoring='accuracy', cv=5)\n",
        "gsearch.fit(X_train, y_train)\n",
        "print(gsearch.best_params_)\n",
        "print(gsearch.best_score_)"
      ],
      "metadata": {
        "colab": {
          "base_uri": "https://localhost:8080/"
        },
        "id": "Pj0CBXNsk-bG",
        "outputId": "150e6913-3786-47c9-fa35-95a24023f008"
      },
      "execution_count": 31,
      "outputs": [
        {
          "output_type": "stream",
          "name": "stdout",
          "text": [
            "{'gamma': 0.015, 'nu': 0.5700000000000001}\n",
            "0.6966666666666667\n"
          ]
        }
      ]
    },
    {
      "cell_type": "markdown",
      "source": [
        "输出结果为  \n",
        "`{'gamma': 0.015, 'nu': 0.5700000000000001}\n",
        "\n",
        "0.6966666666666667`  \n",
        "所以`gamma=0.015 nu=0.57`即为最优参数"
      ],
      "metadata": {
        "id": "qjvCFyjYnh61"
      }
    },
    {
      "cell_type": "markdown",
      "source": [],
      "metadata": {
        "id": "Oq0YH5_-iUlT"
      }
    }
  ]
}