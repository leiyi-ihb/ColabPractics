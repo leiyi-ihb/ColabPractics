{
  "nbformat": 4,
  "nbformat_minor": 0,
  "metadata": {
    "colab": {
      "provenance": [],
      "authorship_tag": "ABX9TyPcVqLl72oDs5peDBFBmqvz",
      "include_colab_link": true
    },
    "kernelspec": {
      "name": "python3",
      "display_name": "Python 3"
    },
    "language_info": {
      "name": "python"
    }
  },
  "cells": [
    {
      "cell_type": "markdown",
      "metadata": {
        "id": "view-in-github",
        "colab_type": "text"
      },
      "source": [
        "<a href=\"https://colab.research.google.com/github/leiyi-ihb/ColabPractics/blob/main/Picture/pandas%E6%95%B0%E6%8D%AE%E8%AF%BB%E5%8F%96.ipynb\" target=\"_parent\"><img src=\"https://colab.research.google.com/assets/colab-badge.svg\" alt=\"Open In Colab\"/></a>"
      ]
    },
    {
      "cell_type": "code",
      "execution_count": 1,
      "metadata": {
        "id": "14ryz6Abkhxz"
      },
      "outputs": [],
      "source": [
        "import pandas as pd"
      ]
    },
    {
      "cell_type": "markdown",
      "source": [
        "## pandas数据读取的十八般武艺  \n",
        "前两天使用pandas读取csv文件遇到了问题，花了一些时间才解决，原来有时候仅仅是文件读取，也能让人“痛不欲生”，是以为必根除之，所以来做一下总结。  \n",
        "本文讲述pandas和numpy一般的读取文件方法。在读取文件开始前，首先我们要知道，文件类型多种多样，而对于我们要讲述的当然是一般存储数据的文件样式，如txt, csv,excel等\n",
        "### pandas读取文件  \n",
        "你知道pandas包有多少种函数可以用来读取文件吗？   \n",
        "pd.read_csv  \n",
        "pd.read_table  \n",
        "pd.ExcelFile或pandas.read_excel  \n",
        "jsons数据读取  \n",
        "pd.read_pickle  \n",
        "pd.read_sql"
      ],
      "metadata": {
        "id": "nOznf7oVkoJo"
      }
    },
    {
      "cell_type": "code",
      "source": [],
      "metadata": {
        "id": "IB_CW3pNnDjA"
      },
      "execution_count": null,
      "outputs": []
    }
  ]
}