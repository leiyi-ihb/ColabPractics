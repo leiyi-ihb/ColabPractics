{
  "nbformat": 4,
  "nbformat_minor": 0,
  "metadata": {
    "colab": {
      "provenance": [],
      "authorship_tag": "ABX9TyNDp3tYbK+SoU9Qg5/PQpwo",
      "include_colab_link": true
    },
    "kernelspec": {
      "name": "python3",
      "display_name": "Python 3"
    },
    "language_info": {
      "name": "python"
    }
  },
  "cells": [
    {
      "cell_type": "markdown",
      "metadata": {
        "id": "view-in-github",
        "colab_type": "text"
      },
      "source": [
        "<a href=\"https://colab.research.google.com/github/leiyi-ihb/ColabPractics/blob/main/B_practices/keras_example02_%E5%81%9A%E4%B8%AA%E7%AE%80%E5%8D%95%E7%9A%84%E9%9D%9E%E7%BA%BF%E6%80%A7%E5%9B%9E%E5%BD%92%E8%AE%AD%E7%BB%83.ipynb\" target=\"_parent\"><img src=\"https://colab.research.google.com/assets/colab-badge.svg\" alt=\"Open In Colab\"/></a>"
      ]
    },
    {
      "cell_type": "code",
      "execution_count": null,
      "metadata": {
        "id": "DfyFfnAN3uvy"
      },
      "outputs": [],
      "source": [
        "#ly:2022-10-29\n",
        "#做个简单的非线性回归\n",
        "#From: B站，人工智能前沿技术-2.3\n",
        "# 模型导入：一般都会导入这几个层\n",
        "import keras\n",
        "import numpy as np\n",
        "import matplotlib.pyplot as plt\n",
        "from keras.models import Sequential\n",
        "from keras.layers import Dense"
      ]
    },
    {
      "cell_type": "code",
      "source": [
        "#生成200个随机点\n",
        "x_data = np.linspace(-0.5, 0.5, 200)\n",
        "noice = np.random.normal(0, 0.02,x_data.shape)\n",
        "y_data = np.square(x_data) + noice #开平方，这样就是非线性的\n",
        "\n",
        "#显示随机点\n",
        "plt.scatter(x_data, y_data)\n",
        "plt.show()"
      ],
      "metadata": {
        "colab": {
          "base_uri": "https://localhost:8080/",
          "height": 265
        },
        "id": "R5Rt5f863_bn",
        "outputId": "50f099d9-64d9-4153-8c26-5f272b4ef32c"
      },
      "execution_count": null,
      "outputs": [
        {
          "output_type": "display_data",
          "data": {
            "text/plain": [
              "<Figure size 432x288 with 1 Axes>"
            ],
            "image/png": "[encoded data removed]"
          },
          "metadata": {
            "needs_background": "light"
          }
        }
      ]
    },
    {
      "cell_type": "markdown",
      "source": [
        "### 明显这个是非线性的，那么用上节课的线性肯定是不能拟合的\n",
        "我们先尝试来拟合一下"
      ],
      "metadata": {
        "id": "QiSfQj_o9Pvf"
      }
    },
    {
      "cell_type": "code",
      "source": [
        "model = Sequential()\n",
        "model.add(Dense(units=1, input_dim=1)) #在模型中添加一个全连接层\n",
        "\n",
        "#编译模型\n",
        "model.compile(optimizer='sgd', loss='mse')\n",
        "\n",
        "#训练300个批次\n",
        "for step in range(3001):\n",
        "  #每次训练一个批次\n",
        "  cost = model.train_on_batch(x_data, y_data) #这里每次batch都将所有数据进行训练\n",
        "  #没500个batch，打印一次cost值\n",
        "  if step % 500 == 0:\n",
        "    print(\"loss:\", cost)\n",
        "\n",
        "#打印权值和偏置值\n",
        "w, b = model.layers[0].get_weights() #这里的0表示第一层，我们这里只有一层\n",
        "print(\"w:\", w, \"b:\", b)\n",
        "\n",
        "# x_data输入网络中，得到预测值y_pred\n",
        "y_pred= model.predict(x_data)\n",
        "\n",
        "# 显示随机点\n",
        "plt.scatter(x_data, y_data)\n",
        "\n",
        "# 显示预测结果\n",
        "plt.plot(x_data, y_pred, \"r-\", lw=1)\n",
        "# plt.scatter(x_data, y_pred)\n",
        "plt.show()"
      ],
      "metadata": {
        "colab": {
          "base_uri": "https://localhost:8080/",
          "height": 421
        },
        "id": "OV9ad7gR9mUq",
        "outputId": "954dc508-3a4b-49a6-926e-a172bbb71611"
      },
      "execution_count": null,
      "outputs": [
        {
          "output_type": "stream",
          "name": "stdout",
          "text": [
            "loss: 0.19797290861606598\n",
            "loss: 0.04043830558657646\n",
            "loss: 0.01251885388046503\n",
            "loss: 0.00734048942103982\n",
            "loss: 0.006380033679306507\n",
            "loss: 0.006201893091201782\n",
            "loss: 0.006168851628899574\n",
            "w: [[0.00107742]] b: [0.08369752]\n",
            "7/7 [==============================] - 0s 2ms/step\n"
          ]
        },
        {
          "output_type": "display_data",
          "data": {
            "text/plain": [
              "<Figure size 432x288 with 1 Axes>"
            ],
            "image/png": "[encoded data removed]"
          },
          "metadata": {
            "needs_background": "light"
          }
        }
      ]
    },
    {
      "cell_type": "markdown",
      "source": [
        "**结果：**可以发现损失(loss)到达约0.006后，基本就没怎么变化了，而且拟合也是不好的  \n",
        "我们接下来添加非线性拟合"
      ],
      "metadata": {
        "id": "Jcf_oTYb9wdO"
      }
    },
    {
      "cell_type": "code",
      "source": [
        "model = Sequential()\n",
        "# model.add(Dense(units=1, input_dim=1)) #这只有一个输入单元（神经元），一个输出单元（神经元），太简单了，就不能拟合复杂的，因此我们需要多加一些神经元和隐藏层\n",
        "#输入1，中间层（隐藏层）10\n",
        "model.add(Dense(units=10, input_dim=1)) #这同时意味着这里的输出也会是10\n",
        "#输出层1\n",
        "model.add(Dense(units=1)) #等同于model.add(Dense(units=1, input_dim=10))这个input_dim=10其实就是自动承接的上一层的输出\n",
        "\n",
        "#编译模型\n",
        "model.compile(optimizer='sgd', loss='mse')\n",
        "\n",
        "#训练300个批次\n",
        "for step in range(3001):\n",
        "  #每次训练一个批次\n",
        "  cost = model.train_on_batch(x_data, y_data) #这里每次batch都将所有数据进行训练\n",
        "  #没500个batch，打印一次cost值\n",
        "  if step % 500 == 0:\n",
        "    print(\"loss:\", cost)\n",
        "\n",
        "#打印权值和偏置值\n",
        "w, b = model.layers[0].get_weights() #这里的0表示第一层，我们这里只有一层\n",
        "print(\"w:\", w, \"b:\", b)\n",
        "\n",
        "# x_data输入网络中，得到预测值y_pred\n",
        "y_pred= model.predict(x_data)\n",
        "\n",
        "# 显示随机点\n",
        "plt.scatter(x_data, y_data)\n",
        "\n",
        "# 显示预测结果\n",
        "plt.plot(x_data, y_pred, \"r-\", lw=1)\n",
        "# plt.scatter(x_data, y_pred)\n",
        "plt.show()"
      ],
      "metadata": {
        "id": "6iPxGeXR-HZB"
      },
      "execution_count": null,
      "outputs": []
    }
  ]
}