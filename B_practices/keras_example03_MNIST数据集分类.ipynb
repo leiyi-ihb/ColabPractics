{
  "nbformat": 4,
  "nbformat_minor": 0,
  "metadata": {
    "colab": {
      "provenance": [],
      "authorship_tag": "ABX9TyPFS3zpEAUfZ3Y2iaiZI7FR",
      "include_colab_link": true
    },
    "kernelspec": {
      "name": "python3",
      "display_name": "Python 3"
    },
    "language_info": {
      "name": "python"
    }
  },
  "cells": [
    {
      "cell_type": "markdown",
      "metadata": {
        "id": "view-in-github",
        "colab_type": "text"
      },
      "source": [
        "<a href=\"https://colab.research.google.com/github/leiyi-ihb/ColabPractics/blob/main/B_practices/keras_example03_MNIST%E6%95%B0%E6%8D%AE%E9%9B%86%E5%88%86%E7%B1%BB.ipynb\" target=\"_parent\"><img src=\"https://colab.research.google.com/assets/colab-badge.svg\" alt=\"Open In Colab\"/></a>"
      ]
    },
    {
      "cell_type": "code",
      "execution_count": 1,
      "metadata": {
        "id": "ORaWwGg-8sld"
      },
      "outputs": [],
      "source": [
        "import numpy as np\n",
        "from keras.datasets import mnist\n",
        "from keras.models import Sequential\n",
        "from keras.layers import Dense\n",
        "from keras.optimizers import SGD "
      ]
    },
    {
      "cell_type": "code",
      "source": [
        "#输入数据\n",
        "(x_train, y_train), (x_test, y_test)=mnist.load_data()\n",
        "print(x_train.shape, y_train.shape)\n",
        "print(x_test.shape, y_test.shape)"
      ],
      "metadata": {
        "colab": {
          "base_uri": "https://localhost:8080/"
        },
        "id": "DjptnOLA9tQq",
        "outputId": "2eb590ac-fbd9-450d-f90a-0c3eeaa9da4b"
      },
      "execution_count": 2,
      "outputs": [
        {
          "output_type": "stream",
          "name": "stdout",
          "text": [
            "Downloading data from https://storage.googleapis.com/tensorflow/tf-keras-datasets/mnist.npz\n",
            "11490434/11490434 [==============================] - 0s 0us/step\n",
            "(60000, 28, 28) (60000,)\n",
            "(10000, 28, 28) (10000,)\n"
          ]
        }
      ]
    },
    {
      "cell_type": "code",
      "source": [
        "from os import XATTR_CREATE\n",
        "# 将(60000, 28, 28)转为(60000, 784)，这里的784其实就是28*28【我的理解应该是降维处理】\n",
        "x_train = x_train.reshape(x_train.shape[0], -1) #行数就是取原来的60000，列数取-1表示不确定，由程序自己判断。 \n",
        "# x_train = x_train.reshape(x_train.shape[0], 784) #跟上面一样的结果\n",
        "x_test = x_test.reshape(x_test.shape[0], -1)\n",
        "print(x_train.shape, len(x_train[0])) #可以发现，数据就变成一个60000行，784列的数据了\n",
        "# print(x_train[0])\n",
        "\n",
        "#需要对数据做个归一化\n",
        "print(x_train.max()) \n",
        "x_train = x_train/255 #知道这里为什么除的是255吗？最大值为255\n",
        "# print(x_train[0])\n",
        "print(x_train.max())\n",
        "\n",
        "x_test = x_test/255\n",
        "\n",
        "# 转换label为one hot形式\n",
        "from keras.utils import np_utils\n",
        "print(y_train[0])\n",
        "y_train = np_utils.to_categorical(y_train, num_classes=10) #这里为啥分为10个类没有讲清楚\n",
        "y_test = np_utils.to_categorical(y_test, num_classes=10) #这里为啥分为10个类没有讲清楚\n",
        "print(y_train[0])"
      ],
      "metadata": {
        "colab": {
          "base_uri": "https://localhost:8080/"
        },
        "id": "QK1N_lqE_l0j",
        "outputId": "0d577d58-0136-42e1-a30c-121f2cdef79d"
      },
      "execution_count": 5,
      "outputs": [
        {
          "output_type": "stream",
          "name": "stdout",
          "text": [
            "(60000, 784) 784\n",
            "1.0\n",
            "0.00392156862745098\n",
            "[0. 0. 0. 0. 0. 1. 0. 0. 0. 0.]\n",
            "[[1. 0. 0. 0. 0. 0. 0. 0. 0. 0.]\n",
            " [1. 0. 0. 0. 0. 0. 0. 0. 0. 0.]\n",
            " [1. 0. 0. 0. 0. 0. 0. 0. 0. 0.]\n",
            " [1. 0. 0. 0. 0. 0. 0. 0. 0. 0.]\n",
            " [1. 0. 0. 0. 0. 0. 0. 0. 0. 0.]\n",
            " [0. 1. 0. 0. 0. 0. 0. 0. 0. 0.]\n",
            " [1. 0. 0. 0. 0. 0. 0. 0. 0. 0.]\n",
            " [1. 0. 0. 0. 0. 0. 0. 0. 0. 0.]\n",
            " [1. 0. 0. 0. 0. 0. 0. 0. 0. 0.]\n",
            " [1. 0. 0. 0. 0. 0. 0. 0. 0. 0.]]\n",
            "60000\n"
          ]
        }
      ]
    },
    {
      "cell_type": "markdown",
      "source": [
        "**Note:**知道为什么要将(60000, 28, 28)转换为(60000, 784)吗？其实是Dense层输入数据要求为(nb_samples, input_dim)的2D张量"
      ],
      "metadata": {
        "id": "WkP6GKBeu5fs"
      }
    },
    {
      "cell_type": "markdown",
      "source": [
        "## 上面就处理好数据了，接下来开始创建模型"
      ],
      "metadata": {
        "id": "SnT56gaHGZa6"
      }
    },
    {
      "cell_type": "code",
      "source": [
        "# 创建模型\n",
        "model = Sequential([\n",
        "    Dense(units=10, input_dim=784, bias_initializer=\"one\", activation=\"softmax\")\n",
        "])\n",
        "\n",
        "# 定义优化器，编译模型。一定要注意optimizer别写成Optimizer或optimizers噢噢噢噢\n",
        "sgd = SGD(lr=0.2)\n",
        "model.compile(optimizer=sgd, loss=\"mse\", metrics= ['accuracy']) \n",
        "\n",
        "# 开始训练模型\n",
        "model.fit(x_train, y_train, epochs=10, batch_size=32)\n",
        "\n",
        "# 评估模型\n",
        "loss, accuracy = model.evaluate(x_test, y_test)\n",
        "print(\"loss:\", loss)\n",
        "print('accuracy:', accuracy)"
      ],
      "metadata": {
        "colab": {
          "base_uri": "https://localhost:8080/"
        },
        "id": "xRSqUFgfGfTu",
        "outputId": "a82d5028-a454-4884-83f0-5bf48b59c56c"
      },
      "execution_count": 4,
      "outputs": [
        {
          "output_type": "stream",
          "name": "stderr",
          "text": [
            "/usr/local/lib/python3.7/dist-packages/keras/optimizers/optimizer_v2/gradient_descent.py:108: UserWarning: The `lr` argument is deprecated, use `learning_rate` instead.\n",
            "  super(SGD, self).__init__(name, **kwargs)\n"
          ]
        },
        {
          "output_type": "stream",
          "name": "stdout",
          "text": [
            "Epoch 1/10\n",
            "1875/1875 [==============================] - 5s 3ms/step - loss: 0.0373 - accuracy: 0.7767\n",
            "Epoch 2/10\n",
            "1875/1875 [==============================] - 7s 4ms/step - loss: 0.0202 - accuracy: 0.8816\n",
            "Epoch 3/10\n",
            "1875/1875 [==============================] - 4s 2ms/step - loss: 0.0177 - accuracy: 0.8928\n",
            "Epoch 4/10\n",
            "1875/1875 [==============================] - 4s 2ms/step - loss: 0.0164 - accuracy: 0.8994\n",
            "Epoch 5/10\n",
            "1875/1875 [==============================] - 4s 2ms/step - loss: 0.0156 - accuracy: 0.9034\n",
            "Epoch 6/10\n",
            "1875/1875 [==============================] - 4s 2ms/step - loss: 0.0151 - accuracy: 0.9061\n",
            "Epoch 7/10\n",
            "1875/1875 [==============================] - 4s 2ms/step - loss: 0.0146 - accuracy: 0.9087\n",
            "Epoch 8/10\n",
            "1875/1875 [==============================] - 4s 2ms/step - loss: 0.0143 - accuracy: 0.9105\n",
            "Epoch 9/10\n",
            "1875/1875 [==============================] - 4s 2ms/step - loss: 0.0140 - accuracy: 0.9125\n",
            "Epoch 10/10\n",
            "1875/1875 [==============================] - 4s 2ms/step - loss: 0.0138 - accuracy: 0.9134\n",
            "313/313 [==============================] - 1s 2ms/step - loss: 0.0130 - accuracy: 0.9186\n",
            "loss: 0.013044792227447033\n",
            "accuracy: 0.9186000227928162\n"
          ]
        }
      ]
    },
    {
      "cell_type": "code",
      "source": [
        "{i: v for i, v in enumerate(model.layers)}"
      ],
      "metadata": {
        "id": "nb40Z__gGVHa",
        "colab": {
          "base_uri": "https://localhost:8080/"
        },
        "outputId": "3b9af2e4-3da2-49e9-afa6-68b816e8d8b1"
      },
      "execution_count": 7,
      "outputs": [
        {
          "output_type": "execute_result",
          "data": {
            "text/plain": [
              "{0: <keras.layers.core.dense.Dense at 0x7f27312fe550>}"
            ]
          },
          "metadata": {},
          "execution_count": 7
        }
      ]
    }
  ]
}