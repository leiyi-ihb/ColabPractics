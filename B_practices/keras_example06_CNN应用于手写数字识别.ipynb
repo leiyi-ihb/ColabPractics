{
  "nbformat": 4,
  "nbformat_minor": 0,
  "metadata": {
    "colab": {
      "provenance": [],
      "authorship_tag": "ABX9TyNw63Sfz3ZnjIW+KaqVqjqb",
      "include_colab_link": true
    },
    "kernelspec": {
      "name": "python3",
      "display_name": "Python 3"
    },
    "language_info": {
      "name": "python"
    }
  },
  "cells": [
    {
      "cell_type": "markdown",
      "metadata": {
        "id": "view-in-github",
        "colab_type": "text"
      },
      "source": [
        "<a href=\"https://colab.research.google.com/github/leiyi-ihb/ColabPractics/blob/main/B_practices/keras_example06_CNN%E5%BA%94%E7%94%A8%E4%BA%8E%E6%89%8B%E5%86%99%E6%95%B0%E5%AD%97%E8%AF%86%E5%88%AB.ipynb\" target=\"_parent\"><img src=\"https://colab.research.google.com/assets/colab-badge.svg\" alt=\"Open In Colab\"/></a>"
      ]
    },
    {
      "cell_type": "code",
      "execution_count": 7,
      "metadata": {
        "id": "j-hDcNx9y3du"
      },
      "outputs": [],
      "source": [
        "# CNN应用于手写数字识别\n",
        "# 尽管我没看出来这是手写数字识别，但我还是按作者的来取标题\n",
        "import numpy as np\n",
        "from keras.datasets import mnist\n",
        "from keras.utils import np_utils\n",
        "from keras.models import Sequential\n",
        "from keras.layers import Dense, Dropout, Convolution2D, MaxPool2D, Flatten\n",
        "from keras.optimizers import Adam"
      ]
    },
    {
      "cell_type": "code",
      "source": [
        "# 载入数据\n",
        "(x_train, y_train), (x_test, y_test)=mnist.load_data()\n",
        "print(x_train.shape, y_train.shape)\n",
        "print(x_test.shape, y_test.shape)"
      ],
      "metadata": {
        "colab": {
          "base_uri": "https://localhost:8080/"
        },
        "id": "LHGYuz1yzdGq",
        "outputId": "7cee2c05-509a-4ad2-fe3d-69cbfb6866ab"
      },
      "execution_count": 3,
      "outputs": [
        {
          "output_type": "stream",
          "name": "stdout",
          "text": [
            "Downloading data from https://storage.googleapis.com/tensorflow/tf-keras-datasets/mnist.npz\n",
            "11490434/11490434 [==============================] - 0s 0us/step\n",
            "(60000, 28, 28) (60000,)\n",
            "(10000, 28, 28) (10000,)\n"
          ]
        }
      ]
    },
    {
      "cell_type": "code",
      "source": [
        "# 将(60000, 28, 28)转为4维的(60000, 28, 28, 1)。第一个维度为样本个数，第二、三维度分别是图片的长和宽，第四个维度是图片的深度，也就是图片的颜色（一般认为黑白图片深度为1，彩色图片深度为3）.这里用的是黑白图片，因此是1\n",
        "x_train = x_train.reshape(-1, 28, 28, 1)/255 #-1表示会自动匹配，直至输入60000也行，除以255是为了归一化，将数据归一化到(0-1)【跟前面课时讲的一样】。\n",
        "x_test = x_test.reshape(-1, 28, 28, 1)/255\n",
        "\n",
        "# 转换label为one hot形式\n",
        "from keras.utils import np_utils\n",
        "print(y_train[0])\n",
        "y_train = np_utils.to_categorical(y_train, num_classes=10) #这里为啥分为10个类没有讲清楚\n",
        "y_test = np_utils.to_categorical(y_test, num_classes=10) #这里为啥分为10个类没有讲清楚\n",
        "print(y_train[0])"
      ],
      "metadata": {
        "colab": {
          "base_uri": "https://localhost:8080/"
        },
        "id": "lPIe6-2nz7B6",
        "outputId": "7c5a73e6-1aa3-4880-c147-b5fb29f4d848"
      },
      "execution_count": 5,
      "outputs": [
        {
          "output_type": "stream",
          "name": "stdout",
          "text": [
            "5\n",
            "[0. 0. 0. 0. 0. 1. 0. 0. 0. 0.]\n"
          ]
        }
      ]
    },
    {
      "cell_type": "code",
      "source": [
        "from keras.layers.pooling.max_pooling2d import MaxPooling2D\n",
        "from keras.layers.convolutional.conv1d import Convolution1D\n",
        "model = Sequential()\n",
        "model.add(Convolution2D(input_shape=(28, 28, 1), #设置的输入平面。可以发现，其实跟前面几节课相比，输入是很有规律的\n",
        "                        filters=32, #卷积核，也叫滤波器，的个数\n",
        "                        kernel_size=5, #卷积核窗口大小\n",
        "                        strides=1, \n",
        "                        padding=\"same\", \n",
        "                        activation=\"relu\"))\n",
        "\n",
        "#加池化层\n",
        "model.add(MaxPooling2D(pool_size=2, \n",
        "                        strides=2, \n",
        "                        padding=\"same\"\n",
        "                        ))\n",
        "\n",
        "\n",
        "#加第二个卷积层\n",
        "model.add(Convolution2D(64, 5, #直接写数字，就是python的传参语法，第一个参数为filters, 第二个参数为kernel_size，当然也可以直接写出来\n",
        "                        strides=1,\n",
        "                        padding=\"same\",\n",
        "                        activation=\"relu\"))\n",
        "\n",
        "#加第二个池化层\n",
        "model.add(MaxPooling2D(2, 2, \"same\"))\n",
        "\n",
        "#将第二个池化层的输出扁平化为1维数据\n",
        "model.add(Flatten())\n",
        "\n",
        "#加第一个全连接层\n",
        "model.add(Dense(1024, activation=\"relu\"))\n",
        "\n",
        "#加Dropout\n",
        "model.add(Dropout(0.5))\n",
        "\n",
        "#加第二个全连接层\n",
        "model.add(Dense(10, activation=\"softmax\"))\n",
        "\n",
        "#定义优化器\n",
        "adam = Adam(lr=1e-4)\n",
        "\n",
        "#模型编译\n",
        "model.compile(optimizer=adam, loss=\"categorical_crossentropy\", metrics= ['accuracy'])\n",
        "\n",
        "# 开始训练模型\n",
        "model.fit(x_train, y_train, epochs=10, batch_size=64)\n",
        "\n",
        "# 评估模型\n",
        "loss, accuracy = model.evaluate(x_test, y_test)\n",
        "print(\"\\ntest loss:\", loss)\n",
        "print('accuracy:', accuracy)\n",
        "\n",
        "loss, accuracy = model.evaluate(x_train, y_train) #将我们的训练集也评估一下\n",
        "print(\"\\ntrain loss:\", loss)\n",
        "print('accuracy:', accuracy)"
      ],
      "metadata": {
        "colab": {
          "base_uri": "https://localhost:8080/"
        },
        "id": "VSskO1qO2Byi",
        "outputId": "d1a580fc-5f1f-4c5a-bbf4-e0760ce2bbdc"
      },
      "execution_count": 6,
      "outputs": [
        {
          "output_type": "stream",
          "name": "stdout",
          "text": [
            "Epoch 1/10\n",
            "938/938 [==============================] - 124s 131ms/step - loss: 0.3430 - accuracy: 0.9024\n",
            "Epoch 2/10\n",
            "938/938 [==============================] - 121s 129ms/step - loss: 0.0925 - accuracy: 0.9724\n",
            "Epoch 3/10\n",
            "938/938 [==============================] - 122s 130ms/step - loss: 0.0615 - accuracy: 0.9812\n",
            "Epoch 4/10\n",
            "938/938 [==============================] - 120s 128ms/step - loss: 0.0511 - accuracy: 0.9842\n",
            "Epoch 5/10\n",
            "938/938 [==============================] - 122s 130ms/step - loss: 0.0415 - accuracy: 0.9872\n",
            "Epoch 6/10\n",
            "938/938 [==============================] - 123s 131ms/step - loss: 0.0348 - accuracy: 0.9887\n",
            "Epoch 7/10\n",
            "938/938 [==============================] - 133s 142ms/step - loss: 0.0307 - accuracy: 0.9908\n",
            "Epoch 8/10\n",
            "938/938 [==============================] - 126s 134ms/step - loss: 0.0270 - accuracy: 0.9916\n",
            "Epoch 9/10\n",
            "938/938 [==============================] - 122s 130ms/step - loss: 0.0237 - accuracy: 0.9924\n",
            "Epoch 10/10\n",
            "938/938 [==============================] - 132s 141ms/step - loss: 0.0206 - accuracy: 0.9935\n",
            "313/313 [==============================] - 6s 20ms/step - loss: 0.0196 - accuracy: 0.9933\n",
            "\n",
            "test loss: 0.019607311114668846\n",
            "accuracy: 0.9933000206947327\n",
            "1875/1875 [==============================] - 38s 20ms/step - loss: 0.0113 - accuracy: 0.9970\n",
            "\n",
            "train loss: 0.011278955265879631\n",
            "accuracy: 0.9970333576202393\n"
          ]
        }
      ]
    },
    {
      "cell_type": "markdown",
      "source": [
        "**结果：**使用卷积的时候，没有GPU，迭代速率会慢很多，都上百秒了，前几节课运行也就几十秒。不过按讲述者来说，结果就是好，卷积的学习结果就是好。"
      ],
      "metadata": {
        "id": "lxWDIGN3AHnO"
      }
    }
  ]
}