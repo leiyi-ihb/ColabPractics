{
  "nbformat": 4,
  "nbformat_minor": 0,
  "metadata": {
    "colab": {
      "provenance": [],
      "collapsed_sections": [],
      "authorship_tag": "ABX9TyMUanL1phrgiuYV+3ZBpdKr",
      "include_colab_link": true
    },
    "kernelspec": {
      "name": "python3",
      "display_name": "Python 3"
    },
    "language_info": {
      "name": "python"
    }
  },
  "cells": [
    {
      "cell_type": "markdown",
      "metadata": {
        "id": "view-in-github",
        "colab_type": "text"
      },
      "source": [
        "<a href=\"https://colab.research.google.com/github/leiyi-ihb/ColabPractics/blob/main/Fullstack_day25_%E7%B1%BB%E5%AF%B9%E8%B1%A1.ipynb\" target=\"_parent\"><img src=\"https://colab.research.google.com/assets/colab-badge.svg\" alt=\"Open In Colab\"/></a>"
      ]
    },
    {
      "cell_type": "code",
      "execution_count": null,
      "metadata": {
        "id": "ygBDb6fWYSKZ"
      },
      "outputs": [],
      "source": [
        "# Fullstack_day25_类对象：\n",
        "'''\n",
        "1、成员修饰符；\n",
        "2、特殊成员；\n",
        "3、metaclass，类的祖宗;\n",
        "4、异常处理;\n",
        "5、反射；\n",
        "6、单列模式\n",
        "'''"
      ]
    },
    {
      "cell_type": "markdown",
      "source": [
        "## 成员修饰符:Python就两类：共有成员和私有成员\n"
      ],
      "metadata": {
        "id": "IjWkqt5NZgu7"
      }
    },
    {
      "cell_type": "code",
      "source": [
        "class Foo:\n",
        "  def __init__(self, n, a) -> None:\n",
        "    self.name = n\n",
        "    self.age = a\n",
        "\n",
        "if __name__=='__main__':\n",
        "  obj = Foo(\"alex\", 24)\n",
        "  print(obj.name)\n",
        "  print(obj.age)"
      ],
      "metadata": {
        "colab": {
          "base_uri": "https://localhost:8080/"
        },
        "id": "5x_N9RsvaQaQ",
        "outputId": "5c7c39ba-9372-4ad7-d69a-6d37892d33b6"
      },
      "execution_count": null,
      "outputs": [
        {
          "output_type": "stream",
          "name": "stdout",
          "text": [
            "alex\n",
            "24\n"
          ]
        }
      ]
    },
    {
      "cell_type": "code",
      "source": [
        "class Foo:\n",
        "  def __init__(self, n, a) -> None:\n",
        "    self.name = n\n",
        "    self.__age = a #加了\"__\"就变成私有了，外部无法访问了\n",
        "\n",
        "if __name__=='__main__':\n",
        "  obj = Foo(\"alex\", 24)\n",
        "  print(obj.name)\n",
        "  print(obj.__age) #会报错: AttributeError: 'Foo' object has no attribute '__age' 【私有，外部无法直接访问了】\n",
        "\n",
        "# 由上可知，外部无法直接访问，那我们一定要访问该怎么办呢？可以尝试如下间接访问"
      ],
      "metadata": {
        "colab": {
          "base_uri": "https://localhost:8080/",
          "height": 217
        },
        "id": "ytxoNNIebGkt",
        "outputId": "d47d34d0-74f4-4301-c047-389aba2a2de7"
      },
      "execution_count": null,
      "outputs": [
        {
          "output_type": "stream",
          "name": "stdout",
          "text": [
            "alex\n"
          ]
        },
        {
          "output_type": "error",
          "ename": "AttributeError",
          "evalue": "ignored",
          "traceback": [
            "\u001b[0;31m---------------------------------------------------------------------------\u001b[0m",
            "\u001b[0;31mAttributeError\u001b[0m                            Traceback (most recent call last)",
            "\u001b[0;32m<ipython-input-6-ebe1d94c6e74>\u001b[0m in \u001b[0;36m<module>\u001b[0;34m\u001b[0m\n\u001b[1;32m      7\u001b[0m   \u001b[0mobj\u001b[0m \u001b[0;34m=\u001b[0m \u001b[0mFoo\u001b[0m\u001b[0;34m(\u001b[0m\u001b[0;34m\"alex\"\u001b[0m\u001b[0;34m,\u001b[0m \u001b[0;36m24\u001b[0m\u001b[0;34m)\u001b[0m\u001b[0;34m\u001b[0m\u001b[0;34m\u001b[0m\u001b[0m\n\u001b[1;32m      8\u001b[0m   \u001b[0mprint\u001b[0m\u001b[0;34m(\u001b[0m\u001b[0mobj\u001b[0m\u001b[0;34m.\u001b[0m\u001b[0mname\u001b[0m\u001b[0;34m)\u001b[0m\u001b[0;34m\u001b[0m\u001b[0;34m\u001b[0m\u001b[0m\n\u001b[0;32m----> 9\u001b[0;31m   \u001b[0mprint\u001b[0m\u001b[0;34m(\u001b[0m\u001b[0mobj\u001b[0m\u001b[0;34m.\u001b[0m\u001b[0m__age\u001b[0m\u001b[0;34m)\u001b[0m\u001b[0;34m\u001b[0m\u001b[0;34m\u001b[0m\u001b[0m\n\u001b[0m",
            "\u001b[0;31mAttributeError\u001b[0m: 'Foo' object has no attribute '__age'"
          ]
        }
      ]
    },
    {
      "cell_type": "code",
      "source": [
        "# 通过增加方法的方式来间接访问就行了\n",
        "class Foo:\n",
        "  def __init__(self, n, a) -> None:\n",
        "    self.name = n\n",
        "    self.__age = a #加了\"__\"就变成私有了，外部无法访问了\n",
        "  \n",
        "  def show(self):\n",
        "    return self.__age\n",
        "\n",
        "if __name__=='__main__':\n",
        "  obj = Foo(\"alex\", 24)\n",
        "  print(obj.show()) # 间接访问到了self.__age"
      ],
      "metadata": {
        "colab": {
          "base_uri": "https://localhost:8080/"
        },
        "id": "SJsS2ecMcIF3",
        "outputId": "f8fd7210-cf52-4fe6-a92b-7cd82fcc5ec1"
      },
      "execution_count": null,
      "outputs": [
        {
          "output_type": "stream",
          "name": "stdout",
          "text": [
            "24\n"
          ]
        }
      ]
    },
    {
      "cell_type": "code",
      "source": [
        "# 上面是对普通字段而言，那么静态字段呢？其实一样\n",
        "class Foo:\n",
        "  __v = \"123\"\n",
        "  def __init__(self, n, a) -> None:\n",
        "    self.name = n\n",
        "    self.__age = a #加了\"__\"就变成私有了，外部无法访问了\n",
        "  \n",
        "  def show(self):\n",
        "    return Foo.__v\n",
        "\n",
        "  @staticmethod\n",
        "  def stat():\n",
        "    return Foo.__v\n",
        "\n",
        "\n",
        "if __name__=='__main__':\n",
        "  obj = Foo(\"alex\", 24)\n",
        "  print(obj.show()) # 间接访问到了self.__age\n",
        "  # print(obj.__v) #AttributeError: 'Foo' object has no attribute '__v'  \n",
        "  \n",
        "  print(obj.show())\n",
        "  print(obj.stat())"
      ],
      "metadata": {
        "colab": {
          "base_uri": "https://localhost:8080/"
        },
        "id": "PWirS7ZcdJt0",
        "outputId": "d529a6bd-7f88-47e8-9a91-2c8dd72cfbfe"
      },
      "execution_count": null,
      "outputs": [
        {
          "output_type": "stream",
          "name": "stdout",
          "text": [
            "123\n",
            "123\n",
            "123\n"
          ]
        }
      ]
    },
    {
      "cell_type": "markdown",
      "source": [
        "## 通过上面知道了字段分为共有和私有，那么方法呢？？也分共有和私有"
      ],
      "metadata": {
        "id": "H6T41q_Sfpk7"
      }
    },
    {
      "cell_type": "code",
      "source": [
        "class Foo:\n",
        "  def __init__(self) -> None:\n",
        "    pass\n",
        "  def __f1(self):\n",
        "    return 123\n",
        "  def f2(self):\n",
        "    r = self.__f1()\n",
        "    return r\n",
        "\n",
        "if __name__=='__main__':\n",
        "  obj = Foo()\n",
        "  # print(obj.__f1()) #直接是不能访问的 'Foo' object has no attribute '__f1'\n",
        "  print(obj.f2()) #写方法间接访问"
      ],
      "metadata": {
        "colab": {
          "base_uri": "https://localhost:8080/"
        },
        "id": "IUKrr0E3b5FR",
        "outputId": "becc9236-5769-4d90-de34-99a45581e5ba"
      },
      "execution_count": null,
      "outputs": [
        {
          "output_type": "stream",
          "name": "stdout",
          "text": [
            "123\n"
          ]
        }
      ]
    },
    {
      "cell_type": "code",
      "source": [
        "# 接下来看看继承间的情况：私有是不能继承的，还是只有间接访问\n",
        "class Father:\n",
        "  def __init__(self) -> None:\n",
        "    self.bala = 456\n",
        "    self.__haha = 123\n",
        "\n",
        "class Son(Father):\n",
        "  def __init__(self, name) -> None:\n",
        "    self.name = name\n",
        "    self.__age = 18\n",
        "    super(Son, self).__init__()\n",
        "  \n",
        "  def show(self):\n",
        "    print(self.name)\n",
        "    print(self.bala)\n",
        "    print(self.__age)\n",
        "    print(self.__haha) #父类的私有字段，是无法继承过来的，会报错\n",
        "\n",
        "if __name__=='__main__':\n",
        "  obj = Son(\"alex\")\n",
        "  print(obj.show()) "
      ],
      "metadata": {
        "colab": {
          "base_uri": "https://localhost:8080/",
          "height": 391
        },
        "id": "VzQycaPEhwxw",
        "outputId": "a2a526dc-9057-4545-fd9a-b2550d5f2c13"
      },
      "execution_count": null,
      "outputs": [
        {
          "output_type": "stream",
          "name": "stdout",
          "text": [
            "alex\n",
            "456\n",
            "18\n"
          ]
        },
        {
          "output_type": "error",
          "ename": "AttributeError",
          "evalue": "ignored",
          "traceback": [
            "\u001b[0;31m---------------------------------------------------------------------------\u001b[0m",
            "\u001b[0;31mAttributeError\u001b[0m                            Traceback (most recent call last)",
            "\u001b[0;32m<ipython-input-18-f4f1e58560b8>\u001b[0m in \u001b[0;36m<module>\u001b[0;34m\u001b[0m\n\u001b[1;32m     19\u001b[0m \u001b[0;32mif\u001b[0m \u001b[0m__name__\u001b[0m\u001b[0;34m==\u001b[0m\u001b[0;34m'__main__'\u001b[0m\u001b[0;34m:\u001b[0m\u001b[0;34m\u001b[0m\u001b[0;34m\u001b[0m\u001b[0m\n\u001b[1;32m     20\u001b[0m   \u001b[0mobj\u001b[0m \u001b[0;34m=\u001b[0m \u001b[0mSon\u001b[0m\u001b[0;34m(\u001b[0m\u001b[0;34m\"alex\"\u001b[0m\u001b[0;34m)\u001b[0m\u001b[0;34m\u001b[0m\u001b[0;34m\u001b[0m\u001b[0m\n\u001b[0;32m---> 21\u001b[0;31m   \u001b[0mprint\u001b[0m\u001b[0;34m(\u001b[0m\u001b[0mobj\u001b[0m\u001b[0;34m.\u001b[0m\u001b[0mshow\u001b[0m\u001b[0;34m(\u001b[0m\u001b[0;34m)\u001b[0m\u001b[0;34m)\u001b[0m\u001b[0;34m\u001b[0m\u001b[0;34m\u001b[0m\u001b[0m\n\u001b[0m\u001b[1;32m     22\u001b[0m \u001b[0;34m\u001b[0m\u001b[0m\n",
            "\u001b[0;32m<ipython-input-18-f4f1e58560b8>\u001b[0m in \u001b[0;36mshow\u001b[0;34m(self)\u001b[0m\n\u001b[1;32m     15\u001b[0m     \u001b[0mprint\u001b[0m\u001b[0;34m(\u001b[0m\u001b[0mself\u001b[0m\u001b[0;34m.\u001b[0m\u001b[0mbala\u001b[0m\u001b[0;34m)\u001b[0m\u001b[0;34m\u001b[0m\u001b[0;34m\u001b[0m\u001b[0m\n\u001b[1;32m     16\u001b[0m     \u001b[0mprint\u001b[0m\u001b[0;34m(\u001b[0m\u001b[0mself\u001b[0m\u001b[0;34m.\u001b[0m\u001b[0m__age\u001b[0m\u001b[0;34m)\u001b[0m\u001b[0;34m\u001b[0m\u001b[0;34m\u001b[0m\u001b[0m\n\u001b[0;32m---> 17\u001b[0;31m     \u001b[0mprint\u001b[0m\u001b[0;34m(\u001b[0m\u001b[0mself\u001b[0m\u001b[0;34m.\u001b[0m\u001b[0m__haha\u001b[0m\u001b[0;34m)\u001b[0m\u001b[0;34m\u001b[0m\u001b[0;34m\u001b[0m\u001b[0m\n\u001b[0m\u001b[1;32m     18\u001b[0m \u001b[0;34m\u001b[0m\u001b[0m\n\u001b[1;32m     19\u001b[0m \u001b[0;32mif\u001b[0m \u001b[0m__name__\u001b[0m\u001b[0;34m==\u001b[0m\u001b[0;34m'__main__'\u001b[0m\u001b[0;34m:\u001b[0m\u001b[0;34m\u001b[0m\u001b[0;34m\u001b[0m\u001b[0m\n",
            "\u001b[0;31mAttributeError\u001b[0m: 'Son' object has no attribute '_Son__haha'"
          ]
        }
      ]
    },
    {
      "cell_type": "code",
      "source": [
        "class Father:\n",
        "  def __init__(self) -> None:\n",
        "    self.bala = 456\n",
        "    self.__haha = 123\n",
        "\n",
        "  def stat(self):\n",
        "    print(self.__haha)\n",
        "\n",
        "class Son(Father):\n",
        "  def __init__(self, name) -> None:\n",
        "    self.name = name\n",
        "    self.__age = 18\n",
        "    super(Son, self).__init__()    \n",
        "  \n",
        "  def show(self):\n",
        "    print(self.name)\n",
        "    print(self.bala)\n",
        "    print(self.__age)\n",
        "    print(self.__haha) #父类的私有字段，是无法继承过来的，会报错\n",
        "\n",
        "if __name__=='__main__':\n",
        "  obj = Son(\"alex\")\n",
        "  print(obj.stat()) #父类的私有字段，是无法继承过来，只有间接访问\n",
        "  print(obj.show())"
      ],
      "metadata": {
        "colab": {
          "base_uri": "https://localhost:8080/",
          "height": 408
        },
        "id": "3hCRAmpvkmEn",
        "outputId": "2d7dd39c-617a-438f-9926-46a907ec2ca8"
      },
      "execution_count": null,
      "outputs": [
        {
          "output_type": "stream",
          "name": "stdout",
          "text": [
            "123\n",
            "None\n",
            "alex\n",
            "456\n",
            "18\n"
          ]
        },
        {
          "output_type": "error",
          "ename": "AttributeError",
          "evalue": "ignored",
          "traceback": [
            "\u001b[0;31m---------------------------------------------------------------------------\u001b[0m",
            "\u001b[0;31mAttributeError\u001b[0m                            Traceback (most recent call last)",
            "\u001b[0;32m<ipython-input-19-c55f1cf25b72>\u001b[0m in \u001b[0;36m<module>\u001b[0;34m\u001b[0m\n\u001b[1;32m     22\u001b[0m   \u001b[0mobj\u001b[0m \u001b[0;34m=\u001b[0m \u001b[0mSon\u001b[0m\u001b[0;34m(\u001b[0m\u001b[0;34m\"alex\"\u001b[0m\u001b[0;34m)\u001b[0m\u001b[0;34m\u001b[0m\u001b[0;34m\u001b[0m\u001b[0m\n\u001b[1;32m     23\u001b[0m   \u001b[0mprint\u001b[0m\u001b[0;34m(\u001b[0m\u001b[0mobj\u001b[0m\u001b[0;34m.\u001b[0m\u001b[0mstat\u001b[0m\u001b[0;34m(\u001b[0m\u001b[0;34m)\u001b[0m\u001b[0;34m)\u001b[0m\u001b[0;34m\u001b[0m\u001b[0;34m\u001b[0m\u001b[0m\n\u001b[0;32m---> 24\u001b[0;31m   \u001b[0mprint\u001b[0m\u001b[0;34m(\u001b[0m\u001b[0mobj\u001b[0m\u001b[0;34m.\u001b[0m\u001b[0mshow\u001b[0m\u001b[0;34m(\u001b[0m\u001b[0;34m)\u001b[0m\u001b[0;34m)\u001b[0m\u001b[0;34m\u001b[0m\u001b[0;34m\u001b[0m\u001b[0m\n\u001b[0m",
            "\u001b[0;32m<ipython-input-19-c55f1cf25b72>\u001b[0m in \u001b[0;36mshow\u001b[0;34m(self)\u001b[0m\n\u001b[1;32m     17\u001b[0m     \u001b[0mprint\u001b[0m\u001b[0;34m(\u001b[0m\u001b[0mself\u001b[0m\u001b[0;34m.\u001b[0m\u001b[0mbala\u001b[0m\u001b[0;34m)\u001b[0m\u001b[0;34m\u001b[0m\u001b[0;34m\u001b[0m\u001b[0m\n\u001b[1;32m     18\u001b[0m     \u001b[0mprint\u001b[0m\u001b[0;34m(\u001b[0m\u001b[0mself\u001b[0m\u001b[0;34m.\u001b[0m\u001b[0m__age\u001b[0m\u001b[0;34m)\u001b[0m\u001b[0;34m\u001b[0m\u001b[0;34m\u001b[0m\u001b[0m\n\u001b[0;32m---> 19\u001b[0;31m     \u001b[0mprint\u001b[0m\u001b[0;34m(\u001b[0m\u001b[0mself\u001b[0m\u001b[0;34m.\u001b[0m\u001b[0m__haha\u001b[0m\u001b[0;34m)\u001b[0m \u001b[0;31m#父类的私有字段，是无法继承过来的，会报错\u001b[0m\u001b[0;34m\u001b[0m\u001b[0;34m\u001b[0m\u001b[0m\n\u001b[0m\u001b[1;32m     20\u001b[0m \u001b[0;34m\u001b[0m\u001b[0m\n\u001b[1;32m     21\u001b[0m \u001b[0;32mif\u001b[0m \u001b[0m__name__\u001b[0m\u001b[0;34m==\u001b[0m\u001b[0;34m'__main__'\u001b[0m\u001b[0;34m:\u001b[0m\u001b[0;34m\u001b[0m\u001b[0;34m\u001b[0m\u001b[0m\n",
            "\u001b[0;31mAttributeError\u001b[0m: 'Son' object has no attribute '_Son__haha'"
          ]
        }
      ]
    },
    {
      "cell_type": "markdown",
      "source": [
        "**小结：**成员分为共有和私有。想要变为私有只需加入\"__\"【两个下划线哦】。这些私有就不能直接访问了，只有采用间接访问的方式"
      ],
      "metadata": {
        "id": "6r4AceCgg7Y6"
      }
    },
    {
      "cell_type": "markdown",
      "source": [
        "## 接下来介绍类里边的特殊成员  __ call __ 方法【仅仅是Python的语法而已，没什么用】\n"
      ],
      "metadata": {
        "id": "xWJZd3-5loHC"
      }
    },
    {
      "cell_type": "code",
      "source": [
        "class Foo:\n",
        "  def __init__(self) -> None:\n",
        "    print(\"init\")\n",
        "\n",
        "if __name__=='__main__':\n",
        "  obj = Foo() #只要一些这个，就会自动执行__init__方法。\n",
        "#但是Python中有个奇怪的地方就是，你可能遇见对象后边也加括号的代码，如下："
      ],
      "metadata": {
        "colab": {
          "base_uri": "https://localhost:8080/"
        },
        "id": "_Q0yV5h6mQkw",
        "outputId": "7bd3e1ec-172a-43aa-c77e-9560d0de5a46"
      },
      "execution_count": null,
      "outputs": [
        {
          "output_type": "stream",
          "name": "stdout",
          "text": [
            "init\n"
          ]
        }
      ]
    },
    {
      "cell_type": "code",
      "source": [
        "class Foo:\n",
        "  def __init__(self) -> None:\n",
        "    print(\"init\")\n",
        "\n",
        "if __name__=='__main__':\n",
        "  obj = Foo() \n",
        "  obj() # 如果第一次看到，肯定会觉得特别奇怪。其实这就表示执行Foo类的一个特殊方法(__call__),如果没有这个方法就会报错\n",
        "  # 这仅仅是Python中的一个规定而已，没什么具体作用，就是方便执行特殊方法(__call__)而已"
      ],
      "metadata": {
        "colab": {
          "base_uri": "https://localhost:8080/",
          "height": 235
        },
        "id": "1FoWJirNnP8k",
        "outputId": "3a5107ba-ea8a-471c-dc23-e0de4cf5ee04"
      },
      "execution_count": null,
      "outputs": [
        {
          "output_type": "stream",
          "name": "stdout",
          "text": [
            "init\n"
          ]
        },
        {
          "output_type": "error",
          "ename": "TypeError",
          "evalue": "ignored",
          "traceback": [
            "\u001b[0;31m---------------------------------------------------------------------------\u001b[0m",
            "\u001b[0;31mTypeError\u001b[0m                                 Traceback (most recent call last)",
            "\u001b[0;32m<ipython-input-21-1fd006f7f10b>\u001b[0m in \u001b[0;36m<module>\u001b[0;34m\u001b[0m\n\u001b[1;32m      5\u001b[0m \u001b[0;32mif\u001b[0m \u001b[0m__name__\u001b[0m\u001b[0;34m==\u001b[0m\u001b[0;34m'__main__'\u001b[0m\u001b[0;34m:\u001b[0m\u001b[0;34m\u001b[0m\u001b[0;34m\u001b[0m\u001b[0m\n\u001b[1;32m      6\u001b[0m   \u001b[0mobj\u001b[0m \u001b[0;34m=\u001b[0m \u001b[0mFoo\u001b[0m\u001b[0;34m(\u001b[0m\u001b[0;34m)\u001b[0m\u001b[0;34m\u001b[0m\u001b[0;34m\u001b[0m\u001b[0m\n\u001b[0;32m----> 7\u001b[0;31m   \u001b[0mobj\u001b[0m\u001b[0;34m(\u001b[0m\u001b[0;34m)\u001b[0m \u001b[0;31m# 如果第一次看到，肯定会觉得特别奇怪。其实这就表示执行Foo类的所有方法，如果除__init__外，没有其他方法就会报错。\u001b[0m\u001b[0;34m\u001b[0m\u001b[0;34m\u001b[0m\u001b[0m\n\u001b[0m\u001b[1;32m      8\u001b[0m   \u001b[0;31m# 这仅仅是Python中的一个规定 而已，没什么具体作用，就是方便\u001b[0m\u001b[0;34m\u001b[0m\u001b[0;34m\u001b[0m\u001b[0;34m\u001b[0m\u001b[0m\n",
            "\u001b[0;31mTypeError\u001b[0m: 'Foo' object is not callable"
          ]
        }
      ]
    },
    {
      "cell_type": "code",
      "source": [
        "class Foo:\n",
        "  def __init__(self):\n",
        "    print(\"init\")\n",
        "  \n",
        "  def stat(self):\n",
        "    print(\"stat\")\n",
        "\n",
        "  def __call__(self):\n",
        "    print(\"call\")\n",
        "\n",
        "  @staticmethod\n",
        "  def __show__(self):\n",
        "    print(\"show\")\n",
        "\n",
        "if __name__=='__main__':\n",
        "  obj = Foo() # 自动执行__init__方法\n",
        "  obj()  #自动执行__call__方法\n",
        "  # 上面可以简单的改写为，所以代码看着更简便:\n",
        "  Foo()()"
      ],
      "metadata": {
        "colab": {
          "base_uri": "https://localhost:8080/"
        },
        "id": "ZoUQVVevoQqH",
        "outputId": "7fb20366-117b-456e-a14a-a3f13d00babb"
      },
      "execution_count": null,
      "outputs": [
        {
          "output_type": "stream",
          "name": "stdout",
          "text": [
            "init\n",
            "call\n",
            "init\n",
            "call\n"
          ]
        }
      ]
    },
    {
      "cell_type": "markdown",
      "source": [
        "## 特殊成员__ int __ 【注意：不是__ init __方法哦】"
      ],
      "metadata": {
        "id": "aDf6_mKOwNbB"
      }
    },
    {
      "cell_type": "code",
      "source": [
        "class Foo:\n",
        "  def __init__(self):\n",
        "    pass\n",
        "\n",
        "\n",
        "if __name__=='__main__':\n",
        "  obj = Foo()\n",
        "  print(obj, type(obj)) # 这样输出有个缺点，你看不出究竟是个啥东西\n",
        "  "
      ],
      "metadata": {
        "colab": {
          "base_uri": "https://localhost:8080/"
        },
        "id": "UUdkEv7_wXOc",
        "outputId": "3adbdbac-852b-4462-8e98-05c21dcb93f9"
      },
      "execution_count": null,
      "outputs": [
        {
          "output_type": "stream",
          "name": "stdout",
          "text": [
            "<__main__.Foo object at 0x7f584015fa90> <class '__main__.Foo'>\n"
          ]
        }
      ]
    },
    {
      "cell_type": "code",
      "source": [
        "class Foo:\n",
        "  def __init__(self):\n",
        "    pass\n",
        "\n",
        "  def __int__(self):\n",
        "    print(\"int\")\n",
        "    return 111\n",
        "\n",
        "if __name__=='__main__':\n",
        "  obj = Foo()\n",
        "  print(obj, type(obj)) # 这样输出有个缺点，你看不出究竟是个啥东西\n",
        "\n",
        "  # r = int(obj) # 这种会直接调用方法__int__\n",
        "  # print(r)\n",
        "\n",
        "  r = obj.__int__() #自己尝试一下，按常规出牌也是可调用的\n",
        "  print(r)\n",
        "\n",
        "# 其实__int__方法是用的很少的，常用的时__str__方法"
      ],
      "metadata": {
        "colab": {
          "base_uri": "https://localhost:8080/"
        },
        "id": "gNGZOpFOxV2-",
        "outputId": "9365f1da-6157-4c1a-874d-d4b86d96761e"
      },
      "execution_count": null,
      "outputs": [
        {
          "output_type": "stream",
          "name": "stdout",
          "text": [
            "<__main__.Foo object at 0x7f58400a56d0> <class '__main__.Foo'>\n",
            "int\n",
            "111\n"
          ]
        }
      ]
    },
    {
      "cell_type": "markdown",
      "source": [
        "## 特殊成员__ str __方法。该方法的使用一般是打印内容"
      ],
      "metadata": {
        "id": "Uy_56IldyaO5"
      }
    },
    {
      "cell_type": "code",
      "source": [
        "class Foo:\n",
        "  def __init__(self, n, a):\n",
        "    self.name = n\n",
        "    self.age = a\n",
        "\n",
        "if __name__=='__main__':\n",
        "  obj = Foo(\"alex\", 12)\n",
        "  print(obj, type(obj)) \n",
        "\n",
        "# 不是用__str__方法，输出的结果就很难看出来真实的内容是什么"
      ],
      "metadata": {
        "colab": {
          "base_uri": "https://localhost:8080/"
        },
        "id": "kBCA7W6HyqkW",
        "outputId": "251ba920-7aa0-4825-e859-705374567793"
      },
      "execution_count": null,
      "outputs": [
        {
          "output_type": "stream",
          "name": "stdout",
          "text": [
            "<__main__.Foo object at 0x7f5840096c50> <class '__main__.Foo'>\n"
          ]
        }
      ]
    },
    {
      "cell_type": "code",
      "source": [
        "class Foo:\n",
        "  def __init__(self, n, a):\n",
        "    self.name = n\n",
        "    self.age = a\n",
        "  \n",
        "  def __str__(self):\n",
        "    # return self.name\n",
        "    return '%s-%s' %(self.name, self.age)\n",
        "\n",
        "if __name__=='__main__':\n",
        "  obj = Foo(\"alex\", 12)\n",
        "  print(obj) \n",
        "# 这时就能直接看出内容了\n",
        "# 为什么这里print就直接执行__str__方法了呢？？这就是规定"
      ],
      "metadata": {
        "colab": {
          "base_uri": "https://localhost:8080/"
        },
        "id": "qsufn4F10U3h",
        "outputId": "0a1ca8f0-3542-4afd-ffcf-7407d8ded669"
      },
      "execution_count": null,
      "outputs": [
        {
          "output_type": "stream",
          "name": "stdout",
          "text": [
            "alex-12\n"
          ]
        }
      ]
    },
    {
      "cell_type": "markdown",
      "source": [
        "**小结：**至此已经说了4个特殊方法了哦【其实这种方法太多了，但凡是双下划线开头/结尾的,都是特殊方法】：  \n",
        "__ init __  ==》 类() ==》   自动执行  \n",
        "__ call __  ==》对象(), 类()() ==》 自动执行  \n",
        "__ int __  ==》int(对象)  ==》调用  \n",
        "__ str __  ==》print(对象） ==》调用"
      ],
      "metadata": {
        "id": "I7uia1rV2Be4"
      }
    }
  ]
}