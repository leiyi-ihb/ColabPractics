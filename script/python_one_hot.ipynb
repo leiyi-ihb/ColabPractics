{
  "nbformat": 4,
  "nbformat_minor": 0,
  "metadata": {
    "colab": {
      "provenance": [],
      "authorship_tag": "ABX9TyMuyP3rNn1+IWb8JM0Mg7Bb",
      "include_colab_link": true
    },
    "kernelspec": {
      "name": "python3",
      "display_name": "Python 3"
    },
    "language_info": {
      "name": "python"
    }
  },
  "cells": [
    {
      "cell_type": "markdown",
      "metadata": {
        "id": "view-in-github",
        "colab_type": "text"
      },
      "source": [
        "<a href=\"https://colab.research.google.com/github/leiyi-ihb/ColabPractics/blob/main/script/python_one_hot.ipynb\" target=\"_parent\"><img src=\"https://colab.research.google.com/assets/colab-badge.svg\" alt=\"Open In Colab\"/></a>"
      ]
    },
    {
      "cell_type": "code",
      "execution_count": 4,
      "metadata": {
        "colab": {
          "base_uri": "https://localhost:8080/"
        },
        "id": "DyNaxIc9HEQF",
        "outputId": "ce2033dd-47ee-4b99-e365-e4cdda95eafa"
      },
      "outputs": [
        {
          "output_type": "stream",
          "name": "stdout",
          "text": [
            "take deep breath\n",
            "[19, 0, 10, 4, 26, 3, 4, 4, 15, 26, 1, 17, 4, 0, 19, 7]\n",
            "[[0, 0, 0, 0, 0, 0, 0, 0, 0, 0, 0, 0, 0, 0, 0, 0, 0, 0, 0, 1, 0, 0, 0, 0, 0, 0, 0], [1, 0, 0, 0, 0, 0, 0, 0, 0, 0, 0, 0, 0, 0, 0, 0, 0, 0, 0, 0, 0, 0, 0, 0, 0, 0, 0], [0, 0, 0, 0, 0, 0, 0, 0, 0, 0, 1, 0, 0, 0, 0, 0, 0, 0, 0, 0, 0, 0, 0, 0, 0, 0, 0], [0, 0, 0, 0, 1, 0, 0, 0, 0, 0, 0, 0, 0, 0, 0, 0, 0, 0, 0, 0, 0, 0, 0, 0, 0, 0, 0], [0, 0, 0, 0, 0, 0, 0, 0, 0, 0, 0, 0, 0, 0, 0, 0, 0, 0, 0, 0, 0, 0, 0, 0, 0, 0, 1], [0, 0, 0, 1, 0, 0, 0, 0, 0, 0, 0, 0, 0, 0, 0, 0, 0, 0, 0, 0, 0, 0, 0, 0, 0, 0, 0], [0, 0, 0, 0, 1, 0, 0, 0, 0, 0, 0, 0, 0, 0, 0, 0, 0, 0, 0, 0, 0, 0, 0, 0, 0, 0, 0], [0, 0, 0, 0, 1, 0, 0, 0, 0, 0, 0, 0, 0, 0, 0, 0, 0, 0, 0, 0, 0, 0, 0, 0, 0, 0, 0], [0, 0, 0, 0, 0, 0, 0, 0, 0, 0, 0, 0, 0, 0, 0, 1, 0, 0, 0, 0, 0, 0, 0, 0, 0, 0, 0], [0, 0, 0, 0, 0, 0, 0, 0, 0, 0, 0, 0, 0, 0, 0, 0, 0, 0, 0, 0, 0, 0, 0, 0, 0, 0, 1], [0, 1, 0, 0, 0, 0, 0, 0, 0, 0, 0, 0, 0, 0, 0, 0, 0, 0, 0, 0, 0, 0, 0, 0, 0, 0, 0], [0, 0, 0, 0, 0, 0, 0, 0, 0, 0, 0, 0, 0, 0, 0, 0, 0, 1, 0, 0, 0, 0, 0, 0, 0, 0, 0], [0, 0, 0, 0, 1, 0, 0, 0, 0, 0, 0, 0, 0, 0, 0, 0, 0, 0, 0, 0, 0, 0, 0, 0, 0, 0, 0], [1, 0, 0, 0, 0, 0, 0, 0, 0, 0, 0, 0, 0, 0, 0, 0, 0, 0, 0, 0, 0, 0, 0, 0, 0, 0, 0], [0, 0, 0, 0, 0, 0, 0, 0, 0, 0, 0, 0, 0, 0, 0, 0, 0, 0, 0, 1, 0, 0, 0, 0, 0, 0, 0], [0, 0, 0, 0, 0, 0, 0, 1, 0, 0, 0, 0, 0, 0, 0, 0, 0, 0, 0, 0, 0, 0, 0, 0, 0, 0, 0]]\n",
            "t\n"
          ]
        }
      ],
      "source": [
        "'''\n",
        "在这个例子中，我们将一个字符串转为one-hot。假设字符串为：Hello world。\n",
        "'''\n",
        "from numpy import argmax\n",
        "# define input string\n",
        "# data = 'hello world'\n",
        "data = \"take deep breath\"\n",
        "print(data)\n",
        "# define universe of possible input values\n",
        "alphabet = 'abcdefghijklmnopqrstuvwxyz '\n",
        "# define a mapping of chars to integers\n",
        "char_to_int = dict((c, i) for i, c in enumerate(alphabet))\n",
        "int_to_char = dict((i, c) for i, c in enumerate(alphabet))\n",
        "\n",
        "# integer encode input data\n",
        "integer_encoded = [char_to_int[char] for char in data]\n",
        "print(integer_encoded)\n",
        "# one hot encode\n",
        "onehot_encoded = list()\n",
        "for value in integer_encoded:\n",
        "       letter = [0 for _ in range(len(alphabet))]\n",
        "       letter[value] = 1\n",
        "       onehot_encoded.append(letter)\n",
        "print(onehot_encoded)\n",
        "# invert encoding\n",
        "inverted = int_to_char[argmax(onehot_encoded[0])]\n",
        "print(inverted)"
      ]
    },
    {
      "cell_type": "code",
      "source": [
        "'''\n",
        "在这个例子中，我们假设你有一个输出序列如下3个标签：\n",
        "Cold，warm，hot\n",
        "10个时间序列的示例顺序可以是：\n",
        "Cold，cold，warm，cold，hot，hot，warm，cold，warm，hot\n",
        "这将首先需要一个整数编码，如1，2，3，然后是整数到one hot编码具有3个值的二进制向量，例如[1,0,0]。\n",
        "这个情况下提供序列中每个可能值的至少一个示例。因此，我们可以使用自动方法来定义整数到二进制向量的映射。\n",
        "在这个例子中，我们将使用scikit学习库的编码器。具体来说，LabelEncoder创建标签的整数编码，OneHotEncoder用于创建整数编码值的one hot编码。'''\n",
        "from numpy import array\n",
        "from numpy import argmax\n",
        "from sklearn.preprocessing import LabelEncoder\n",
        "from sklearn.preprocessing import OneHotEncoder\n",
        "# define example\n",
        "data = ['cold', 'cold', 'warm', 'cold', 'hot', 'hot', 'warm', 'cold', 'warm', 'hot', 'alex']\n",
        "values = array(data)\n",
        "print(values)\n",
        "# integer encode\n",
        "label_encoder = LabelEncoder()\n",
        "integer_encoded = label_encoder.fit_transform(values)\n",
        "print(integer_encoded)\n",
        "# binary encode\n",
        "onehot_encoder = OneHotEncoder(sparse=False)\n",
        "integer_encoded = integer_encoded.reshape(len(integer_encoded), 1)\n",
        "onehot_encoded = onehot_encoder.fit_transform(integer_encoded)\n",
        "print(onehot_encoded)\n",
        "# invert first example\n",
        "inverted = label_encoder.inverse_transform([argmax(onehot_encoded[0, :])])\n",
        "print(inverted)"
      ],
      "metadata": {
        "colab": {
          "base_uri": "https://localhost:8080/"
        },
        "id": "xLJyJ1yUH8b7",
        "outputId": "59ce6ed3-37f4-44b5-da12-c8bf30d0fa55"
      },
      "execution_count": 7,
      "outputs": [
        {
          "output_type": "stream",
          "name": "stdout",
          "text": [
            "['cold' 'cold' 'warm' 'cold' 'hot' 'hot' 'warm' 'cold' 'warm' 'hot' 'alex']\n",
            "[1 1 3 1 2 2 3 1 3 2 0]\n",
            "[[0. 1. 0. 0.]\n",
            " [0. 1. 0. 0.]\n",
            " [0. 0. 0. 1.]\n",
            " [0. 1. 0. 0.]\n",
            " [0. 0. 1. 0.]\n",
            " [0. 0. 1. 0.]\n",
            " [0. 0. 0. 1.]\n",
            " [0. 1. 0. 0.]\n",
            " [0. 0. 0. 1.]\n",
            " [0. 0. 1. 0.]\n",
            " [1. 0. 0. 0.]]\n",
            "['cold']\n"
          ]
        }
      ]
    },
    {
      "cell_type": "code",
      "source": [
        "'''\n",
        "您可能有一个已经是整数编码的序列。\n",
        "经过处理后，您可以直接使用整数。或者，您可以直接对整数进行one hot 编码。这是非常重要的如果整数没有真正的顺序关系并且只是标签的占位符。\n",
        "Keras提供了一个名为to_categorical（）的函数，它可以帮助你使用one hot编码整数数据。接下来我们看一个小例子：\n",
        "在这个例子中，我们有4个整数值[0,1,2,3]，我们有以下10个数字的输入序列：\n",
        "Data = [1,3,2,0,3,2,2,1,0,1]\n",
        "该序列具有已知了所有值，因此我们可以直接使用to_categorical（）函数。以下列出了此功能的完整示例。\n",
        "'''\n",
        "from numpy import array\n",
        "from numpy import argmax\n",
        "from keras.utils import to_categorical\n",
        "# define example\n",
        "data = [1, 3, 2, 0, 3, 2, 2, 1, 0, 1]\n",
        "data = array(data)\n",
        "print(data)\n",
        "# one hot encode\n",
        "encoded = to_categorical(data)\n",
        "print(encoded)\n",
        "# invert encoding\n",
        "inverted = argmax(encoded[0])\n",
        "print(inverted)"
      ],
      "metadata": {
        "colab": {
          "base_uri": "https://localhost:8080/"
        },
        "id": "Zw1IAitAIHOD",
        "outputId": "c1f8986f-4915-4588-8bec-a8808d0d76be"
      },
      "execution_count": 3,
      "outputs": [
        {
          "output_type": "stream",
          "name": "stdout",
          "text": [
            "[1 3 2 0 3 2 2 1 0 1]\n",
            "[[0. 1. 0. 0.]\n",
            " [0. 0. 0. 1.]\n",
            " [0. 0. 1. 0.]\n",
            " [1. 0. 0. 0.]\n",
            " [0. 0. 0. 1.]\n",
            " [0. 0. 1. 0.]\n",
            " [0. 0. 1. 0.]\n",
            " [0. 1. 0. 0.]\n",
            " [1. 0. 0. 0.]\n",
            " [0. 1. 0. 0.]]\n",
            "1\n"
          ]
        }
      ]
    },
    {
      "cell_type": "markdown",
      "source": [
        "**以上例子均来自于[大神手把手教你：(Python)序列数据的One Hot编码](https://developer.aliyun.com/article/126741)**\n",
        "### 接下来看看生物数据(DNA, 蛋白质等)的独热编码  \n",
        "参考[字符串（如DNA序列，蛋白质序列）的编码和用于机器学习和神经网络](https://blog.csdn.net/weixin_44022515/article/details/103867115)；[生物序列生成one-hot编码](https://blog.csdn.net/xjw9602/article/details/109154122)  \n",
        "在处理dna序列或这蛋白质序列时，常常需要把序列转化为数字，这样才能形成矩阵输入模型训练，一般而言，有三种方法用于序列编码：顺序编码，独热编码，kmer编码。"
      ],
      "metadata": {
        "id": "9HHxYZ4OIROd"
      }
    },
    {
      "cell_type": "code",
      "source": [
        "'''\n",
        "1. 顺序编码：顺序编码即把atcg四种碱基编码成具体数据，如把atct编码成[0.25, 0.5, 0.75, 1.0]，其他的如n可以编码为0。\n",
        "'''\n",
        "# 首先处理序列，形成字符串str\n",
        "# function to convert a DNA sequence string to a numpy array\n",
        "# converts to lower case, changes any non 'acgt' characters to 'n'\n",
        "import numpy as np\n",
        "import re\n",
        "def string_to_array(my_string):\n",
        "    my_string = my_string.lower()\n",
        "    my_string = re.sub('[^acgt]', 'z', my_string)\n",
        "    my_array = np.array(list(my_string))\n",
        "    return my_array\n",
        "\n",
        "# create a label encoder with 'acgtn' alphabet\n",
        "from sklearn.preprocessing import LabelEncoder\n",
        "label_encoder = LabelEncoder()\n",
        "label_encoder.fit(np.array(['a','c','g','t','z']))\n",
        "\n",
        "# 设置要编码的数字：\n",
        "# function to encode a DNA sequence string as an ordinal vector\n",
        "# returns a numpy vector with a=0.25, c=0.50, g=0.75, t=1.00, n=0.00\n",
        "def ordinal_encoder(my_array):\n",
        "    integer_encoded = label_encoder.transform(my_array)\n",
        "    float_encoded = integer_encoded.astype(float)\n",
        "    float_encoded[float_encoded == 0] = 0.25 # A\n",
        "    float_encoded[float_encoded == 1] = 0.50 # C\n",
        "    float_encoded[float_encoded == 2] = 0.75 # G\n",
        "    float_encoded[float_encoded == 3] = 1.00 # T\n",
        "    float_encoded[float_encoded == 4] = 0.00 # anything else, z\n",
        "    return float_encoded\n",
        "\n",
        "# 测试：\n",
        "test_sequence = 'AACGCGCTTNNATGG'\n",
        "ordinal_encoder(string_to_array(test_sequence))"
      ],
      "metadata": {
        "colab": {
          "base_uri": "https://localhost:8080/"
        },
        "id": "lq_b1z29NCzX",
        "outputId": "d91c0062-0824-48b7-fce7-7f85dad52f75"
      },
      "execution_count": 9,
      "outputs": [
        {
          "output_type": "execute_result",
          "data": {
            "text/plain": [
              "array([0.25, 0.25, 0.5 , 0.75, 0.5 , 0.75, 0.5 , 1.  , 1.  , 0.  , 0.  ,\n",
              "       0.25, 1.  , 0.75, 0.75])"
            ]
          },
          "metadata": {},
          "execution_count": 9
        }
      ]
    },
    {
      "cell_type": "code",
      "source": [
        "'''\n",
        "2. one-hot 编码，独热编码, 把 “ATGC” 变成[0,0,0,1], [0,0,1,0], [0,1,0,0], [1,0,0,0]，因此，1000bp的序列成为1000*4的矩阵\n",
        "'''\n",
        "# function to one-hot encode a DNA sequence string\n",
        "# non 'acgt' bases (n) are 0000\n",
        "# returns a L x 4 numpy array\n",
        "from sklearn.preprocessing import OneHotEncoder\n",
        "def one_hot_encoder(my_array):\n",
        "    integer_encoded = label_encoder.transform(my_array)\n",
        "    onehot_encoder = OneHotEncoder(sparse=False, dtype=int)  # 以前版本的n_values参数已经被categories代替，categorical_features参数也被取消了,所以已经没有n_values和categorical_features参数了【https://blog.csdn.net/weixin_43450885/article/details/104909863】\n",
        "    integer_encoded = integer_encoded.reshape(len(integer_encoded), 1)\n",
        "    onehot_encoded = onehot_encoder.fit_transform(integer_encoded)\n",
        "    onehot_encoded = np.delete(onehot_encoded, -1, 1)\n",
        "    return onehot_encoded\n",
        "\n",
        "# 测试一条序列：\n",
        "test_sequence = 'AACGCGGTTNNATCact'\n",
        "one_hot_encoder(string_to_array(test_sequence))"
      ],
      "metadata": {
        "colab": {
          "base_uri": "https://localhost:8080/"
        },
        "id": "XIsA42a1P5ea",
        "outputId": "0fcc7a2b-147f-427d-962d-32b994ae46b6"
      },
      "execution_count": 19,
      "outputs": [
        {
          "output_type": "execute_result",
          "data": {
            "text/plain": [
              "array([[1, 0, 0, 0],\n",
              "       [1, 0, 0, 0],\n",
              "       [0, 1, 0, 0],\n",
              "       [0, 0, 1, 0],\n",
              "       [0, 1, 0, 0],\n",
              "       [0, 0, 1, 0],\n",
              "       [0, 0, 1, 0],\n",
              "       [0, 0, 0, 1],\n",
              "       [0, 0, 0, 1],\n",
              "       [0, 0, 0, 0],\n",
              "       [0, 0, 0, 0],\n",
              "       [1, 0, 0, 0],\n",
              "       [0, 0, 0, 1],\n",
              "       [0, 1, 0, 0],\n",
              "       [1, 0, 0, 0],\n",
              "       [0, 1, 0, 0],\n",
              "       [0, 0, 0, 1]])"
            ]
          },
          "metadata": {},
          "execution_count": 19
        }
      ]
    },
    {
      "cell_type": "code",
      "source": [
        "'''\n",
        "3. 将dna打断成kmer，按照自然语言处理的方式来训练。此方法依次切割一定长度的序列形成kmer，然后按照自然语言处理的方式来训练，如“ATGCATGCA” 如果打断成6bp的序列，就会成为 ‘ATGCAT’, ‘TGCATG’, ‘GCATGC’, ‘CATGCA’\n",
        "'''\n",
        "#首先获得kmer：\n",
        "def getKmers(sequence, size):\n",
        "  return [sequence[x:x+size].lower() for x in range(len(sequence) - size + 1)]\n",
        "\n",
        "# 测试该函数\n",
        "mySeq = 'CATGGCCATCCCCCCCCGAGCGGGGGGGGGG'\n",
        "getKmers(mySeq, size=6)\n",
        "\n",
        "# 将kmer 连接起来\n",
        "words = getKmers(mySeq, size=6)\n",
        "sentence = ' '.join(words)\n",
        "sentence\n",
        "\n",
        "# 我们用两条序列来测试\n",
        "mySeq2 = 'GATGGCCATCCCCGCCCGAGCGGGGGGGG'\n",
        "mySeq3 = 'CATGGCCATCCCCGCCCGAGCGGGCGGGG'\n",
        "sentence2 = ' '.join(getKmers(mySeq2, size=6))\n",
        "sentence3 = ' '.join(getKmers(mySeq3, size=6))\n",
        "# Creating the Bag of Words model\n",
        "from sklearn.feature_extraction.text import CountVectorizer\n",
        "cv = CountVectorizer()\n",
        "X = cv.fit_transform([sentence, sentence2, sentence3]).toarray()\n",
        "X\n"
      ],
      "metadata": {
        "colab": {
          "base_uri": "https://localhost:8080/"
        },
        "id": "wuCEUI9NU1KY",
        "outputId": "1dc40475-2914-49d4-b977-b41d32412446"
      },
      "execution_count": 20,
      "outputs": [
        {
          "output_type": "execute_result",
          "data": {
            "text/plain": [
              "array([[1, 1, 1, 1, 1, 1, 3, 1, 1, 0, 1, 0, 1, 0, 1, 0, 0, 1, 1, 0, 1, 0,\n",
              "        0, 1, 1, 0, 0, 5, 1, 0, 1],\n",
              "       [1, 1, 1, 1, 0, 1, 0, 0, 0, 1, 1, 1, 1, 1, 1, 1, 0, 1, 1, 1, 1, 1,\n",
              "        0, 1, 1, 0, 0, 3, 0, 1, 1],\n",
              "       [1, 1, 1, 1, 1, 1, 0, 0, 0, 1, 1, 1, 1, 1, 1, 1, 1, 0, 1, 0, 1, 1,\n",
              "        1, 1, 1, 1, 1, 0, 0, 1, 1]])"
            ]
          },
          "metadata": {},
          "execution_count": 20
        }
      ]
    }
  ]
}