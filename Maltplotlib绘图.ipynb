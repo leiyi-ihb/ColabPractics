{
  "nbformat": 4,
  "nbformat_minor": 0,
  "metadata": {
    "colab": {
      "provenance": [],
      "authorship_tag": "ABX9TyOp5ocWqLI8c+qIyEnXL6oR",
      "include_colab_link": true
    },
    "kernelspec": {
      "name": "python3",
      "display_name": "Python 3"
    },
    "language_info": {
      "name": "python"
    }
  },
  "cells": [
    {
      "cell_type": "markdown",
      "metadata": {
        "id": "view-in-github",
        "colab_type": "text"
      },
      "source": [
        "<a href=\"https://colab.research.google.com/github/leiyi-ihb/ColabPractics/blob/main/Maltplotlib%E7%BB%98%E5%9B%BE.ipynb\" target=\"_parent\"><img src=\"https://colab.research.google.com/assets/colab-badge.svg\" alt=\"Open In Colab\"/></a>"
      ]
    },
    {
      "cell_type": "code",
      "execution_count": null,
      "metadata": {
        "id": "PaJMfpZowrha"
      },
      "outputs": [],
      "source": [
        "# Maltpltlib是常用的python绘图工具包，这里对该包进行一般绘图进行讲解，尽量做到输入数据就能出图"
      ]
    },
    {
      "cell_type": "markdown",
      "source": [
        "# plot\n",
        "参考:https://zhuanlan.zhihu.com/p/33270402"
      ],
      "metadata": {
        "id": "gRRCZNzMxZDb"
      }
    },
    {
      "cell_type": "code",
      "source": [
        "from matplotlib.patches import Shadow\n",
        "import matplotlib.pyplot as plt\n",
        "'''\n",
        "matplotlib的初级之 ---> plot图\n",
        "Processing: 创建数据 --> 创建画板 --> 画图并装饰 --> 注释和标题 --> 图例 --> 坐标轴 --> show.plit()\n",
        "'''\n",
        "\n",
        "# step01：定义x和y坐标轴上的点【如果x,y都有，则元素个数必须相等】\n",
        "x=[1, 2, 3, 5] #x坐标轴上点的数值\n",
        "y=[1, 4, 9, 16] #y坐标轴上点的数值\n",
        "\n",
        "# step02：创建画板。这个是第一个figure对象\n",
        "plt.figure() #无参数默认画板1\n",
        "\n",
        "# step03：使用plot绘制线条及其装饰\n",
        "# 基本参数：第1个参数是x的坐标值，第2个参数是y的坐标值\n",
        "'''\n",
        "color：线条颜色，值r表示红色（red）\n",
        "marker：点的形状，值o表示点为圆圈标记（circle marker）\n",
        "linestyle：线条的形状，值dashed表示用虚线连接各点\n",
        "linewidth: 线宽\n",
        "label：图例显示，需通过plt.legend()显示\n",
        "'''\n",
        "plt.plot(y, label=\"Line plot\") #如果只有一个坐标，那么一定就是y轴, x轴就是默认\n",
        "plt.plot(x, y, color=\"red\", marker=\"o\", linestyle=\"dashed\", linewidth=3, label=\"DashLine\")\n",
        "\n",
        "# step04: 添加注释和标题等\n",
        "plt.xlabel('x label') #x轴文本\n",
        "plt.ylabel('y label') #y轴文本\n",
        "plt.title('Title') #标题\n",
        "\n",
        "#一种特殊的注释\n",
        "plt.annotate('here', xy=(2,5), xytext=(2, 10),\n",
        "            arrowprops=dict(facecolor='black', shrink=0.01),\n",
        "            ) #添加注释 参数名xy：箭头注释中箭头所在位置，参数名xytext：注释文本所在位置，arrowprops在xy和xytext之间绘制箭头, shrink表示注释点与注释文本之间的图标距离\n",
        "'''\n",
        "更为详细的注释\n",
        "plt.annotate(r'$2x+1 = %s$'% y0,xy = (x0,y0),xycoords = 'data',\n",
        "             xytext=(+30,-30),textcoords = 'offset points',fontsize = 16\n",
        "             ,arrowprops = dict(arrowstyle='->',\n",
        "                                connectionstyle=\"arc3,rad=.2\"))\n",
        "'''\n",
        "\n",
        "# step05：图例，一定是与plit.plot()里边的label参数配合的\n",
        "plt.legend(loc = 'upper right', labels = ['up','down'])\n",
        "# 如果不配合使用，就要下面这样写\n",
        "# plt.legend(handles = [l1,l2],labels = ['up','down'],loc = 'best') #l1和l2分别表示画的两条线\n",
        "legend = plt.legend(labels = ['hu','tang'],loc = 'upper center',shadow = True)\n",
        "frame = legend.get_frame()\n",
        "frame.set_facecolor('r') # 图例加颜色 \n",
        "\"\"\"\n",
        "legend( handles=(line1, line2, line3),\n",
        "           labels=('label1', 'label2', 'label3'),\n",
        "           'upper right')\n",
        "    shadow = True 设置图例是否有阴影[一般不需要]\n",
        "    The *loc* location codes are::\n",
        "          'best' : 0,         \n",
        "          'upper right'  : 1,\n",
        "          'upper left'   : 2,\n",
        "          'lower left'   : 3,\n",
        "          'lower right'  : 4,\n",
        "          'right'        : 5,\n",
        "          'center left'  : 6,\n",
        "          'center right' : 7,\n",
        "          'lower center' : 8,\n",
        "          'upper center' : 9,\n",
        "          'center'       : 10,\n",
        "\"\"\"\n",
        "\n",
        "# step05：坐标轴\n",
        "#设置图形的4个边框\n",
        "ax = plt.gca()\n",
        "ax.spines['top'].set_color('none')\n",
        "# ax.spines['bottom'].set_color('none')\n",
        "# ax.spines['left'].set_color('none')\n",
        "ax.spines['right'].set_color('none')\n",
        "\n",
        "#示图范围\n",
        "'''\n",
        "axis：坐标轴范围，如果不定义就是出全图\n",
        "语法为axis[xmin, xmax, ymin, ymax]，\n",
        "也就是axis[x轴最小值, x轴最大值, y轴最小值, y轴最大值]\n",
        "'''\n",
        "plt.axis([0, 6, 0, 20])\n",
        "\n",
        "# FinalStep：显示图形\n",
        "plt.show() # 如果不使用plt.show()图表是显示不出来的，因为可能你要对图表进行多种的描述，所以通过显式的调用show()可以避免不必要的错误"
      ],
      "metadata": {
        "colab": {
          "base_uri": "https://localhost:8080/",
          "height": 295
        },
        "id": "OKAjZSJIyR2B",
        "outputId": "4d6e423d-8208-48be-f51d-71cda4ed9701"
      },
      "execution_count": 41,
      "outputs": [
        {
          "output_type": "display_data",
          "data": {
            "text/plain": [
              "<Figure size 432x288 with 1 Axes>"
            ],
            "image/png": "[encoded data removed]"
          },
          "metadata": {
            "needs_background": "light"
          }
        }
      ]
    }
  ]
}