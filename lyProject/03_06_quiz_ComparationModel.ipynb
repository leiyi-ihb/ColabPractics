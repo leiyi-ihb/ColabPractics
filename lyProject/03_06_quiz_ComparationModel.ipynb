{
  "nbformat": 4,
  "nbformat_minor": 0,
  "metadata": {
    "colab": {
      "provenance": [],
      "authorship_tag": "ABX9TyPlRmGuSZGo2wkKX3pPaYTa",
      "include_colab_link": true
    },
    "kernelspec": {
      "name": "python3",
      "display_name": "Python 3"
    },
    "language_info": {
      "name": "python"
    }
  },
  "cells": [
    {
      "cell_type": "markdown",
      "metadata": {
        "id": "view-in-github",
        "colab_type": "text"
      },
      "source": [
        "<a href=\"https://colab.research.google.com/github/leiyi-ihb/ColabPractics/blob/main/lyProject/03_06_quiz_ComparationModel.ipynb\" target=\"_parent\"><img src=\"https://colab.research.google.com/assets/colab-badge.svg\" alt=\"Open In Colab\"/></a>"
      ]
    },
    {
      "cell_type": "code",
      "execution_count": 1,
      "metadata": {
        "colab": {
          "base_uri": "https://localhost:8080/"
        },
        "id": "0WlWGGRcZxz5",
        "outputId": "7982b172-4d7b-481c-e71f-65a63ef30d78"
      },
      "outputs": [
        {
          "output_type": "stream",
          "name": "stdout",
          "text": [
            "Platform:Linux-5.10.133+-x86_64-with-Ubuntu-18.04-bionic\n",
            "Tensorflow version:2.9.2\n",
            "Keras version:2.9.0\n"
          ]
        }
      ],
      "source": [
        "import platform\n",
        "import tensorflow\n",
        "import keras\n",
        "print(\"Platform:{}\".format(platform.platform()))\n",
        "print(\"Tensorflow version:{}\".format(tensorflow.__version__))\n",
        "print(\"Keras version:{}\".format(keras.__version__))\n",
        "import numpy as np\n",
        "from IPython.display import Image\n",
        "\n",
        "from keras.models import Model\n",
        "from keras.layers import Input, Dense, Conv1D, MaxPool1D\n",
        "from keras.utils import plot_model\n",
        "from keras.optimizers import Adam, SGD"
      ]
    },
    {
      "cell_type": "code",
      "source": [
        "! if [ ! -f \"dataset_Li.pkl\" ]; then wget https://master.dl.sourceforge.net/project/summer-research-20/sim_data_1/dataset_Li.pkl ; else echo \"Found previous downloaded data.\"; fi"
      ],
      "metadata": {
        "colab": {
          "base_uri": "https://localhost:8080/"
        },
        "id": "CUr2P1b_aXLw",
        "outputId": "1680b3b8-75d5-4075-873c-bfa61a12dc2b"
      },
      "execution_count": 2,
      "outputs": [
        {
          "output_type": "stream",
          "name": "stdout",
          "text": [
            "--2022-11-11 01:59:13--  https://master.dl.sourceforge.net/project/summer-research-20/sim_data_1/dataset_Li.pkl\n",
            "Resolving master.dl.sourceforge.net (master.dl.sourceforge.net)... 216.105.38.12\n",
            "Connecting to master.dl.sourceforge.net (master.dl.sourceforge.net)|216.105.38.12|:443... connected.\n",
            "HTTP request sent, awaiting response... 301 Moved Permanently\n",
            "Location: https://downloads.sourceforge.net/project/summer-research-20/sim_data_1/dataset_Li.pkl [following]\n",
            "--2022-11-11 01:59:13--  https://downloads.sourceforge.net/project/summer-research-20/sim_data_1/dataset_Li.pkl\n",
            "Resolving downloads.sourceforge.net (downloads.sourceforge.net)... 204.68.111.105\n",
            "Connecting to downloads.sourceforge.net (downloads.sourceforge.net)|204.68.111.105|:443... connected.\n",
            "HTTP request sent, awaiting response... 302 Found\n",
            "Location: https://versaweb.dl.sourceforge.net/project/summer-research-20/sim_data_1/dataset_Li.pkl [following]\n",
            "--2022-11-11 01:59:14--  https://versaweb.dl.sourceforge.net/project/summer-research-20/sim_data_1/dataset_Li.pkl\n",
            "Resolving versaweb.dl.sourceforge.net (versaweb.dl.sourceforge.net)... 162.251.232.173\n",
            "Connecting to versaweb.dl.sourceforge.net (versaweb.dl.sourceforge.net)|162.251.232.173|:443... connected.\n",
            "HTTP request sent, awaiting response... 200 OK\n",
            "Length: 640080470 (610M) [application/octet-stream]\n",
            "Saving to: ‘dataset_Li.pkl’\n",
            "\n",
            "dataset_Li.pkl      100%[===================>] 610.43M  4.84MB/s    in 2m 2s   \n",
            "\n",
            "2022-11-11 02:01:16 (5.00 MB/s) - ‘dataset_Li.pkl’ saved [640080470/640080470]\n",
            "\n"
          ]
        }
      ]
    },
    {
      "cell_type": "code",
      "source": [
        "# Data processing\n",
        "import pickle\n",
        "with open(\"dataset_Li.pkl\", \"rb\") as f:\n",
        "    data = pickle.load(f)\n",
        "x_train, y_train = np.array(data['train'][0]), np.array(data['train'][1])\n",
        "x_test, y_test = np.array(data['test'][0]), np.array(data['test'][1])\n",
        "print(x_train.shape, y_train.shape)\n",
        "print(x_train[0:1, 0:2])"
      ],
      "metadata": {
        "colab": {
          "base_uri": "https://localhost:8080/"
        },
        "id": "ia_BKXaZaapp",
        "outputId": "4c11ba5d-d15d-4b03-a4e6-31c2ff696aaf"
      },
      "execution_count": 3,
      "outputs": [
        {
          "output_type": "stream",
          "name": "stdout",
          "text": [
            "(16000, 1000, 4) (16000, 1)\n",
            "[[[0. 1. 0. 0.]\n",
            "  [0. 0. 0. 1.]]]\n"
          ]
        }
      ]
    },
    {
      "cell_type": "code",
      "source": [
        "# First\n",
        "input = Input(shape=(1000, 4), name='input')\n",
        "conv1d_1 = Conv1D(32, kernel_size=20, activation='relu', name='conv1d_1')(input)\n",
        "pool_1 = MaxPool1D()(conv1d_1)\n",
        "dense_1 = Dense(32, activation='relu', name='dense1')(pool_1)\n",
        "output = Dense(1, activation='softmax', name='output')(dense_1)\n",
        "\n",
        "model = Model(inputs=input, outputs=output)\n",
        "\n",
        "# 可视化\n",
        "# 1、打印网络\n",
        "print(model.summary())\n",
        "# 2、展示网络结构\n",
        "plot_model(model,to_file='multiple_inputs.png')\n",
        "Image('multiple_inputs.png')\n",
        "\n",
        "# compile\n",
        "model.compile(optimizer='rmsprop',\n",
        "             metrics = ['acc'],\n",
        "             loss = 'binary_crossentropy')\n",
        "# training\n",
        "model.fit(x_train, y_train,\n",
        "                   epochs = 10,\n",
        "                   batch_size = 10,\n",
        "                   )\n",
        "\n",
        "loss, accuracy = model.evaluate(x_train, y_train, batch_size=512)\n",
        "print(\"\\ntest loss:\", loss)\n",
        "print('accuracy:', accuracy)\n",
        "\n",
        "loss, accuracy = model.evaluate(x_test, y_test) #将我们的训练集也评估一下\n",
        "print(\"\\ntrain loss:\", loss)\n",
        "print('accuracy:', accuracy)"
      ],
      "metadata": {
        "colab": {
          "base_uri": "https://localhost:8080/"
        },
        "id": "zqaPLjXBa7sO",
        "outputId": "722ee965-674b-4f94-993a-f10bee5c447e"
      },
      "execution_count": 8,
      "outputs": [
        {
          "output_type": "stream",
          "name": "stdout",
          "text": [
            "Model: \"model_3\"\n",
            "_________________________________________________________________\n",
            " Layer (type)                Output Shape              Param #   \n",
            "=================================================================\n",
            " input (InputLayer)          [(None, 1000, 4)]         0         \n",
            "                                                                 \n",
            " conv1d_1 (Conv1D)           (None, 981, 32)           2592      \n",
            "                                                                 \n",
            " max_pooling1d_3 (MaxPooling  (None, 490, 32)          0         \n",
            " 1D)                                                             \n",
            "                                                                 \n",
            " dense1 (Dense)              (None, 490, 32)           1056      \n",
            "                                                                 \n",
            " output (Dense)              (None, 490, 1)            33        \n",
            "                                                                 \n",
            "=================================================================\n",
            "Total params: 3,681\n",
            "Trainable params: 3,681\n",
            "Non-trainable params: 0\n",
            "_________________________________________________________________\n",
            "None\n",
            "Epoch 1/10\n",
            "1600/1600 [==============================] - 26s 16ms/step - loss: 7.6294 - acc: 0.4997\n",
            "Epoch 2/10\n",
            "1600/1600 [==============================] - 26s 16ms/step - loss: 7.6294 - acc: 0.4997\n",
            "Epoch 3/10\n",
            "1600/1600 [==============================] - 25s 16ms/step - loss: 7.6294 - acc: 0.4997\n",
            "Epoch 4/10\n",
            "1600/1600 [==============================] - 25s 16ms/step - loss: 7.6294 - acc: 0.4997\n",
            "Epoch 5/10\n",
            "1600/1600 [==============================] - 25s 16ms/step - loss: 7.6294 - acc: 0.4997\n",
            "Epoch 6/10\n",
            "1600/1600 [==============================] - 27s 17ms/step - loss: 7.6294 - acc: 0.4997\n",
            "Epoch 7/10\n",
            "1600/1600 [==============================] - 25s 16ms/step - loss: 7.6294 - acc: 0.4997\n",
            "Epoch 8/10\n",
            "1600/1600 [==============================] - 25s 16ms/step - loss: 7.6294 - acc: 0.4997\n",
            "Epoch 9/10\n",
            "1600/1600 [==============================] - 25s 16ms/step - loss: 7.6294 - acc: 0.4997\n",
            "Epoch 10/10\n",
            "1600/1600 [==============================] - 25s 16ms/step - loss: 7.6294 - acc: 0.4997\n",
            "32/32 [==============================] - 4s 134ms/step - loss: 7.6294 - acc: 0.4997\n",
            "\n",
            "test loss: 7.629384994506836\n",
            "accuracy: 0.4996874928474426\n",
            "63/63 [==============================] - 1s 13ms/step - loss: 7.5331 - acc: 0.5060\n",
            "\n",
            "train loss: 7.533125400543213\n",
            "accuracy: 0.5059999823570251\n"
          ]
        }
      ]
    },
    {
      "cell_type": "code",
      "source": [
        "# First\n",
        "from keras.layers import Dropout\n",
        "input = Input(shape=(1000, 4), name='input')\n",
        "conv1d_1 = Conv1D(32, kernel_size=4, activation='relu', name='conv1d_1')(input)\n",
        "# drop_1 = Dropout(0.2, name='dropout_1')(conv1d_1)\n",
        "# pool_1 = MaxPool1D(pool_size=4, name='pool_1')(drop_1)\n",
        "dense_1 = Dense(32, activation='relu', name='dense1')(conv1d_1)\n",
        "output = Dense(1, activation='softmax', name='output')(dense_1)\n",
        "\n",
        "model = Model(inputs=input, outputs=output)\n",
        "\n",
        "# 可视化\n",
        "# 1、打印网络\n",
        "print(model.summary())\n",
        "# 2、展示网络结构\n",
        "plot_model(model,to_file='multiple_inputs.png')\n",
        "Image('multiple_inputs.png')\n",
        "\n",
        "# compile\n",
        "model.compile(optimizer='rmsprop',\n",
        "             metrics = ['acc'],\n",
        "             loss = 'binary_crossentropy')\n",
        "# training\n",
        "model.fit(x_train, y_train,\n",
        "                   epochs = 10,\n",
        "                   batch_size = 10,\n",
        "                   )\n",
        "\n",
        "loss, accuracy = model.evaluate(x_train, y_train, batch_size=512)\n",
        "print(\"\\ntest loss:\", loss)\n",
        "print('accuracy:', accuracy)\n",
        "\n",
        "loss, accuracy = model.evaluate(x_test, y_test) #将我们的训练集也评估一下\n",
        "print(\"\\ntrain loss:\", loss)\n",
        "print('accuracy:', accuracy)"
      ],
      "metadata": {
        "colab": {
          "base_uri": "https://localhost:8080/"
        },
        "id": "QsdLd6GIiU42",
        "outputId": "ccb91204-27fa-45ff-8d64-3c4af76ab5f9"
      },
      "execution_count": 11,
      "outputs": [
        {
          "output_type": "stream",
          "name": "stdout",
          "text": [
            "Model: \"model_6\"\n",
            "_________________________________________________________________\n",
            " Layer (type)                Output Shape              Param #   \n",
            "=================================================================\n",
            " input (InputLayer)          [(None, 1000, 4)]         0         \n",
            "                                                                 \n",
            " conv1d_1 (Conv1D)           (None, 997, 32)           544       \n",
            "                                                                 \n",
            " dense1 (Dense)              (None, 997, 32)           1056      \n",
            "                                                                 \n",
            " output (Dense)              (None, 997, 1)            33        \n",
            "                                                                 \n",
            "=================================================================\n",
            "Total params: 1,633\n",
            "Trainable params: 1,633\n",
            "Non-trainable params: 0\n",
            "_________________________________________________________________\n",
            "None\n",
            "Epoch 1/10\n",
            "1600/1600 [==============================] - 18s 11ms/step - loss: 7.6294 - acc: 0.4997\n",
            "Epoch 2/10\n",
            "1600/1600 [==============================] - 18s 11ms/step - loss: 7.6294 - acc: 0.4997\n",
            "Epoch 3/10\n",
            "1600/1600 [==============================] - 20s 12ms/step - loss: 7.6294 - acc: 0.4997\n",
            "Epoch 4/10\n",
            "1600/1600 [==============================] - 18s 11ms/step - loss: 7.6294 - acc: 0.4997\n",
            "Epoch 5/10\n",
            "1600/1600 [==============================] - 19s 12ms/step - loss: 7.6294 - acc: 0.4997\n",
            "Epoch 6/10\n",
            "1600/1600 [==============================] - 18s 12ms/step - loss: 7.6294 - acc: 0.4997\n",
            "Epoch 7/10\n",
            "1600/1600 [==============================] - 18s 11ms/step - loss: 7.6294 - acc: 0.4997\n",
            "Epoch 8/10\n",
            "1600/1600 [==============================] - 18s 11ms/step - loss: 7.6294 - acc: 0.4997\n",
            "Epoch 9/10\n",
            "1600/1600 [==============================] - 18s 11ms/step - loss: 7.6294 - acc: 0.4997\n",
            "Epoch 10/10\n",
            "1600/1600 [==============================] - 18s 11ms/step - loss: 7.6294 - acc: 0.4997\n",
            "32/32 [==============================] - 4s 125ms/step - loss: 7.6294 - acc: 0.4997\n",
            "\n",
            "test loss: 7.629384994506836\n",
            "accuracy: 0.4996874928474426\n",
            "63/63 [==============================] - 1s 13ms/step - loss: 7.5331 - acc: 0.5060\n",
            "\n",
            "train loss: 7.533125400543213\n",
            "accuracy: 0.5059999823570251\n"
          ]
        }
      ]
    }
  ]
}