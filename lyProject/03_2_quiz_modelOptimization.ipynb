{
  "nbformat": 4,
  "nbformat_minor": 0,
  "metadata": {
    "colab": {
      "provenance": [],
      "authorship_tag": "ABX9TyNrJFt9/jekPrdWbsCYJ1bv",
      "include_colab_link": true
    },
    "kernelspec": {
      "name": "python3",
      "display_name": "Python 3"
    },
    "language_info": {
      "name": "python"
    }
  },
  "cells": [
    {
      "cell_type": "markdown",
      "metadata": {
        "id": "view-in-github",
        "colab_type": "text"
      },
      "source": [
        "<a href=\"https://colab.research.google.com/github/leiyi-ihb/ColabPractics/blob/main/lyProject/03_2_quiz_modelOptimization.ipynb\" target=\"_parent\"><img src=\"https://colab.research.google.com/assets/colab-badge.svg\" alt=\"Open In Colab\"/></a>"
      ]
    },
    {
      "cell_type": "code",
      "execution_count": 1,
      "metadata": {
        "id": "mk096DBoiwgP"
      },
      "outputs": [],
      "source": [
        "# We are going to optimize the quize model\n",
        "import numpy as np\n",
        "from keras.models import Sequential\n",
        "from keras.layers import Dense, Activation, MaxPooling1D, GlobalMaxPooling1D, Conv1D, Flatten, AveragePooling1D, GlobalAveragePooling1D\n",
        "from keras.optimizers import Adam, SGD"
      ]
    },
    {
      "cell_type": "code",
      "source": [
        "! if [ ! -f \"dataset_Li.pkl\" ]; then wget https://master.dl.sourceforge.net/project/summer-research-20/sim_data_1/dataset_Li.pkl ; else echo \"Found previous downloaded data.\"; fi"
      ],
      "metadata": {
        "colab": {
          "base_uri": "https://localhost:8080/"
        },
        "id": "gyQN7S8_kLUV",
        "outputId": "e80e80f5-030c-45ec-d8fc-727460ccd632"
      },
      "execution_count": 2,
      "outputs": [
        {
          "output_type": "stream",
          "name": "stdout",
          "text": [
            "--2022-11-03 14:49:22--  https://master.dl.sourceforge.net/project/summer-research-20/sim_data_1/dataset_Li.pkl\n",
            "Resolving master.dl.sourceforge.net (master.dl.sourceforge.net)... 216.105.38.12\n",
            "Connecting to master.dl.sourceforge.net (master.dl.sourceforge.net)|216.105.38.12|:443... connected.\n",
            "HTTP request sent, awaiting response... 301 Moved Permanently\n",
            "Location: https://downloads.sourceforge.net/project/summer-research-20/sim_data_1/dataset_Li.pkl [following]\n",
            "--2022-11-03 14:49:22--  https://downloads.sourceforge.net/project/summer-research-20/sim_data_1/dataset_Li.pkl\n",
            "Resolving downloads.sourceforge.net (downloads.sourceforge.net)... 204.68.111.105\n",
            "Connecting to downloads.sourceforge.net (downloads.sourceforge.net)|204.68.111.105|:443... connected.\n",
            "HTTP request sent, awaiting response... 302 Found\n",
            "Location: https://versaweb.dl.sourceforge.net/project/summer-research-20/sim_data_1/dataset_Li.pkl [following]\n",
            "--2022-11-03 14:49:23--  https://versaweb.dl.sourceforge.net/project/summer-research-20/sim_data_1/dataset_Li.pkl\n",
            "Resolving versaweb.dl.sourceforge.net (versaweb.dl.sourceforge.net)... 162.251.232.173\n",
            "Connecting to versaweb.dl.sourceforge.net (versaweb.dl.sourceforge.net)|162.251.232.173|:443... connected.\n",
            "HTTP request sent, awaiting response... 200 OK\n",
            "Length: 640080470 (610M) [application/octet-stream]\n",
            "Saving to: ‘dataset_Li.pkl’\n",
            "\n",
            "dataset_Li.pkl      100%[===================>] 610.43M  4.91MB/s    in 2m 0s   \n",
            "\n",
            "2022-11-03 14:51:23 (5.11 MB/s) - ‘dataset_Li.pkl’ saved [640080470/640080470]\n",
            "\n"
          ]
        }
      ]
    },
    {
      "cell_type": "code",
      "source": [
        "# Data processing\n",
        "import pickle\n",
        "with open(\"dataset_Li.pkl\", \"rb\") as f:\n",
        "    data = pickle.load(f)\n",
        "x_train, y_train = np.array(data['train'][0]), np.array(data['train'][1])\n",
        "x_test, y_test = np.array(data['test'][0]), np.array(data['test'][1])\n",
        "\n",
        "print(x_train.shape)"
      ],
      "metadata": {
        "id": "Bk862UJakIAl",
        "colab": {
          "base_uri": "https://localhost:8080/"
        },
        "outputId": "2b9f8dd0-24a5-44e1-b98c-c54440408b77"
      },
      "execution_count": 3,
      "outputs": [
        {
          "output_type": "stream",
          "name": "stdout",
          "text": [
            "(16000, 1000, 4)\n"
          ]
        }
      ]
    },
    {
      "cell_type": "code",
      "source": [
        "\n",
        "class Model:  \n",
        "  def __init__(self, learnRate):        \n",
        "    '''optimizer'''\n",
        "    self.adam = Adam(lr=learnRate)\n",
        "    self.sgd = SGD(lr=learnRate) \n",
        "    self.model = Sequential()\n",
        "\n",
        "  def modelBuild(self, filter, poolSize, kernelSize, ConvAct, DenAct, input):\n",
        "    model = self.model\n",
        "    '''model build'''   \n",
        "    model.add(Conv1D(filters=filter, kernel_size=(kernelSize), activation=ConvAct, input_shape=input))\n",
        "    model.add(MaxPooling1D(pool_size=(poolSize)))\n",
        "    model.add(GlobalMaxPooling1D())\n",
        "    # model.add(Dense(1, activation=DenAct))\n",
        "    model.add(Flatten())\n",
        "    model.add(Dense(32, activation=DenAct))\n",
        "    model.add(Dense(1, activation=DenAct))\n",
        "    # return model\n",
        "  def modelCompile(self, met, los):\n",
        "    '''model compile'''\n",
        "    model = self.model\n",
        "    # self.modelBuild()\n",
        "    model.compile(optimizer=self.adam,\n",
        "             metrics = [met],\n",
        "             loss = los)\n",
        "\n",
        "  def modelFit(self, xTrain, yTrain, epo, batSize): \n",
        "    '''model fix'''\n",
        "    model = self.model\n",
        "    # self.modelBuild()\n",
        "    model.fit(xTrain, \n",
        "              yTrain,\n",
        "              epochs = epo,\n",
        "              batch_size = batSize\n",
        "              )\n",
        "    \n",
        "  def modelEvaluate(self, xTrain, yTrain, xTest, yTest, batSize):\n",
        "    '''model evaluate'''\n",
        "    model = self.model\n",
        "    loss, accuracy = model.evaluate(xTrain, yTrain, batch_size=batSize)\n",
        "    print(\"\\ntest loss:\", loss)\n",
        "    print('accuracy:', accuracy)\n",
        "\n",
        "    loss, accuracy = model.evaluate(xTest, yTest) #将我们的训练集也评估一下\n",
        "    print(\"\\ntrain loss:\", loss)\n",
        "    print('accuracy:', accuracy)\n",
        "\n",
        "\n",
        "\n",
        "if __name__=='__main__':\n",
        "  '''\n",
        "  1, Conv1d: Filters = {32, 16, 3}; Kernel_size = {20, 10, 7, 5, 3}; Activation = {‘relu’, ‘tanh’, ‘linear’}\n",
        "  2, Pooling1d: Max or Avg pool; Pool size = {8, 4, 2,}\n",
        "  3, Flatten: Global Max, Global Avg, Flatten\n",
        "  4, Dense: Units = {32, 64}; Activation = {‘relu’, ‘tanh’, ‘linear’}\n",
        "  '''\n",
        "  kernel_size =[20, 10, 7, 5, 3]\n",
        "  activation = [\"relu\", \"tanh\", \"linear\"]\n",
        "  poolSize = [8, 4, 2]\n",
        "  deAct = [\"relu\", \"tanh\", \"linear\"]\n",
        "\n",
        "  from itertools import product\n",
        "  loop_val = [kernel_size, activation, poolSize, deAct] #\n",
        "  for i in product(*loop_val):\n",
        "    print(x_train.shape)\n",
        "    print(i)\n",
        "    obj1 = Model(0.01)\n",
        "    obj1.modelBuild(filter=32, poolSize=i[2], kernelSize=i[0], ConvAct=i[1], DenAct=i[3], input=(1000, 4))\n",
        "    obj1.modelCompile(met=\"acc\", los='binary_crossentropy')\n",
        "    obj1.modelFit(xTrain=x_train, yTrain=y_train, epo=10, batSize=512)\n",
        "    obj1.modelEvaluate(xTrain=x_train, yTrain=y_train, xTest=x_test, yTest=y_test, batSize=512)\n"
      ],
      "metadata": {
        "colab": {
          "base_uri": "https://localhost:8080/"
        },
        "id": "C7DZv_DzlBud",
        "outputId": "803630b2-60ed-4adb-d534-76535c762734"
      },
      "execution_count": null,
      "outputs": [
        {
          "output_type": "stream",
          "name": "stdout",
          "text": [
            "(16000, 1000, 4)\n",
            "(20, 'relu', 8, 'relu')\n"
          ]
        },
        {
          "output_type": "stream",
          "name": "stderr",
          "text": [
            "/usr/local/lib/python3.7/dist-packages/keras/optimizers/optimizer_v2/adam.py:110: UserWarning: The `lr` argument is deprecated, use `learning_rate` instead.\n",
            "  super(Adam, self).__init__(name, **kwargs)\n",
            "/usr/local/lib/python3.7/dist-packages/keras/optimizers/optimizer_v2/gradient_descent.py:108: UserWarning: The `lr` argument is deprecated, use `learning_rate` instead.\n",
            "  super(SGD, self).__init__(name, **kwargs)\n"
          ]
        },
        {
          "output_type": "stream",
          "name": "stdout",
          "text": [
            "Epoch 1/10\n",
            "32/32 [==============================] - 80s 2s/step - loss: 7.4735 - acc: 0.5016\n",
            "Epoch 2/10\n",
            "32/32 [==============================] - 78s 2s/step - loss: 7.7077 - acc: 0.5003\n",
            "Epoch 3/10\n",
            "32/32 [==============================] - 77s 2s/step - loss: 7.7077 - acc: 0.5003\n",
            "Epoch 4/10\n",
            "32/32 [==============================] - 79s 2s/step - loss: 7.7077 - acc: 0.5003\n",
            "Epoch 5/10\n",
            "32/32 [==============================] - 76s 2s/step - loss: 7.7077 - acc: 0.5003\n",
            "Epoch 6/10\n",
            "32/32 [==============================] - 77s 2s/step - loss: 7.7077 - acc: 0.5003\n",
            "Epoch 7/10\n",
            "32/32 [==============================] - 77s 2s/step - loss: 7.7077 - acc: 0.5003\n",
            "Epoch 8/10\n",
            "32/32 [==============================] - 77s 2s/step - loss: 7.7077 - acc: 0.5003\n",
            "Epoch 9/10\n",
            "32/32 [==============================] - 77s 2s/step - loss: 7.7077 - acc: 0.5003\n",
            "Epoch 10/10\n",
            "32/32 [==============================] - 80s 2s/step - loss: 7.7077 - acc: 0.5003\n",
            "32/32 [==============================] - 15s 447ms/step - loss: 7.7077 - acc: 0.5003\n",
            "\n",
            "test loss: 7.707653999328613\n",
            "accuracy: 0.5003125071525574\n",
            "63/63 [==============================] - 2s 35ms/step - loss: 7.8050 - acc: 0.4940\n",
            "\n",
            "train loss: 7.805024147033691\n",
            "accuracy: 0.49399998784065247\n",
            "(16000, 1000, 4)\n",
            "(20, 'relu', 8, 'tanh')\n",
            "Epoch 1/10\n",
            "32/32 [==============================] - 78s 2s/step - loss: 7.7077 - acc: 0.5003\n",
            "Epoch 2/10\n",
            "32/32 [==============================] - 79s 2s/step - loss: 7.7077 - acc: 0.5003\n",
            "Epoch 3/10\n",
            "32/32 [==============================] - 82s 3s/step - loss: 7.7077 - acc: 0.5003\n",
            "Epoch 4/10\n",
            "32/32 [==============================] - 85s 3s/step - loss: 7.7077 - acc: 0.5003\n",
            "Epoch 5/10\n",
            "32/32 [==============================] - 84s 3s/step - loss: 7.7077 - acc: 0.5003\n",
            "Epoch 6/10\n"
          ]
        }
      ]
    },
    {
      "cell_type": "code",
      "source": [
        "#https://blog.csdn.net/w771792694/article/details/98182757"
      ],
      "metadata": {
        "id": "O1h_DqptBmR2"
      },
      "execution_count": null,
      "outputs": []
    }
  ]
}