{
  "nbformat": 4,
  "nbformat_minor": 0,
  "metadata": {
    "colab": {
      "provenance": [],
      "authorship_tag": "ABX9TyOGbt7318o2M+qTMV+fVH+0",
      "include_colab_link": true
    },
    "kernelspec": {
      "name": "python3",
      "display_name": "Python 3"
    },
    "language_info": {
      "name": "python"
    }
  },
  "cells": [
    {
      "cell_type": "markdown",
      "metadata": {
        "id": "view-in-github",
        "colab_type": "text"
      },
      "source": [
        "<a href=\"https://colab.research.google.com/github/leiyi-ihb/ColabPractics/blob/main/lyProject/keras_functionalAPI01.ipynb\" target=\"_parent\"><img src=\"https://colab.research.google.com/assets/colab-badge.svg\" alt=\"Open In Colab\"/></a>"
      ]
    },
    {
      "cell_type": "code",
      "execution_count": 12,
      "metadata": {
        "colab": {
          "base_uri": "https://localhost:8080/"
        },
        "id": "Kzzzwrs3rl6M",
        "outputId": "59638528-b308-4df3-eb7d-4a105337add0"
      },
      "outputs": [
        {
          "output_type": "stream",
          "name": "stdout",
          "text": [
            "Platform:Linux-5.10.133+-x86_64-with-Ubuntu-18.04-bionic\n",
            "Tensorflow version:2.9.2\n",
            "Keras version:2.9.0\n"
          ]
        }
      ],
      "source": [
        "import platform\n",
        "import tensorflow\n",
        "import keras\n",
        "print(\"Platform:{}\".format(platform.platform()))\n",
        "print(\"Tensorflow version:{}\".format(tensorflow.__version__))\n",
        "print(\"Keras version:{}\".format(keras.__version__))\n",
        "import numpy as np\n",
        "from IPython.display import Image\n",
        "\n",
        "from keras.models import Model\n",
        "from keras.layers import Input, Dense, Conv1D, MaxPool1D\n",
        "from keras.utils import plot_model\n",
        "from keras.optimizers import Adam, SGD"
      ]
    },
    {
      "cell_type": "code",
      "source": [
        "! if [ ! -f \"dataset_Li.pkl\" ]; then wget https://master.dl.sourceforge.net/project/summer-research-20/sim_data_1/dataset_Li.pkl ; else echo \"Found previous downloaded data.\"; fi"
      ],
      "metadata": {
        "colab": {
          "base_uri": "https://localhost:8080/"
        },
        "id": "3tpGpDp1r02C",
        "outputId": "ecdda88e-36be-42ca-9259-862b11174bc7"
      },
      "execution_count": 2,
      "outputs": [
        {
          "output_type": "stream",
          "name": "stdout",
          "text": [
            "--2022-11-10 17:57:07--  https://master.dl.sourceforge.net/project/summer-research-20/sim_data_1/dataset_Li.pkl\n",
            "Resolving master.dl.sourceforge.net (master.dl.sourceforge.net)... 216.105.38.12\n",
            "Connecting to master.dl.sourceforge.net (master.dl.sourceforge.net)|216.105.38.12|:443... connected.\n",
            "HTTP request sent, awaiting response... 301 Moved Permanently\n",
            "Location: https://downloads.sourceforge.net/project/summer-research-20/sim_data_1/dataset_Li.pkl [following]\n",
            "--2022-11-10 17:57:08--  https://downloads.sourceforge.net/project/summer-research-20/sim_data_1/dataset_Li.pkl\n",
            "Resolving downloads.sourceforge.net (downloads.sourceforge.net)... 204.68.111.105\n",
            "Connecting to downloads.sourceforge.net (downloads.sourceforge.net)|204.68.111.105|:443... connected.\n",
            "HTTP request sent, awaiting response... 302 Found\n",
            "Location: https://cfhcable.dl.sourceforge.net/project/summer-research-20/sim_data_1/dataset_Li.pkl [following]\n",
            "--2022-11-10 17:57:08--  https://cfhcable.dl.sourceforge.net/project/summer-research-20/sim_data_1/dataset_Li.pkl\n",
            "Resolving cfhcable.dl.sourceforge.net (cfhcable.dl.sourceforge.net)... 146.71.73.6\n",
            "Connecting to cfhcable.dl.sourceforge.net (cfhcable.dl.sourceforge.net)|146.71.73.6|:443... connected.\n",
            "HTTP request sent, awaiting response... 200 OK\n",
            "Length: 640080470 (610M) [application/octet-stream]\n",
            "Saving to: ‘dataset_Li.pkl’\n",
            "\n",
            "dataset_Li.pkl      100%[===================>] 610.43M  69.1MB/s    in 8.9s    \n",
            "\n",
            "2022-11-10 17:57:17 (68.7 MB/s) - ‘dataset_Li.pkl’ saved [640080470/640080470]\n",
            "\n"
          ]
        }
      ]
    },
    {
      "cell_type": "code",
      "source": [
        "# Data processing\n",
        "import pickle\n",
        "with open(\"dataset_Li.pkl\", \"rb\") as f:\n",
        "    data = pickle.load(f)\n",
        "x_train, y_train = np.array(data['train'][0]), np.array(data['train'][1])\n",
        "x_test, y_test = np.array(data['test'][0]), np.array(data['test'][1])\n",
        "print(x_train.shape, y_train.shape)\n",
        "print(x_train[0:1, 0:2])"
      ],
      "metadata": {
        "colab": {
          "base_uri": "https://localhost:8080/"
        },
        "id": "ZfDwthEHsDG0",
        "outputId": "cf17b89f-56d6-47a7-9b61-6408f66fdf21"
      },
      "execution_count": 13,
      "outputs": [
        {
          "output_type": "stream",
          "name": "stdout",
          "text": [
            "(16000, 1000, 4) (16000, 1)\n",
            "[[[0. 1. 0. 0.]\n",
            "  [0. 0. 0. 1.]]]\n"
          ]
        }
      ]
    },
    {
      "cell_type": "code",
      "source": [
        "class CNNModel:  \n",
        "  def __init__(self):        \n",
        "    '''optimizer'''\n",
        "    # self.adam = Adam(lr=learnRate)\n",
        "    # self.sgd = SGD(lr=learnRate) \n",
        "    # self.model = Sequential()\n",
        "    pass\n",
        "\n",
        "  def modelBuild(self):\n",
        "    # model = self.model\n",
        "    '''model build'''\n",
        "    input = Input(shape=(1000, 4), name='input')\n",
        "    conv1d_1 = Conv1D(64, kernel_size=4, activation='relu', name='conv1d_1')(input)\n",
        "    pool_1 = MaxPool1D(pool_size=2, name='pool_1')(conv1d_1)\n",
        "    conv1d_2 = Conv1D(32, kernel_size=4, activation='relu', name='conv1d_2')(pool_1)\n",
        "    pool_2 = MaxPool1D(pool_size=2, name='pool_2')(conv1d_2)\n",
        "    dense_1 = Dense(64, activation='relu', name='dense_1')(pool_2)\n",
        "    output = Dense(1, activation='sigmoid', name='output')(dense_1)    \n",
        "    model = Model(inputs=input, outputs=output)\n",
        "    \n",
        "    #可视化\n",
        "    print(model.summary()) # 打印网络\n",
        "    plot_model(model,to_file='multiple_inputs.png') # 展示网络结构\n",
        "    Image('multiple_inputs.png')\n",
        "\n",
        "    return model\n",
        "\n",
        "  def modelCompile(self, model):\n",
        "    '''model compile'''    \n",
        "    m.compile(optimizer='adam',\n",
        "             metrics = 'acc',\n",
        "             loss = 'binary_crossentropy')\n",
        "\n",
        "  def modelFit(self, xTrain, yTrain, epo, batSize, model): \n",
        "    '''model fix'''\n",
        "    # model = self.model \n",
        "    model.fit(xTrain, \n",
        "              yTrain,\n",
        "              epochs = epo,\n",
        "              batch_size = batSize\n",
        "              )\n",
        "    \n",
        "  def modelEvaluate(self, xTrain, yTrain, xTest, yTest, batSize, model):\n",
        "    '''model evaluate'''\n",
        "    # model = self.model\n",
        "    loss, accuracy = model.evaluate(xTrain, yTrain, batch_size=batSize)\n",
        "    print(\"\\ntest loss:\", loss)\n",
        "    print('accuracy:', accuracy)\n",
        "\n",
        "    loss, accuracy = model.evaluate(xTest, yTest) #将我们的训练集也评估一下\n",
        "    print(\"\\ntrain loss:\", loss)\n",
        "    print('accuracy:', accuracy)\n",
        "\n",
        "\n",
        "\n",
        "if __name__=='__main__':\n",
        "  '''\n",
        "  1, Conv1d: Filters = {32, 16, 3}; Kernel_size = {20, 10, 7, 5, 3}; Activation = {‘relu’, ‘tanh’, ‘linear’}\n",
        "  2, Pooling1d: Max or Avg pool; Pool size = {8, 4, 2,}\n",
        "  3, Flatten: Global Max, Global Avg, Flatten\n",
        "  4, Dense: Units = {32, 64}; Activation = {‘relu’, ‘tanh’, ‘linear’}\n",
        "  '''\n",
        "  # kernel_size =[20, 10, 7, 5, 3]\n",
        "  # activation = [\"relu\", \"tanh\", \"linear\"]\n",
        "  # poolSize = [8, 4, 2]\n",
        "  # deAct = [\"relu\", \"tanh\", \"linear\"]\n",
        "  obj1 = CNNModel()\n",
        "  model = obj1.modelBuild()\n",
        "  obj1.modelCompile(model=model)\n",
        "  obj1.modelFit(xTrain=x_train, yTrain=y_train, epo=10, batSize=512, model=model)\n",
        "  obj1.modelEvaluate(xTrain=x_train, yTrain=y_train, xTest=x_test, yTest=y_test, batSize=512, model=model)"
      ],
      "metadata": {
        "colab": {
          "base_uri": "https://localhost:8080/"
        },
        "id": "xQOZnqS2sLhs",
        "outputId": "8c8b9d08-7c2b-4e12-a7c7-f66942abde8f"
      },
      "execution_count": 18,
      "outputs": [
        {
          "output_type": "stream",
          "name": "stdout",
          "text": [
            "Model: \"model_4\"\n",
            "_________________________________________________________________\n",
            " Layer (type)                Output Shape              Param #   \n",
            "=================================================================\n",
            " input (InputLayer)          [(None, 1000, 4)]         0         \n",
            "                                                                 \n",
            " conv1d_1 (Conv1D)           (None, 997, 64)           1088      \n",
            "                                                                 \n",
            " pool_1 (MaxPooling1D)       (None, 498, 64)           0         \n",
            "                                                                 \n",
            " conv1d_2 (Conv1D)           (None, 495, 32)           8224      \n",
            "                                                                 \n",
            " pool_2 (MaxPooling1D)       (None, 247, 32)           0         \n",
            "                                                                 \n",
            " dense_1 (Dense)             (None, 247, 64)           2112      \n",
            "                                                                 \n",
            " output (Dense)              (None, 247, 1)            65        \n",
            "                                                                 \n",
            "=================================================================\n",
            "Total params: 11,489\n",
            "Trainable params: 11,489\n",
            "Non-trainable params: 0\n",
            "_________________________________________________________________\n",
            "None\n",
            "Epoch 1/10\n",
            "32/32 [==============================] - 22s 652ms/step - loss: 0.6941 - acc: 0.5025\n",
            "Epoch 2/10\n",
            "32/32 [==============================] - 20s 630ms/step - loss: 0.6931 - acc: 0.5028\n",
            "Epoch 3/10\n",
            "32/32 [==============================] - 23s 711ms/step - loss: 0.6930 - acc: 0.5041\n",
            "Epoch 4/10\n",
            "32/32 [==============================] - 20s 638ms/step - loss: 0.6931 - acc: 0.5023\n",
            "Epoch 5/10\n",
            "32/32 [==============================] - 20s 637ms/step - loss: 0.6930 - acc: 0.5062\n",
            "Epoch 6/10\n",
            "32/32 [==============================] - 21s 658ms/step - loss: 0.6931 - acc: 0.5026\n",
            "Epoch 7/10\n",
            "32/32 [==============================] - 21s 660ms/step - loss: 0.6931 - acc: 0.5038\n",
            "Epoch 8/10\n",
            "32/32 [==============================] - 20s 637ms/step - loss: 0.6931 - acc: 0.5035\n",
            "Epoch 9/10\n",
            "32/32 [==============================] - 20s 629ms/step - loss: 0.6929 - acc: 0.5042\n",
            "Epoch 10/10\n",
            "32/32 [==============================] - 20s 628ms/step - loss: 0.6928 - acc: 0.5048\n",
            "32/32 [==============================] - 5s 138ms/step - loss: 0.6926 - acc: 0.5076\n",
            "\n",
            "test loss: 0.692600667476654\n",
            "accuracy: 0.5076374411582947\n",
            "63/63 [==============================] - 1s 13ms/step - loss: 0.6927 - acc: 0.5044\n",
            "\n",
            "train loss: 0.6926504969596863\n",
            "accuracy: 0.5043947100639343\n"
          ]
        }
      ]
    },
    {
      "cell_type": "markdown",
      "source": [
        "# 共享输入层\n"
      ],
      "metadata": {
        "id": "ZWFHLg2Z4cSN"
      }
    },
    {
      "cell_type": "code",
      "source": [
        "from keras.layers import concatenate, Flatten\n",
        "\n",
        "input = Input(shape=(1000, 4), name='input')\n",
        "# 第一个特征提取层\n",
        "conv1d1_1 = Conv1D(32, kernel_size=20, activation='relu', name='conv1d1_1')(input)\n",
        "pool1_1 = MaxPool1D(pool_size=2, name='pool1_1')(conv1d1_1)\n",
        "conv1d1_2 = Conv1D(16, kernel_size=20, activation='relu', name='conv1d1_2')(pool1_1)\n",
        "pool1_2 = MaxPool1D(pool_size=2, name='pool1_2')(conv1d1_2)\n",
        "hidden1_1 = Dense(64,activation='relu',name='dense1')(pool1_2)\n",
        "flat1_1 = Flatten()(hidden1_1)\n",
        "\n",
        "# 第二个特征提取层\n",
        "conv1d2_1 = Conv1D(64, kernel_size=4, activation='relu', name='conv1d2_1')(input)\n",
        "pool2_1 = MaxPool1D(pool_size=2, name='pool2_1')(conv1d2_1)\n",
        "conv1d2_2 = Conv1D(32, kernel_size=4, activation='relu', name='conv1d2_2')(pool2_1)\n",
        "pool2_2 = MaxPool1D(pool_size=2, name='pool2_2')(conv1d2_2)\n",
        "hidden2_1 = Dense(64,activation='relu',name='dense2')(pool2_2)\n",
        "flat2_1 = Flatten()(hidden2_1)\n",
        "\n",
        "# 把这两个特征提取层的结果拼接起来\n",
        "merge = concatenate([flat1_1,flat2_1])\n",
        "\n",
        "# 进行全连接层\n",
        "dense = Dense(10, activation='relu', name='dense')(merge)\n",
        "\n",
        "# 进行输出层\n",
        "output = Dense(1, activation='softmax', name='output')(dense)\n",
        "\n",
        "model = Model(inputs=input, outputs=output)\n",
        "\n",
        "# 可视化\n",
        "# 1、打印网络\n",
        "print(model.summary())\n",
        "# 2、展示网络结构\n",
        "plot_model(model,to_file='multiple_inputs.png')\n",
        "Image('multiple_inputs.png')\n",
        "\n",
        "model.compile(optimizer='adam', metrics='acc', loss='binary_crossentropy') # 按理，二分类对应的loss函数应该为'binary_crossentropy'\n",
        "model.fit(x_train, y_train, epochs=10, batch_size=512) #可以发现，batch_size为4，就是把16000进行4等分\n",
        "\n",
        "loss, accuracy = model.evaluate(x_train, y_train, batch_size=512)\n",
        "print(\"\\ntest loss:\", loss)\n",
        "print('accuracy:', accuracy)\n",
        "\n",
        "loss, accuracy = model.evaluate(x_test, y_test) #将我们的训练集也评估一下\n",
        "print(\"\\ntrain loss:\", loss)\n",
        "print('accuracy:', accuracy)"
      ],
      "metadata": {
        "colab": {
          "base_uri": "https://localhost:8080/"
        },
        "id": "X1KWucg-4qbe",
        "outputId": "34523efc-d98c-4a7f-bb8c-b259ef4f7e53"
      },
      "execution_count": 19,
      "outputs": [
        {
          "output_type": "stream",
          "name": "stdout",
          "text": [
            "Model: \"model_5\"\n",
            "__________________________________________________________________________________________________\n",
            " Layer (type)                   Output Shape         Param #     Connected to                     \n",
            "==================================================================================================\n",
            " input (InputLayer)             [(None, 1000, 4)]    0           []                               \n",
            "                                                                                                  \n",
            " conv1d1_1 (Conv1D)             (None, 981, 32)      2592        ['input[0][0]']                  \n",
            "                                                                                                  \n",
            " conv1d2_1 (Conv1D)             (None, 997, 64)      1088        ['input[0][0]']                  \n",
            "                                                                                                  \n",
            " pool1_1 (MaxPooling1D)         (None, 490, 32)      0           ['conv1d1_1[0][0]']              \n",
            "                                                                                                  \n",
            " pool2_1 (MaxPooling1D)         (None, 498, 64)      0           ['conv1d2_1[0][0]']              \n",
            "                                                                                                  \n",
            " conv1d1_2 (Conv1D)             (None, 471, 16)      10256       ['pool1_1[0][0]']                \n",
            "                                                                                                  \n",
            " conv1d2_2 (Conv1D)             (None, 495, 32)      8224        ['pool2_1[0][0]']                \n",
            "                                                                                                  \n",
            " pool1_2 (MaxPooling1D)         (None, 235, 16)      0           ['conv1d1_2[0][0]']              \n",
            "                                                                                                  \n",
            " pool2_2 (MaxPooling1D)         (None, 247, 32)      0           ['conv1d2_2[0][0]']              \n",
            "                                                                                                  \n",
            " dense1 (Dense)                 (None, 235, 64)      1088        ['pool1_2[0][0]']                \n",
            "                                                                                                  \n",
            " dense2 (Dense)                 (None, 247, 64)      2112        ['pool2_2[0][0]']                \n",
            "                                                                                                  \n",
            " flatten (Flatten)              (None, 15040)        0           ['dense1[0][0]']                 \n",
            "                                                                                                  \n",
            " flatten_1 (Flatten)            (None, 15808)        0           ['dense2[0][0]']                 \n",
            "                                                                                                  \n",
            " concatenate (Concatenate)      (None, 30848)        0           ['flatten[0][0]',                \n",
            "                                                                  'flatten_1[0][0]']              \n",
            "                                                                                                  \n",
            " dense (Dense)                  (None, 10)           308490      ['concatenate[0][0]']            \n",
            "                                                                                                  \n",
            " output (Dense)                 (None, 1)            11          ['dense[0][0]']                  \n",
            "                                                                                                  \n",
            "==================================================================================================\n",
            "Total params: 333,861\n",
            "Trainable params: 333,861\n",
            "Non-trainable params: 0\n",
            "__________________________________________________________________________________________________\n",
            "None\n",
            "Epoch 1/10\n",
            "32/32 [==============================] - 49s 1s/step - loss: 0.6949 - acc: 0.4997\n",
            "Epoch 2/10\n",
            "32/32 [==============================] - 47s 1s/step - loss: 0.6924 - acc: 0.4997\n",
            "Epoch 3/10\n",
            "32/32 [==============================] - 47s 1s/step - loss: 0.6904 - acc: 0.4997\n",
            "Epoch 4/10\n",
            "32/32 [==============================] - 48s 1s/step - loss: 0.6854 - acc: 0.4997\n",
            "Epoch 5/10\n",
            "32/32 [==============================] - 47s 1s/step - loss: 0.6738 - acc: 0.4997\n",
            "Epoch 6/10\n",
            "32/32 [==============================] - 49s 2s/step - loss: 0.6551 - acc: 0.4997\n",
            "Epoch 7/10\n",
            "32/32 [==============================] - 47s 1s/step - loss: 0.6478 - acc: 0.4997\n",
            "Epoch 8/10\n",
            "32/32 [==============================] - 47s 1s/step - loss: 0.6181 - acc: 0.4997\n",
            "Epoch 9/10\n",
            "32/32 [==============================] - 47s 1s/step - loss: 0.5751 - acc: 0.4997\n",
            "Epoch 10/10\n",
            "32/32 [==============================] - 47s 1s/step - loss: 0.5338 - acc: 0.4997\n",
            "32/32 [==============================] - 9s 286ms/step - loss: 0.5002 - acc: 0.4997\n",
            "\n",
            "test loss: 0.5001564621925354\n",
            "accuracy: 0.4996874928474426\n",
            "63/63 [==============================] - 2s 24ms/step - loss: 0.6064 - acc: 0.5060\n",
            "\n",
            "train loss: 0.6064296960830688\n",
            "accuracy: 0.5059999823570251\n"
          ]
        }
      ]
    },
    {
      "cell_type": "markdown",
      "source": [
        "# 共享特征提取层"
      ],
      "metadata": {
        "id": "GDfbygpz7ZyQ"
      }
    },
    {
      "cell_type": "code",
      "source": [
        "from keras.layers import concatenate, Flatten\n",
        "\n",
        "input = Input(shape=(1000, 4), name='input')\n",
        "#  特征提取\n",
        "conv1d1_1 = Conv1D(32, kernel_size=20, activation='relu', name='conv1d1_1')(input)\n",
        "pool1_1 = MaxPool1D(pool_size=2, name='pool1_1')(conv1d1_1)\n",
        "conv1d1_2 = Conv1D(16, kernel_size=20, activation='relu', name='conv1d1_2')(pool1_1)\n",
        "pool1_2 = MaxPool1D(pool_size=2, name='pool1_2')(conv1d1_2)\n",
        "\n",
        "# 第一个解释层（浅层单连通层）\n",
        "interp1 = Dense(10,activation='relu',name='interp1')(pool1_2)\n",
        "# 第二个解释层(深层3层模型)\n",
        "interp2_1 = Dense(64,activation='relu',name='interp2_1')(pool1_2) # <- 看这里\n",
        "interp2_2 = Dense(32,activation='relu',name='interp2_2')(interp2_1)\n",
        "interp2_3 = Dense(10,activation='relu',name='interp2_3')(interp2_2)\n",
        "\n",
        "\n",
        "# 把这两个特征提取层的结果拼接起来\n",
        "merge = concatenate([interp1,interp2_3])\n",
        "\n",
        "# 进行全连接层\n",
        "dense = Dense(10, activation='relu', name='dense')(merge)\n",
        "\n",
        "# 进行输出层\n",
        "output = Dense(1, activation='softmax', name='output')(dense)\n",
        "\n",
        "model = Model(inputs=input, outputs=output)\n",
        "\n",
        "# 可视化\n",
        "# 1、打印网络\n",
        "print(model.summary())\n",
        "# 2、展示网络结构\n",
        "plot_model(model,to_file='multiple_inputs.png')\n",
        "Image('multiple_inputs.png')\n",
        "\n",
        "model.compile(optimizer='adam', metrics='acc', loss='binary_crossentropy') # 按理，二分类对应的loss函数应该为'binary_crossentropy'\n",
        "model.fit(x_train, y_train, epochs=10, batch_size=512) #可以发现，batch_size为4，就是把16000进行4等分\n",
        "\n",
        "loss, accuracy = model.evaluate(x_train, y_train, batch_size=512)\n",
        "print(\"\\ntest loss:\", loss)\n",
        "print('accuracy:', accuracy)\n",
        "\n",
        "loss, accuracy = model.evaluate(x_test, y_test) #将我们的训练集也评估一下\n",
        "print(\"\\ntrain loss:\", loss)\n",
        "print('accuracy:', accuracy)"
      ],
      "metadata": {
        "colab": {
          "base_uri": "https://localhost:8080/"
        },
        "id": "jOOewvr57dMs",
        "outputId": "61430ca8-4ae2-41ec-831e-e23f2f105222"
      },
      "execution_count": 20,
      "outputs": [
        {
          "output_type": "stream",
          "name": "stdout",
          "text": [
            "Model: \"model_6\"\n",
            "__________________________________________________________________________________________________\n",
            " Layer (type)                   Output Shape         Param #     Connected to                     \n",
            "==================================================================================================\n",
            " input (InputLayer)             [(None, 1000, 4)]    0           []                               \n",
            "                                                                                                  \n",
            " conv1d1_1 (Conv1D)             (None, 981, 32)      2592        ['input[0][0]']                  \n",
            "                                                                                                  \n",
            " pool1_1 (MaxPooling1D)         (None, 490, 32)      0           ['conv1d1_1[0][0]']              \n",
            "                                                                                                  \n",
            " conv1d1_2 (Conv1D)             (None, 471, 16)      10256       ['pool1_1[0][0]']                \n",
            "                                                                                                  \n",
            " pool1_2 (MaxPooling1D)         (None, 235, 16)      0           ['conv1d1_2[0][0]']              \n",
            "                                                                                                  \n",
            " interp2_1 (Dense)              (None, 235, 64)      1088        ['pool1_2[0][0]']                \n",
            "                                                                                                  \n",
            " interp2_2 (Dense)              (None, 235, 32)      2080        ['interp2_1[0][0]']              \n",
            "                                                                                                  \n",
            " interp1 (Dense)                (None, 235, 10)      170         ['pool1_2[0][0]']                \n",
            "                                                                                                  \n",
            " interp2_3 (Dense)              (None, 235, 10)      330         ['interp2_2[0][0]']              \n",
            "                                                                                                  \n",
            " concatenate_1 (Concatenate)    (None, 235, 20)      0           ['interp1[0][0]',                \n",
            "                                                                  'interp2_3[0][0]']              \n",
            "                                                                                                  \n",
            " dense (Dense)                  (None, 235, 10)      210         ['concatenate_1[0][0]']          \n",
            "                                                                                                  \n",
            " output (Dense)                 (None, 235, 1)       11          ['dense[0][0]']                  \n",
            "                                                                                                  \n",
            "==================================================================================================\n",
            "Total params: 16,737\n",
            "Trainable params: 16,737\n",
            "Non-trainable params: 0\n",
            "__________________________________________________________________________________________________\n",
            "None\n",
            "Epoch 1/10\n",
            "32/32 [==============================] - 27s 827ms/step - loss: 7.6294 - acc: 0.4997\n",
            "Epoch 2/10\n",
            "32/32 [==============================] - 29s 896ms/step - loss: 7.6294 - acc: 0.4997\n",
            "Epoch 3/10\n",
            "32/32 [==============================] - 27s 834ms/step - loss: 7.6294 - acc: 0.4997\n",
            "Epoch 4/10\n",
            "32/32 [==============================] - 28s 886ms/step - loss: 7.6294 - acc: 0.4997\n",
            "Epoch 5/10\n",
            "32/32 [==============================] - 27s 844ms/step - loss: 7.6294 - acc: 0.4997\n",
            "Epoch 6/10\n",
            "32/32 [==============================] - 27s 832ms/step - loss: 7.6294 - acc: 0.4997\n",
            "Epoch 7/10\n",
            "32/32 [==============================] - 27s 830ms/step - loss: 7.6294 - acc: 0.4997\n",
            "Epoch 8/10\n",
            "32/32 [==============================] - 28s 863ms/step - loss: 7.6294 - acc: 0.4997\n",
            "Epoch 9/10\n",
            "32/32 [==============================] - 27s 838ms/step - loss: 7.6294 - acc: 0.4997\n",
            "Epoch 10/10\n",
            "32/32 [==============================] - 27s 831ms/step - loss: 7.6294 - acc: 0.4997\n",
            "32/32 [==============================] - 6s 176ms/step - loss: 7.6294 - acc: 0.4997\n",
            "\n",
            "test loss: 7.629384994506836\n",
            "accuracy: 0.4996874928474426\n",
            "63/63 [==============================] - 1s 15ms/step - loss: 7.5331 - acc: 0.5060\n",
            "\n",
            "train loss: 7.533125400543213\n",
            "accuracy: 0.5059999823570251\n"
          ]
        }
      ]
    }
  ]
}