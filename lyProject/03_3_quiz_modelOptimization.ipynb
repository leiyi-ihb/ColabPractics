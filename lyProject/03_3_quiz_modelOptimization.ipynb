{
  "nbformat": 4,
  "nbformat_minor": 0,
  "metadata": {
    "colab": {
      "provenance": [],
      "authorship_tag": "ABX9TyMtkQg/aiBPq3naRdN14KPj",
      "include_colab_link": true
    },
    "kernelspec": {
      "name": "python3",
      "display_name": "Python 3"
    },
    "language_info": {
      "name": "python"
    }
  },
  "cells": [
    {
      "cell_type": "markdown",
      "metadata": {
        "id": "view-in-github",
        "colab_type": "text"
      },
      "source": [
        "<a href=\"https://colab.research.google.com/github/leiyi-ihb/ColabPractics/blob/main/lyProject/03_3_quiz_modelOptimization.ipynb\" target=\"_parent\"><img src=\"https://colab.research.google.com/assets/colab-badge.svg\" alt=\"Open In Colab\"/></a>"
      ]
    },
    {
      "cell_type": "code",
      "execution_count": 1,
      "metadata": {
        "id": "mk096DBoiwgP"
      },
      "outputs": [],
      "source": [
        "# We are going to optimize the quize model\n",
        "import numpy as np\n",
        "from keras.models import Sequential\n",
        "from keras.layers import Dense, Activation, MaxPooling1D, GlobalMaxPooling1D, Conv1D, Flatten, AveragePooling1D, GlobalAveragePooling1D\n",
        "from keras.optimizers import Adam, SGD"
      ]
    },
    {
      "cell_type": "code",
      "source": [
        "! if [ ! -f \"dataset_Li.pkl\" ]; then wget https://master.dl.sourceforge.net/project/summer-research-20/sim_data_1/dataset_Li.pkl ; else echo \"Found previous downloaded data.\"; fi"
      ],
      "metadata": {
        "colab": {
          "base_uri": "https://localhost:8080/"
        },
        "id": "gyQN7S8_kLUV",
        "outputId": "5e03f5bc-3c0e-433b-a615-ec2c976b33fb"
      },
      "execution_count": 2,
      "outputs": [
        {
          "output_type": "stream",
          "name": "stdout",
          "text": [
            "--2022-11-03 15:46:30--  https://master.dl.sourceforge.net/project/summer-research-20/sim_data_1/dataset_Li.pkl\n",
            "Resolving master.dl.sourceforge.net (master.dl.sourceforge.net)... 216.105.38.12\n",
            "Connecting to master.dl.sourceforge.net (master.dl.sourceforge.net)|216.105.38.12|:443... connected.\n",
            "HTTP request sent, awaiting response... 301 Moved Permanently\n",
            "Location: https://downloads.sourceforge.net/project/summer-research-20/sim_data_1/dataset_Li.pkl [following]\n",
            "--2022-11-03 15:46:31--  https://downloads.sourceforge.net/project/summer-research-20/sim_data_1/dataset_Li.pkl\n",
            "Resolving downloads.sourceforge.net (downloads.sourceforge.net)... 204.68.111.105\n",
            "Connecting to downloads.sourceforge.net (downloads.sourceforge.net)|204.68.111.105|:443... connected.\n",
            "HTTP request sent, awaiting response... 302 Found\n",
            "Location: https://versaweb.dl.sourceforge.net/project/summer-research-20/sim_data_1/dataset_Li.pkl [following]\n",
            "--2022-11-03 15:46:31--  https://versaweb.dl.sourceforge.net/project/summer-research-20/sim_data_1/dataset_Li.pkl\n",
            "Resolving versaweb.dl.sourceforge.net (versaweb.dl.sourceforge.net)... 162.251.232.173\n",
            "Connecting to versaweb.dl.sourceforge.net (versaweb.dl.sourceforge.net)|162.251.232.173|:443... connected.\n",
            "HTTP request sent, awaiting response... 200 OK\n",
            "Length: 640080470 (610M) [application/octet-stream]\n",
            "Saving to: ‘dataset_Li.pkl’\n",
            "\n",
            "dataset_Li.pkl      100%[===================>] 610.43M  4.95MB/s    in 2m 2s   \n",
            "\n",
            "2022-11-03 15:48:33 (5.00 MB/s) - ‘dataset_Li.pkl’ saved [640080470/640080470]\n",
            "\n"
          ]
        }
      ]
    },
    {
      "cell_type": "code",
      "source": [
        "# Data processing\n",
        "import pickle\n",
        "with open(\"dataset_Li.pkl\", \"rb\") as f:\n",
        "    data = pickle.load(f)\n",
        "x_train, y_train = np.array(data['train'][0]), np.array(data['train'][1])\n",
        "x_test, y_test = np.array(data['test'][0]), np.array(data['test'][1])\n",
        "\n",
        "print(x_train.shape)"
      ],
      "metadata": {
        "id": "Bk862UJakIAl",
        "colab": {
          "base_uri": "https://localhost:8080/"
        },
        "outputId": "03b68420-8125-4ce7-fffb-11712e5f4397"
      },
      "execution_count": 3,
      "outputs": [
        {
          "output_type": "stream",
          "name": "stdout",
          "text": [
            "(16000, 1000, 4)\n"
          ]
        }
      ]
    },
    {
      "cell_type": "code",
      "source": [
        "\n",
        "class Model:  \n",
        "  def __init__(self, learnRate):        \n",
        "    '''optimizer'''\n",
        "    self.adam = Adam(lr=learnRate)\n",
        "    self.sgd = SGD(lr=learnRate) \n",
        "    self.model = Sequential()\n",
        "\n",
        "  def modelBuild(self, filter, poolSize, kernelSize, ConvAct, DenAct, input):\n",
        "    model = self.model\n",
        "    '''model build'''   \n",
        "    model.add(Conv1D(filters=filter, kernel_size=(kernelSize), activation=ConvAct, input_shape=input))\n",
        "    model.add(MaxPooling1D(pool_size=(poolSize)))\n",
        "    model.add(GlobalMaxPooling1D())\n",
        "    model.add(Flatten())\n",
        "    model.add(Dense(32, activation=DenAct))\n",
        "    model.add(Dense(1, activation=DenAct))\n",
        "\n",
        "  def modelCompile(self, met, los):\n",
        "    '''model compile'''\n",
        "    model = self.model\n",
        "    model.compile(optimizer=self.adam,\n",
        "             metrics = [met],\n",
        "             loss = los)\n",
        "\n",
        "  def modelFit(self, xTrain, yTrain, epo, batSize): \n",
        "    '''model fix'''\n",
        "    model = self.model \n",
        "    model.fit(xTrain, \n",
        "              yTrain,\n",
        "              epochs = epo,\n",
        "              batch_size = batSize\n",
        "              )\n",
        "    \n",
        "  def modelEvaluate(self, xTrain, yTrain, xTest, yTest, batSize):\n",
        "    '''model evaluate'''\n",
        "    model = self.model\n",
        "    loss, accuracy = model.evaluate(xTrain, yTrain, batch_size=batSize)\n",
        "    print(\"\\ntest loss:\", loss)\n",
        "    print('accuracy:', accuracy)\n",
        "\n",
        "    loss, accuracy = model.evaluate(xTest, yTest) #将我们的训练集也评估一下\n",
        "    print(\"\\ntrain loss:\", loss)\n",
        "    print('accuracy:', accuracy)\n",
        "\n",
        "\n",
        "\n",
        "if __name__=='__main__':\n",
        "  '''\n",
        "  1, Conv1d: Filters = {32, 16, 3}; Kernel_size = {20, 10, 7, 5, 3}; Activation = {‘relu’, ‘tanh’, ‘linear’}\n",
        "  2, Pooling1d: Max or Avg pool; Pool size = {8, 4, 2,}\n",
        "  3, Flatten: Global Max, Global Avg, Flatten\n",
        "  4, Dense: Units = {32, 64}; Activation = {‘relu’, ‘tanh’, ‘linear’}\n",
        "  '''\n",
        "  kernel_size =[20, 10, 7, 5, 3]\n",
        "  activation = [\"relu\", \"tanh\", \"linear\"]\n",
        "  poolSize = [8, 4, 2]\n",
        "  deAct = [\"relu\", \"tanh\", \"linear\"]\n",
        "\n",
        "  from itertools import product\n",
        "  loop_val = [kernel_size, activation, poolSize, deAct] #\n",
        "  for i in product(*loop_val):\n",
        "    print(x_train.shape)\n",
        "    print(i)\n",
        "    obj1 = Model(0.01)\n",
        "    obj1.modelBuild(filter=32, poolSize=i[2], kernelSize=i[0], ConvAct=i[1], DenAct=i[3], input=(1000, 4))\n",
        "    obj1.modelCompile(met=\"acc\", los='binary_crossentropy')\n",
        "    obj1.modelFit(xTrain=x_train, yTrain=y_train, epo=10, batSize=512)\n",
        "    obj1.modelEvaluate(xTrain=x_train, yTrain=y_train, xTest=x_test, yTest=y_test, batSize=512)\n"
      ],
      "metadata": {
        "colab": {
          "base_uri": "https://localhost:8080/"
        },
        "id": "C7DZv_DzlBud",
        "outputId": "7b5c8312-78e5-4130-c8d2-bd796aae9505"
      },
      "execution_count": null,
      "outputs": [
        {
          "output_type": "stream",
          "name": "stdout",
          "text": [
            "(16000, 1000, 4)\n",
            "(20, 'relu', 8, 'relu')\n"
          ]
        },
        {
          "output_type": "stream",
          "name": "stderr",
          "text": [
            "/usr/local/lib/python3.7/dist-packages/keras/optimizers/optimizer_v2/adam.py:110: UserWarning: The `lr` argument is deprecated, use `learning_rate` instead.\n",
            "  super(Adam, self).__init__(name, **kwargs)\n",
            "/usr/local/lib/python3.7/dist-packages/keras/optimizers/optimizer_v2/gradient_descent.py:108: UserWarning: The `lr` argument is deprecated, use `learning_rate` instead.\n",
            "  super(SGD, self).__init__(name, **kwargs)\n"
          ]
        },
        {
          "output_type": "stream",
          "name": "stdout",
          "text": [
            "Epoch 1/10\n",
            "32/32 [==============================] - 13s 372ms/step - loss: 7.6081 - acc: 0.4992\n",
            "Epoch 2/10\n",
            "32/32 [==============================] - 12s 372ms/step - loss: 7.7077 - acc: 0.5003\n",
            "Epoch 3/10\n",
            "32/32 [==============================] - 14s 435ms/step - loss: 7.7077 - acc: 0.5003\n",
            "Epoch 4/10\n",
            "32/32 [==============================] - 12s 371ms/step - loss: 7.7077 - acc: 0.5003\n",
            "Epoch 5/10\n",
            "32/32 [==============================] - 12s 374ms/step - loss: 7.7077 - acc: 0.5003\n",
            "Epoch 6/10\n",
            "32/32 [==============================] - 12s 389ms/step - loss: 7.7077 - acc: 0.5003\n",
            "Epoch 7/10\n",
            "32/32 [==============================] - 12s 372ms/step - loss: 7.7077 - acc: 0.5003\n",
            "Epoch 8/10\n",
            "32/32 [==============================] - 12s 373ms/step - loss: 7.7077 - acc: 0.5003\n",
            "Epoch 9/10\n",
            "32/32 [==============================] - 12s 372ms/step - loss: 7.7077 - acc: 0.5003\n",
            "Epoch 10/10\n",
            "32/32 [==============================] - 13s 398ms/step - loss: 7.7077 - acc: 0.5003\n",
            "32/32 [==============================] - 3s 101ms/step - loss: 7.7077 - acc: 0.5003\n",
            "\n",
            "test loss: 7.707653999328613\n",
            "accuracy: 0.5003125071525574\n",
            "63/63 [==============================] - 1s 10ms/step - loss: 7.8050 - acc: 0.4940\n",
            "\n",
            "train loss: 7.805024147033691\n",
            "accuracy: 0.49399998784065247\n",
            "(16000, 1000, 4)\n",
            "(20, 'relu', 8, 'tanh')\n",
            "Epoch 1/10\n",
            "32/32 [==============================] - 13s 376ms/step - loss: 7.4852 - acc: 0.4999\n",
            "Epoch 2/10\n",
            "32/32 [==============================] - 12s 374ms/step - loss: 7.7077 - acc: 0.5003\n",
            "Epoch 3/10\n",
            "32/32 [==============================] - 12s 372ms/step - loss: 7.7077 - acc: 0.5003\n",
            "Epoch 4/10\n",
            "32/32 [==============================] - 12s 374ms/step - loss: 7.7077 - acc: 0.5003\n",
            "Epoch 5/10\n",
            "32/32 [==============================] - 12s 372ms/step - loss: 7.7077 - acc: 0.5003\n",
            "Epoch 6/10\n",
            "32/32 [==============================] - 12s 371ms/step - loss: 7.7077 - acc: 0.5003\n",
            "Epoch 7/10\n",
            "32/32 [==============================] - 12s 373ms/step - loss: 7.7077 - acc: 0.5003\n",
            "Epoch 8/10\n",
            "32/32 [==============================] - 12s 370ms/step - loss: 7.7077 - acc: 0.5003\n",
            "Epoch 9/10\n",
            "32/32 [==============================] - 15s 456ms/step - loss: 7.7077 - acc: 0.5003\n",
            "Epoch 10/10\n",
            "32/32 [==============================] - 12s 371ms/step - loss: 7.7077 - acc: 0.5003\n",
            "32/32 [==============================] - 3s 99ms/step - loss: 7.7077 - acc: 0.5003\n",
            "\n",
            "test loss: 7.707653999328613\n",
            "accuracy: 0.5003125071525574\n",
            "63/63 [==============================] - 1s 9ms/step - loss: 7.8050 - acc: 0.4940\n",
            "\n",
            "train loss: 7.805024147033691\n",
            "accuracy: 0.49399998784065247\n",
            "(16000, 1000, 4)\n",
            "(20, 'relu', 8, 'linear')\n",
            "Epoch 1/10\n",
            "32/32 [==============================] - 13s 384ms/step - loss: 7.7077 - acc: 0.5003\n",
            "Epoch 2/10\n",
            "32/32 [==============================] - 12s 383ms/step - loss: 7.7077 - acc: 0.5003\n",
            "Epoch 3/10\n",
            "32/32 [==============================] - 12s 384ms/step - loss: 7.7077 - acc: 0.5003\n",
            "Epoch 4/10\n",
            "32/32 [==============================] - 12s 383ms/step - loss: 7.7077 - acc: 0.5003\n",
            "Epoch 5/10\n",
            "32/32 [==============================] - 12s 383ms/step - loss: 7.7077 - acc: 0.5003\n",
            "Epoch 6/10\n",
            "32/32 [==============================] - 12s 383ms/step - loss: 7.7077 - acc: 0.5003\n",
            "Epoch 7/10\n",
            "32/32 [==============================] - 12s 384ms/step - loss: 7.7077 - acc: 0.5003\n",
            "Epoch 8/10\n",
            "32/32 [==============================] - 12s 384ms/step - loss: 7.7077 - acc: 0.5003\n",
            "Epoch 9/10\n",
            "32/32 [==============================] - 12s 387ms/step - loss: 7.7077 - acc: 0.5003\n",
            "Epoch 10/10\n",
            "32/32 [==============================] - 14s 437ms/step - loss: 7.7077 - acc: 0.5003\n",
            "32/32 [==============================] - 3s 102ms/step - loss: 7.7077 - acc: 0.5003\n",
            "\n",
            "test loss: 7.707653999328613\n",
            "accuracy: 0.5003125071525574\n",
            "63/63 [==============================] - 1s 10ms/step - loss: 7.8050 - acc: 0.4940\n",
            "\n",
            "train loss: 7.805024147033691\n",
            "accuracy: 0.49399998784065247\n",
            "(16000, 1000, 4)\n",
            "(20, 'relu', 4, 'relu')\n",
            "Epoch 1/10\n",
            "32/32 [==============================] - 14s 396ms/step - loss: 7.4480 - acc: 0.4991\n",
            "Epoch 2/10\n",
            "32/32 [==============================] - 13s 394ms/step - loss: 7.6294 - acc: 0.4997\n",
            "Epoch 3/10\n",
            "32/32 [==============================] - 13s 395ms/step - loss: 7.6294 - acc: 0.4997\n",
            "Epoch 4/10\n",
            "32/32 [==============================] - 13s 396ms/step - loss: 7.6294 - acc: 0.4997\n",
            "Epoch 5/10\n",
            "32/32 [==============================] - 13s 394ms/step - loss: 7.6294 - acc: 0.4997\n",
            "Epoch 6/10\n",
            "32/32 [==============================] - 13s 395ms/step - loss: 7.6294 - acc: 0.4997\n",
            "Epoch 7/10\n",
            "32/32 [==============================] - 13s 397ms/step - loss: 7.6294 - acc: 0.4997\n",
            "Epoch 8/10\n",
            "32/32 [==============================] - 13s 396ms/step - loss: 7.6294 - acc: 0.4997\n",
            "Epoch 9/10\n",
            "32/32 [==============================] - 13s 394ms/step - loss: 7.6294 - acc: 0.4997\n",
            "Epoch 10/10\n",
            "32/32 [==============================] - 13s 397ms/step - loss: 7.6294 - acc: 0.4997\n",
            "32/32 [==============================] - 4s 107ms/step - loss: 7.6294 - acc: 0.4997\n",
            "\n",
            "test loss: 7.629384994506836\n",
            "accuracy: 0.4996874928474426\n",
            "63/63 [==============================] - 1s 10ms/step - loss: 7.5331 - acc: 0.5060\n",
            "\n",
            "train loss: 7.533125400543213\n",
            "accuracy: 0.5059999823570251\n",
            "(16000, 1000, 4)\n",
            "(20, 'relu', 4, 'tanh')\n",
            "Epoch 1/10\n",
            "32/32 [==============================] - 14s 413ms/step - loss: 7.7077 - acc: 0.5003\n",
            "Epoch 2/10\n",
            "32/32 [==============================] - 13s 415ms/step - loss: 7.7077 - acc: 0.5003\n",
            "Epoch 3/10\n",
            "32/32 [==============================] - 13s 413ms/step - loss: 7.7077 - acc: 0.5003\n",
            "Epoch 4/10\n",
            "32/32 [==============================] - 13s 411ms/step - loss: 7.7077 - acc: 0.5003\n",
            "Epoch 5/10\n",
            "32/32 [==============================] - 13s 413ms/step - loss: 7.7077 - acc: 0.5003\n",
            "Epoch 6/10\n",
            "32/32 [==============================] - 16s 503ms/step - loss: 7.7077 - acc: 0.5003\n",
            "Epoch 7/10\n",
            "32/32 [==============================] - 13s 413ms/step - loss: 7.7077 - acc: 0.5003\n",
            "Epoch 8/10\n",
            "32/32 [==============================] - 13s 415ms/step - loss: 7.7077 - acc: 0.5003\n",
            "Epoch 9/10\n",
            " 2/32 [>.............................] - ETA: 12s - loss: 8.0137 - acc: 0.4805"
          ]
        }
      ]
    },
    {
      "cell_type": "code",
      "source": [
        "#https://blog.csdn.net/w771792694/article/details/98182757"
      ],
      "metadata": {
        "id": "O1h_DqptBmR2"
      },
      "execution_count": null,
      "outputs": []
    }
  ]
}