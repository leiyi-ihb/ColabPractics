{
  "nbformat": 4,
  "nbformat_minor": 0,
  "metadata": {
    "colab": {
      "provenance": [],
      "authorship_tag": "ABX9TyO7JIBnoKx/fyuMabyTxB10",
      "include_colab_link": true
    },
    "kernelspec": {
      "name": "python3",
      "display_name": "Python 3"
    },
    "language_info": {
      "name": "python"
    }
  },
  "cells": [
    {
      "cell_type": "markdown",
      "metadata": {
        "id": "view-in-github",
        "colab_type": "text"
      },
      "source": [
        "<a href=\"https://colab.research.google.com/github/leiyi-ihb/ColabPractics/blob/main/lyProject/03_05_quiz_modelOptimization.ipynb\" target=\"_parent\"><img src=\"https://colab.research.google.com/assets/colab-badge.svg\" alt=\"Open In Colab\"/></a>"
      ]
    },
    {
      "cell_type": "code",
      "execution_count": 1,
      "metadata": {
        "id": "GsGQsNX2vPeL"
      },
      "outputs": [],
      "source": [
        "# 将loss='binary_crossentropy'调整为loss='msa'，可以发现模型一下就能达到很好\n",
        "import numpy as np\n",
        "from keras.models import Sequential\n",
        "from keras.layers import Dense, Activation, MaxPooling1D, GlobalMaxPooling1D, Conv1D, Flatten, AveragePooling1D, GlobalAveragePooling1D\n",
        "from keras.optimizers import Adam, SGD"
      ]
    },
    {
      "cell_type": "code",
      "source": [
        "! if [ ! -f \"dataset_Li.pkl\" ]; then wget https://master.dl.sourceforge.net/project/summer-research-20/sim_data_1/dataset_Li.pkl ; else echo \"Found previous downloaded data.\"; fi"
      ],
      "metadata": {
        "colab": {
          "base_uri": "https://localhost:8080/"
        },
        "id": "3GczXwsmvsXX",
        "outputId": "8abe360a-2db0-4721-a55b-f8311c049508"
      },
      "execution_count": 3,
      "outputs": [
        {
          "output_type": "stream",
          "name": "stdout",
          "text": [
            "--2022-11-03 18:31:47--  https://master.dl.sourceforge.net/project/summer-research-20/sim_data_1/dataset_Li.pkl\n",
            "Resolving master.dl.sourceforge.net (master.dl.sourceforge.net)... 216.105.38.12\n",
            "Connecting to master.dl.sourceforge.net (master.dl.sourceforge.net)|216.105.38.12|:443... connected.\n",
            "HTTP request sent, awaiting response... 301 Moved Permanently\n",
            "Location: https://downloads.sourceforge.net/project/summer-research-20/sim_data_1/dataset_Li.pkl [following]\n",
            "--2022-11-03 18:31:48--  https://downloads.sourceforge.net/project/summer-research-20/sim_data_1/dataset_Li.pkl\n",
            "Resolving downloads.sourceforge.net (downloads.sourceforge.net)... 204.68.111.105\n",
            "Connecting to downloads.sourceforge.net (downloads.sourceforge.net)|204.68.111.105|:443... connected.\n",
            "HTTP request sent, awaiting response... 302 Found\n",
            "Location: https://versaweb.dl.sourceforge.net/project/summer-research-20/sim_data_1/dataset_Li.pkl [following]\n",
            "--2022-11-03 18:31:48--  https://versaweb.dl.sourceforge.net/project/summer-research-20/sim_data_1/dataset_Li.pkl\n",
            "Resolving versaweb.dl.sourceforge.net (versaweb.dl.sourceforge.net)... 162.251.232.173\n",
            "Connecting to versaweb.dl.sourceforge.net (versaweb.dl.sourceforge.net)|162.251.232.173|:443... connected.\n",
            "HTTP request sent, awaiting response... 200 OK\n",
            "Length: 640080470 (610M) [application/octet-stream]\n",
            "Saving to: ‘dataset_Li.pkl’\n",
            "\n",
            "dataset_Li.pkl      100%[===================>] 610.43M  5.33MB/s    in 2m 3s   \n",
            "\n",
            "2022-11-03 18:33:51 (4.95 MB/s) - ‘dataset_Li.pkl’ saved [640080470/640080470]\n",
            "\n"
          ]
        }
      ]
    },
    {
      "cell_type": "code",
      "source": [
        "# Data processing\n",
        "import pickle\n",
        "with open(\"dataset_Li.pkl\", \"rb\") as f:\n",
        "    data = pickle.load(f)\n",
        "x_train, y_train = np.array(data['train'][0]), np.array(data['train'][1])\n",
        "x_test, y_test = np.array(data['test'][0]), np.array(data['test'][1])\n",
        "\n",
        "print(x_train.shape)"
      ],
      "metadata": {
        "colab": {
          "base_uri": "https://localhost:8080/"
        },
        "id": "pu32oUpdvwAt",
        "outputId": "498b34c3-1c4c-4935-f933-8078dc7d0590"
      },
      "execution_count": 4,
      "outputs": [
        {
          "output_type": "stream",
          "name": "stdout",
          "text": [
            "(16000, 1000, 4)\n"
          ]
        }
      ]
    },
    {
      "cell_type": "code",
      "source": [
        "\n",
        "class Model:  \n",
        "  def __init__(self, learnRate):        \n",
        "    '''optimizer'''\n",
        "    self.adam = Adam(lr=learnRate)\n",
        "    self.sgd = SGD(lr=learnRate) \n",
        "    self.model = Sequential()\n",
        "\n",
        "  def modelBuild(self, filter, poolSize, kernelSize, ConvAct, DenAct, input):\n",
        "    model = self.model\n",
        "    '''model build'''   \n",
        "    model.add(Conv1D(filters=filter, kernel_size=(kernelSize), activation=ConvAct, input_shape=input))\n",
        "    model.add(MaxPooling1D(pool_size=(poolSize)))\n",
        "    model.add(GlobalMaxPooling1D())\n",
        "    model.add(Flatten())\n",
        "    model.add(Dense(32, activation=DenAct))\n",
        "    model.add(Dense(1, activation=DenAct))\n",
        "    print(model.summary())\n",
        "\n",
        "  def modelCompile(self, met, los):\n",
        "    '''model compile'''\n",
        "    model = self.model\n",
        "    model.compile(optimizer=self.adam,\n",
        "             metrics = [met],\n",
        "             loss = los)\n",
        "\n",
        "  def modelFit(self, xTrain, yTrain, epo, batSize): \n",
        "    '''model fix'''\n",
        "    model = self.model \n",
        "    model.fit(xTrain, \n",
        "              yTrain,\n",
        "              epochs = epo,\n",
        "              batch_size = batSize\n",
        "              )\n",
        "    \n",
        "  def modelEvaluate(self, xTrain, yTrain, xTest, yTest, batSize):\n",
        "    '''model evaluate'''\n",
        "    model = self.model\n",
        "    loss, accuracy = model.evaluate(xTrain, yTrain, batch_size=batSize)\n",
        "    print(\"\\ntest loss:\", loss)\n",
        "    print('accuracy:', accuracy)\n",
        "\n",
        "    loss, accuracy = model.evaluate(xTest, yTest) #将我们的训练集也评估一下\n",
        "    print(\"\\ntrain loss:\", loss)\n",
        "    print('accuracy:', accuracy)\n",
        "\n",
        "\n",
        "\n",
        "if __name__=='__main__':\n",
        "  '''\n",
        "  1, Conv1d: Filters = {32, 16, 3}; Kernel_size = {20, 10, 7, 5, 3}; Activation = {‘relu’, ‘tanh’, ‘linear’}\n",
        "  2, Pooling1d: Max or Avg pool; Pool size = {8, 4, 2,}\n",
        "  3, Flatten: Global Max, Global Avg, Flatten\n",
        "  4, Dense: Units = {32, 64}; Activation = {‘relu’, ‘tanh’, ‘linear’}\n",
        "  '''\n",
        "  kernel_size =[20, 10, 7, 5, 3]\n",
        "  activation = [\"relu\", \"tanh\", \"linear\"]\n",
        "  poolSize = [8, 4, 2]\n",
        "  deAct = [\"relu\", \"tanh\", \"linear\"]\n",
        "\n",
        "  # from itertools import product\n",
        "  # loop_val = [kernel_size, activation, poolSize, deAct] #\n",
        "  # for i in product(*loop_val):\n",
        "  #   print(x_train.shape)\n",
        "  #   print(i)\n",
        "  obj1 = Model(0.01)\n",
        "    # obj1.modelBuild(filter=32, poolSize=i[2], kernelSize=i[0], ConvAct=i[1], DenAct=i[3], input=(1000, 4))\n",
        "  obj1.modelBuild(filter=32, poolSize=8, kernelSize=20, ConvAct=\"relu\", DenAct=\"relu\", input=(1000, 4))\n",
        "  obj1.modelCompile(met=\"acc\", los='binary_crossentropy')\n",
        "  obj1.modelFit(xTrain=x_train, yTrain=y_train, epo=10, batSize=512)\n",
        "  obj1.modelEvaluate(xTrain=x_train, yTrain=y_train, xTest=x_test, yTest=y_test, batSize=512)\n"
      ],
      "metadata": {
        "colab": {
          "base_uri": "https://localhost:8080/"
        },
        "id": "Jl9a07oevzI9",
        "outputId": "40a13643-b43a-4d51-938b-41c01e4697e6"
      },
      "execution_count": 6,
      "outputs": [
        {
          "output_type": "stream",
          "name": "stdout",
          "text": [
            "Model: \"sequential_3\"\n",
            "_________________________________________________________________\n",
            " Layer (type)                Output Shape              Param #   \n",
            "=================================================================\n",
            " conv1d_3 (Conv1D)           (None, 981, 32)           2592      \n",
            "                                                                 \n",
            " max_pooling1d_3 (MaxPooling  (None, 122, 32)          0         \n",
            " 1D)                                                             \n",
            "                                                                 \n",
            " global_max_pooling1d_3 (Glo  (None, 32)               0         \n",
            " balMaxPooling1D)                                                \n",
            "                                                                 \n",
            " flatten_3 (Flatten)         (None, 32)                0         \n",
            "                                                                 \n",
            " dense_6 (Dense)             (None, 32)                1056      \n",
            "                                                                 \n",
            " dense_7 (Dense)             (None, 1)                 33        \n",
            "                                                                 \n",
            "=================================================================\n",
            "Total params: 3,681\n",
            "Trainable params: 3,681\n",
            "Non-trainable params: 0\n",
            "_________________________________________________________________\n",
            "None\n",
            "Epoch 1/10\n",
            "32/32 [==============================] - 14s 405ms/step - loss: 7.6898 - acc: 0.5008\n",
            "Epoch 2/10\n",
            "32/32 [==============================] - 13s 403ms/step - loss: 7.7077 - acc: 0.5003\n",
            "Epoch 3/10\n",
            "32/32 [==============================] - 13s 402ms/step - loss: 7.7077 - acc: 0.5003\n",
            "Epoch 4/10\n",
            "32/32 [==============================] - 13s 405ms/step - loss: 7.7077 - acc: 0.5003\n",
            "Epoch 5/10\n",
            "32/32 [==============================] - 13s 404ms/step - loss: 7.7077 - acc: 0.5003\n",
            "Epoch 6/10\n",
            "32/32 [==============================] - 13s 403ms/step - loss: 7.7077 - acc: 0.5003\n",
            "Epoch 7/10\n",
            "32/32 [==============================] - 13s 406ms/step - loss: 7.7077 - acc: 0.5003\n",
            "Epoch 8/10\n",
            "32/32 [==============================] - 14s 426ms/step - loss: 7.7077 - acc: 0.5003\n",
            "Epoch 9/10\n",
            "32/32 [==============================] - 13s 405ms/step - loss: 7.7077 - acc: 0.5003\n",
            "Epoch 10/10\n",
            "32/32 [==============================] - 13s 404ms/step - loss: 7.7077 - acc: 0.5003\n",
            "32/32 [==============================] - 5s 150ms/step - loss: 7.7077 - acc: 0.5003\n",
            "\n",
            "test loss: 7.707653999328613\n",
            "accuracy: 0.5003125071525574\n",
            "63/63 [==============================] - 1s 12ms/step - loss: 7.8050 - acc: 0.4940\n",
            "\n",
            "train loss: 7.805024147033691\n",
            "accuracy: 0.49399998784065247\n"
          ]
        }
      ]
    },
    {
      "cell_type": "code",
      "source": [
        "\n",
        "class Model:  \n",
        "  def __init__(self, learnRate):        \n",
        "    '''optimizer'''\n",
        "    self.adam = Adam(lr=learnRate, decay=1e-6)\n",
        "    self.sgd = SGD(lr=learnRate) \n",
        "    self.model = Sequential()\n",
        "\n",
        "  def modelBuild(self, filter, poolSize, kernelSize, ConvAct, DenAct, input):\n",
        "    model = self.model\n",
        "    '''model build'''   \n",
        "    model.add(Conv1D(filters=filter, kernel_size=(kernelSize), activation=ConvAct, input_shape=input))\n",
        "    model.add(MaxPooling1D(pool_size=(poolSize)))\n",
        "    model.add(GlobalMaxPooling1D())\n",
        "    model.add(Flatten())\n",
        "    model.add(Dense(32, activation=DenAct))\n",
        "    model.add(Dense(1, activation=DenAct))\n",
        "    print(model.summary())\n",
        "\n",
        "  def modelCompile(self, met, los):\n",
        "    '''model compile'''\n",
        "    model = self.model\n",
        "    model.compile(optimizer=self.adam,\n",
        "             metrics = [met],\n",
        "             loss = los)\n",
        "\n",
        "  def modelFit(self, xTrain, yTrain, epo, batSize): \n",
        "    '''model fix'''\n",
        "    model = self.model \n",
        "    model.fit(xTrain, \n",
        "              yTrain,\n",
        "              epochs = epo,\n",
        "              batch_size = batSize\n",
        "              )\n",
        "    \n",
        "  def modelEvaluate(self, xTrain, yTrain, xTest, yTest, batSize):\n",
        "    '''model evaluate'''\n",
        "    model = self.model\n",
        "    loss, accuracy = model.evaluate(xTrain, yTrain, batch_size=batSize)\n",
        "    print(\"\\ntest loss:\", loss)\n",
        "    print('accuracy:', accuracy)\n",
        "\n",
        "    loss, accuracy = model.evaluate(xTest, yTest) #将我们的训练集也评估一下\n",
        "    print(\"\\ntrain loss:\", loss)\n",
        "    print('accuracy:', accuracy)\n",
        "\n",
        "\n",
        "\n",
        "if __name__=='__main__':\n",
        "  '''\n",
        "  1, Conv1d: Filters = {32, 16, 3}; Kernel_size = {20, 10, 7, 5, 3}; Activation = {‘relu’, ‘tanh’, ‘linear’}\n",
        "  2, Pooling1d: Max or Avg pool; Pool size = {8, 4, 2,}\n",
        "  3, Flatten: Global Max, Global Avg, Flatten\n",
        "  4, Dense: Units = {32, 64}; Activation = {‘relu’, ‘tanh’, ‘linear’}\n",
        "  '''\n",
        "  kernel_size =[20, 10, 7, 5, 3]\n",
        "  activation = [\"relu\", \"tanh\", \"linear\"]\n",
        "  poolSize = [8, 4, 2]\n",
        "  deAct = [\"relu\", \"tanh\", \"linear\"]\n",
        "\n",
        "  # from itertools import product\n",
        "  # loop_val = [kernel_size, activation, poolSize, deAct] #\n",
        "  # for i in product(*loop_val):\n",
        "  #   print(x_train.shape)\n",
        "  #   print(i)\n",
        "  obj1 = Model(0.001)\n",
        "    # obj1.modelBuild(filter=32, poolSize=i[2], kernelSize=i[0], ConvAct=i[1], DenAct=i[3], input=(1000, 4))\n",
        "  obj1.modelBuild(filter=32, poolSize=8, kernelSize=20, ConvAct=\"relu\", DenAct=\"relu\", input=(1000, 4))\n",
        "  obj1.modelCompile(met=\"acc\", los='mse')\n",
        "  obj1.modelFit(xTrain=x_train, yTrain=y_train, epo=10, batSize=512)\n",
        "  obj1.modelEvaluate(xTrain=x_train, yTrain=y_train, xTest=x_test, yTest=y_test, batSize=512)\n"
      ],
      "metadata": {
        "colab": {
          "base_uri": "https://localhost:8080/"
        },
        "id": "idxOJtqUzZwT",
        "outputId": "5f20cde7-9f15-4e23-ff81-f904ecc70d86"
      },
      "execution_count": 14,
      "outputs": [
        {
          "output_type": "stream",
          "name": "stdout",
          "text": [
            "Model: \"sequential_11\"\n",
            "_________________________________________________________________\n",
            " Layer (type)                Output Shape              Param #   \n",
            "=================================================================\n",
            " conv1d_11 (Conv1D)          (None, 981, 32)           2592      \n",
            "                                                                 \n",
            " max_pooling1d_11 (MaxPoolin  (None, 122, 32)          0         \n",
            " g1D)                                                            \n",
            "                                                                 \n",
            " global_max_pooling1d_11 (Gl  (None, 32)               0         \n",
            " obalMaxPooling1D)                                               \n",
            "                                                                 \n",
            " flatten_11 (Flatten)        (None, 32)                0         \n",
            "                                                                 \n",
            " dense_22 (Dense)            (None, 32)                1056      \n",
            "                                                                 \n",
            " dense_23 (Dense)            (None, 1)                 33        \n",
            "                                                                 \n",
            "=================================================================\n",
            "Total params: 3,681\n",
            "Trainable params: 3,681\n",
            "Non-trainable params: 0\n",
            "_________________________________________________________________\n",
            "None\n",
            "Epoch 1/10\n",
            "32/32 [==============================] - 15s 436ms/step - loss: 0.2746 - acc: 0.4906\n",
            "Epoch 2/10\n",
            "32/32 [==============================] - 14s 439ms/step - loss: 0.2534 - acc: 0.5111\n",
            "Epoch 3/10\n",
            "32/32 [==============================] - 14s 437ms/step - loss: 0.2482 - acc: 0.5371\n",
            "Epoch 4/10\n",
            "32/32 [==============================] - 16s 502ms/step - loss: 0.2240 - acc: 0.6637\n",
            "Epoch 5/10\n",
            "32/32 [==============================] - 18s 541ms/step - loss: 0.1465 - acc: 0.8883\n",
            "Epoch 6/10\n",
            "32/32 [==============================] - 14s 430ms/step - loss: 0.0717 - acc: 0.9416\n",
            "Epoch 7/10\n",
            "32/32 [==============================] - 14s 429ms/step - loss: 0.0541 - acc: 0.9511\n",
            "Epoch 8/10\n",
            "32/32 [==============================] - 14s 431ms/step - loss: 0.0483 - acc: 0.9564\n",
            "Epoch 9/10\n",
            "32/32 [==============================] - 14s 431ms/step - loss: 0.0440 - acc: 0.9596\n",
            "Epoch 10/10\n",
            "32/32 [==============================] - 14s 434ms/step - loss: 0.0406 - acc: 0.9614\n",
            "32/32 [==============================] - 4s 114ms/step - loss: 0.0382 - acc: 0.9632\n",
            "\n",
            "test loss: 0.03815101087093353\n",
            "accuracy: 0.9631875157356262\n",
            "63/63 [==============================] - 1s 13ms/step - loss: 0.0395 - acc: 0.9650\n",
            "\n",
            "train loss: 0.03949824720621109\n",
            "accuracy: 0.9649999737739563\n"
          ]
        }
      ]
    }
  ]
}