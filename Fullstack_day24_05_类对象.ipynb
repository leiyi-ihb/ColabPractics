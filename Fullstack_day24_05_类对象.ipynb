{
  "nbformat": 4,
  "nbformat_minor": 0,
  "metadata": {
    "colab": {
      "provenance": [],
      "collapsed_sections": [],
      "authorship_tag": "ABX9TyOpkX3+EjIugM3uVChcdcQW",
      "include_colab_link": true
    },
    "kernelspec": {
      "name": "python3",
      "display_name": "Python 3"
    },
    "language_info": {
      "name": "python"
    }
  },
  "cells": [
    {
      "cell_type": "markdown",
      "metadata": {
        "id": "view-in-github",
        "colab_type": "text"
      },
      "source": [
        "<a href=\"https://colab.research.google.com/github/leiyi-ihb/ColabPractics/blob/main/Fullstack_day24_05_%E7%B1%BB%E5%AF%B9%E8%B1%A1.ipynb\" target=\"_parent\"><img src=\"https://colab.research.google.com/assets/colab-badge.svg\" alt=\"Open In Colab\"/></a>"
      ]
    },
    {
      "cell_type": "code",
      "execution_count": 1,
      "metadata": {
        "id": "JCmTQnJKC4kD",
        "colab": {
          "base_uri": "https://localhost:8080/"
        },
        "outputId": "137554a8-818a-46a4-87bc-d964732e5a28"
      },
      "outputs": [
        {
          "output_type": "stream",
          "name": "stdout",
          "text": [
            "你调用Dog类了哦\n",
            "Duangis sitting down now hahha55\n",
            "I like the dog\n",
            "你调用Dog类了哦\n",
            "bilirolled over\n",
            "None\n"
          ]
        }
      ],
      "source": [
        "class Dog():\n",
        "  #给小狗的简单指令\n",
        "  def __init__(self, name, age): #调用类的时候就会自动执行__init__方法，该方法有个特殊别名叫\"构造方法\"    \n",
        "    self.name=name\n",
        "    self.age=age\n",
        "    print(\"你调用Dog类了哦\") #后面函数的共有字段，就可以放到该方法中了   \n",
        "  def sit(self, baba):\n",
        "    #命令小狗蹲下\n",
        "    print(self.name + \"is sitting down now %s\" %(baba) + str(self.age))\n",
        "    return \"I like the dog\"\n",
        "  def roll_over(self):\n",
        "    #命令小狗打滚\n",
        "    print(self.name + \"rolled over\")\n",
        "\n",
        "if __name__== '__main__':\n",
        "  my_dog=Dog(\"Duang\", 55) #调用类就要传参数name, age\n",
        "  rent=my_dog.sit(\"hahha\")\n",
        "  print(rent)\n",
        "  my_dog2=Dog(\"bili\", 12)\n",
        "  rat=my_dog2.roll_over()\n",
        "  print(rat) \n",
        "    "
      ]
    },
    {
      "cell_type": "markdown",
      "source": [
        "## 什么时候使用函数式编程，什么时候使用面向对象编程呢个？？  \n",
        "当函数之间具有很多变量代码重复的时候，使用面向对象编程"
      ],
      "metadata": {
        "id": "KtXWesrVNZYy"
      }
    },
    {
      "cell_type": "code",
      "source": [
        "class Bar:\n",
        "  def __init__(self):\n",
        "    pass\n",
        "  def add(self, content):\n",
        "    print(self.name, self.age, self.gender, content)\n",
        "  def delete(self, content):\n",
        "    print(self.name, self.age, self.gender, content)\n",
        "  def update(self, content):\n",
        "    print(self.name, self.age, self.gender, content)\n",
        "  def get(self, content):\n",
        "    print(self.name, self.age, self.gender, content)\n",
        "if __name__=='__main__':\n",
        "  obj=Bar()\n",
        "  obj.name=\"xiao\"\n",
        "  obj.age=2\n",
        "  obj.gender=\"male\"\n",
        "  obj.add(\"上山去打野猪\")\n",
        "\n",
        "  obj2=Bar()\n",
        "  obj2.name=\"fish\"\n",
        "  obj2.age=22\n",
        "  obj2.gender=\"female\"\n",
        "  obj2.add(\"下河抓鱼\")\n",
        "\n",
        "  obj3=Bar()\n",
        "  obj3.name=\"midl\"\n",
        "  obj3.age=98\n",
        "  obj3.gender=\"male\"\n",
        "  obj3.add(\"家里煮饭\")\n",
        "\n",
        "  obj4=Bar()\n",
        "  obj4.name=\"you\"\n",
        "  obj4.age=198\n",
        "  obj4.gender=\"male\"\n",
        "  obj4.add(\"睡觉\") #可以发现，每次都需要重新定义一下参数self.name, self.age和self.gender【如果调用无数次，那不就废了】。这下就可以体现处构造函数的优势了【如下】\n",
        "    "
      ],
      "metadata": {
        "colab": {
          "base_uri": "https://localhost:8080/"
        },
        "id": "-YC2IT5LrlEB",
        "outputId": "5bac704c-af0f-4477-9542-2a6f729372f0"
      },
      "execution_count": 2,
      "outputs": [
        {
          "output_type": "stream",
          "name": "stdout",
          "text": [
            "xiao 2 male 上山去打野猪\n",
            "fish 22 female 下河抓鱼\n",
            "midl 98 male 家里煮饭\n",
            "you 198 male 睡觉\n"
          ]
        }
      ]
    },
    {
      "cell_type": "code",
      "source": [
        "class Bar:\n",
        "  def __init__(self, n, a, g): #针对上面例子我们把构造方法用起来\n",
        "    self.name=n\n",
        "    self.age=a\n",
        "    self.gender=g\n",
        "  def add(self, content):\n",
        "    print(self.name, self.age, self.gender, content)\n",
        "  def delete(self, content):\n",
        "    print(self.name, self.age, self.gender, content)\n",
        "  def update(self, content):\n",
        "    print(self.name, self.age, self.gender, content)\n",
        "  def get(self, content):\n",
        "    print(self.name, self.age, self.gender, content)\n",
        "\n",
        "if __name__=='__main__':\n",
        "  obj=Bar(\"xiao\",2,\"male\")\n",
        "  obj.add(\"上山去打野猪\")\n",
        "\n",
        "  obj2=Bar(\"fish\",22,\"female\")\n",
        "  obj2.add(\"下河抓鱼\")\n",
        "\n",
        "  obj3=Bar(\"midl\",98,\"male\")\n",
        "  obj3.add(\"家里煮饭\")\n",
        "\n",
        "  obj4=Bar(\"you\",198,\"male\")\n",
        "  obj4.add(\"睡觉\")  \n",
        "\n",
        "# Q: 可以发现性别大多数都是\"male\"，因此可以使用默认函数【如下修改】"
      ],
      "metadata": {
        "colab": {
          "base_uri": "https://localhost:8080/"
        },
        "id": "SlzcLOXzuC_a",
        "outputId": "062ba17d-5854-453f-d9a6-73d31468e8dc"
      },
      "execution_count": 3,
      "outputs": [
        {
          "output_type": "stream",
          "name": "stdout",
          "text": [
            "xiao 2 male 上山去打野猪\n",
            "fish 22 female 下河抓鱼\n",
            "midl 98 male 家里煮饭\n",
            "you 198 male 睡觉\n"
          ]
        }
      ]
    },
    {
      "cell_type": "code",
      "source": [
        "class Bar:\n",
        "  def __init__(self, n, a, g=\"male\"): \n",
        "    '''针对上面例子我们把构造方法用起来\n",
        "    构造方法的特性\n",
        "    构造方法调用时自动执行\n",
        "    '''\n",
        "    print(\"调用Bar了哦\")\n",
        "    self.name=n\n",
        "    self.age=a\n",
        "    self.gender=g\n",
        "    self.blood=\"O\" #可以发现，直接写死，都可以不用默认参数。参数，只是让我们更加灵活。\n",
        "  def add(self, content):\n",
        "    print(self.name, self.age, self.gender, content, self.blood)\n",
        "  def delete(self, content):\n",
        "    print(self.name, self.age, self.gender, content, self.blood)\n",
        "  def update(self, content):\n",
        "    print(self.name, self.age, self.gender, content, self.blood)\n",
        "  def get(self, content):\n",
        "    print(self.name, self.age, self.gender, content, self.blood)\n",
        "\n",
        "if __name__=='__main__':\n",
        "  obj=Bar(\"xiao\",2)\n",
        "  obj.add(\"上山去打野猪\")\n",
        "\n",
        "  obj2=Bar(\"fish\",22,\"female\")\n",
        "  obj2.add(\"下河抓鱼\")\n",
        "\n",
        "  obj3=Bar(\"midl\",98)\n",
        "  obj3.add(\"家里煮饭\")\n",
        "\n",
        "  obj4=Bar(\"you\",198)\n",
        "  obj4.add(\"睡觉\")  \n",
        "\n",
        "# Q: 可以发现性别大多数都是\"male\"，因此可以使用默认函数【如下修改】"
      ],
      "metadata": {
        "colab": {
          "base_uri": "https://localhost:8080/"
        },
        "id": "8mx5oV-iwkHB",
        "outputId": "c5075f56-9456-47b9-9ada-c570dc9b1588"
      },
      "execution_count": null,
      "outputs": [
        {
          "output_type": "stream",
          "name": "stdout",
          "text": [
            "调用Bar了哦\n",
            "xiao 2 male 上山去打野猪 O\n",
            "调用Bar了哦\n",
            "fish 22 female 下河抓鱼 O\n",
            "调用Bar了哦\n",
            "midl 98 male 家里煮饭 O\n",
            "调用Bar了哦\n",
            "you 198 male 睡觉 O\n"
          ]
        }
      ]
    },
    {
      "cell_type": "markdown",
      "source": [
        "## 类的三大特性之一（继承）"
      ],
      "metadata": {
        "id": "8GnOkiOA_YqW"
      }
    },
    {
      "cell_type": "code",
      "source": [
        "class Father:\n",
        "  def __init__(self, n, a, work) -> None:\n",
        "    print(\"调用father class了\")\n",
        "    '''\n",
        "    1、注意方法的返回值\n",
        "    2、类中，方法间的变量调用\n",
        "    '''\n",
        "    self.name = n\n",
        "    self.age = a\n",
        "    self.work = work  #\n",
        "  def smoker(self, enjoy):\n",
        "    print(self.name, \"'s father is %s\" %(self.age), \"and he enjoy %s\" %(enjoy), \"but he is a smoker\", \"Like %s\" %(self.work))\n",
        "    x = \"野猪\" #这种变量定义方式能在别的方法中不能调用\n",
        "    self.m = \"hello\" #这种变量定义方式能在别的方法中调用\n",
        "    return \"Father is a smoker\"\n",
        "  def drink(self, gender):\n",
        "    print(self.name, \"'s mother is %s\" %(self.age), \"and she is a %s\" %(gender), \"but she is a drinker\", \"Like %s\" %(self.work))    \n",
        "    return \"Father is a drinker\"\n",
        "  def school(self, university):\n",
        "    inter = self.smoker(self)  #类中，方法间的变量怎样调用？？ https://blog.csdn.net/weixin_42550871/article/details/108700848\n",
        "    self.smoker(self)\n",
        "    print(self.name, \"'s brother is %s\" %(self.age), \"and he is graduate from %s\" %(university), \"but don't like %s\" %(inter), \"but don't like %s\" %(self.m), \"Like %s\" %(self.work))\n",
        "    return \"haha\"\n",
        "\n",
        "if __name__=='__main__':\n",
        "  obj=Father(\"alix\", \"45\", \"Compute Science\")\n",
        "  tmp1 = obj.drink(\"male\")\n",
        "  tmp2 = obj.school(\"wuhan\")\n",
        "  print (tmp1, tmp2, \"The program is over\")\n"
      ],
      "metadata": {
        "id": "5mXJ91_I_goX",
        "colab": {
          "base_uri": "https://localhost:8080/"
        },
        "outputId": "73559a5b-2cdd-4970-fe45-647051915c73"
      },
      "execution_count": 33,
      "outputs": [
        {
          "output_type": "stream",
          "name": "stdout",
          "text": [
            "调用father class了\n",
            "alix 's mother is 45 and she is a male but she is a drinker Like Compute Science\n",
            "alix 's father is 45 and he enjoy <__main__.Father object at 0x7f43f0988ed0> but he is a smoker Like Compute Science\n",
            "alix 's father is 45 and he enjoy <__main__.Father object at 0x7f43f0988ed0> but he is a smoker Like Compute Science\n",
            "alix 's brother is 45 and he is graduate from wuhan but don't like Father is a smoker but don't like hello Like Compute Science\n",
            "Father is a drinker haha The program is over\n"
          ]
        }
      ]
    },
    {
      "cell_type": "markdown",
      "source": [
        "## 继承\n",
        "两个概念：`父类`（基类），`子类`（派生类）  \n",
        "继承跟现实生活中是一样的。可以全继承，也可以选择性继承"
      ],
      "metadata": {
        "id": "BecUBgj7oJbf"
      }
    },
    {
      "cell_type": "code",
      "source": [
        "class Grandfather:\n",
        "  def __init__(self) -> None:\n",
        "    pass\n",
        "  def trivel(self):\n",
        "    pass\n",
        "  def book(self):\n",
        "    pass\n",
        "\n",
        "class Father: # 父类-基类\n",
        "  def __init__(self) -> None:\n",
        "    pass\n",
        "  def basketball(self):\n",
        "    pass\n",
        "  def football(self):\n",
        "    pass\n",
        "  def smoke(self):\n",
        "    pass\n",
        "  def drink(self):\n",
        "    pass\n",
        "\n",
        "class Son(Father): #实现了全继承(子类-派生类)。\n",
        "  def __init__(self) -> None:\n",
        "    super().__init__()\n",
        "  def pingpeng(self):\n",
        "    pass\n",
        "\n",
        "if __name__=='__main__':\n",
        "  obj = Son()\n",
        "  obj.pingpeng()\n",
        "  obj.basketball()\n",
        "  # obj.trivel() #会报错，无法继承到Grandfather"
      ],
      "metadata": {
        "colab": {
          "base_uri": "https://localhost:8080/",
          "height": 200
        },
        "id": "aTqTuqTZn9Sx",
        "outputId": "d442de26-18ff-4a09-aded-fd59bd74e5ec"
      },
      "execution_count": 35,
      "outputs": [
        {
          "output_type": "error",
          "ename": "AttributeError",
          "evalue": "ignored",
          "traceback": [
            "\u001b[0;31m---------------------------------------------------------------------------\u001b[0m",
            "\u001b[0;31mAttributeError\u001b[0m                            Traceback (most recent call last)",
            "\u001b[0;32m<ipython-input-35-3fcbc520641a>\u001b[0m in \u001b[0;36m<module>\u001b[0;34m\u001b[0m\n\u001b[1;32m     29\u001b[0m   \u001b[0mobj\u001b[0m\u001b[0;34m.\u001b[0m\u001b[0mpingpeng\u001b[0m\u001b[0;34m(\u001b[0m\u001b[0;34m)\u001b[0m\u001b[0;34m\u001b[0m\u001b[0;34m\u001b[0m\u001b[0m\n\u001b[1;32m     30\u001b[0m   \u001b[0mobj\u001b[0m\u001b[0;34m.\u001b[0m\u001b[0mbasketball\u001b[0m\u001b[0;34m(\u001b[0m\u001b[0;34m)\u001b[0m\u001b[0;34m\u001b[0m\u001b[0;34m\u001b[0m\u001b[0m\n\u001b[0;32m---> 31\u001b[0;31m   \u001b[0mobj\u001b[0m\u001b[0;34m.\u001b[0m\u001b[0mtrivel\u001b[0m\u001b[0;34m(\u001b[0m\u001b[0;34m)\u001b[0m\u001b[0;34m\u001b[0m\u001b[0;34m\u001b[0m\u001b[0m\n\u001b[0m",
            "\u001b[0;31mAttributeError\u001b[0m: 'Son' object has no attribute 'trivel'"
          ]
        }
      ]
    },
    {
      "cell_type": "code",
      "source": [
        "'''如何能继承Grandfather呢？\n",
        "   只需让Father继承Grandfather就行，这样Son就可以继承Grandfather了'''\n",
        "class Grandfather:\n",
        "  def __init__(self) -> None:\n",
        "    pass\n",
        "  def trivel(self):\n",
        "    pass\n",
        "  def book(self):\n",
        "    pass\n",
        "\n",
        "class Father(Grandfather): # 父类-基类\n",
        "  def __init__(self) -> None:\n",
        "    pass\n",
        "  def basketball(self):\n",
        "    pass\n",
        "  def football(self):\n",
        "    pass\n",
        "  def smoke(self):\n",
        "    pass\n",
        "  def drink(self):\n",
        "    pass\n",
        "\n",
        "class Son(Father): #实现了全继承(子类-派生类)。\n",
        "  def __init__(self) -> None:\n",
        "    super().__init__()\n",
        "  def pingpeng(self):\n",
        "    pass\n",
        "\n",
        "if __name__=='__main__':\n",
        "  obj = Son()\n",
        "  obj.pingpeng()\n",
        "  obj.basketball()\n",
        "  obj.trivel() #能继承到Grandfather"
      ],
      "metadata": {
        "id": "0RURBejnr3iw"
      },
      "execution_count": 37,
      "outputs": []
    },
    {
      "cell_type": "markdown",
      "source": [
        "## 选择性继承\n",
        "选择性继承的实质，**就相当于改写已有的方法**，如下子类自己定义了自己的smoke方法"
      ],
      "metadata": {
        "id": "PczOUsFZsmPG"
      }
    },
    {
      "cell_type": "code",
      "source": [
        "class Father: # 父类-基类\n",
        "  def __init__(self) -> None:\n",
        "    pass\n",
        "  def basketball(self):\n",
        "    pass\n",
        "  def football(self):\n",
        "    pass\n",
        "  def smoke(self):\n",
        "    print(\"I am a smoker\")\n",
        "  def drink(self):\n",
        "    pass\n",
        "\n",
        "class Son(Father): #实现了全继承(子类-派生类)。\n",
        "  def __init__(self) -> None:\n",
        "    super().__init__()\n",
        "  def pingpeng(self):\n",
        "    pass\n",
        "  def smoke(self):\n",
        "    print(\"Never smoker\")\n",
        "\n",
        "if __name__=='__main__':\n",
        "  obj = Son()\n",
        "  obj.pingpeng()\n",
        "  obj.smoke() #这样就不会调用父类的smock方法了（其实就是一个查找的先后顺序，找到了就停止继续查找了）\n"
      ],
      "metadata": {
        "colab": {
          "base_uri": "https://localhost:8080/"
        },
        "id": "GV6eGl3Wsqqe",
        "outputId": "70e06a41-cec7-4a7a-9b02-763a2b6456cb"
      },
      "execution_count": 38,
      "outputs": [
        {
          "output_type": "stream",
          "name": "stdout",
          "text": [
            "Never smoker\n"
          ]
        }
      ]
    },
    {
      "cell_type": "markdown",
      "source": [
        "# 问题：既想执行自己的，又想执行父类的，该怎么办？？\n",
        "1、使用supper  \n",
        "2、直接强制调用"
      ],
      "metadata": {
        "id": "sAHtTloyv-Dn"
      }
    },
    {
      "cell_type": "code",
      "source": [],
      "metadata": {
        "id": "rhnCsJsSwBgp"
      },
      "execution_count": null,
      "outputs": []
    },
    {
      "cell_type": "code",
      "source": [
        "class Father: # 父类-基类\n",
        "  def __init__(self) -> None:\n",
        "    pass\n",
        "  def basketball(self):\n",
        "    pass\n",
        "  def football(self):\n",
        "    pass\n",
        "  def smoke(self):\n",
        "    print(\"I am a smoker\")\n",
        "  def drink(self):\n",
        "    pass\n",
        "\n",
        "class Son(Father): #实现了全继承(子类-派生类)。\n",
        "  def __init__(self) -> None:\n",
        "    super().__init__() #这下明白这里的代码可以怎样写了吗?\n",
        "  def pingpeng(self):\n",
        "    pass\n",
        "  def smoke(self):\n",
        "    super(Son, self).smoke() #方式1、找到父类，并执行父类的smoke方法（当然执行父类的啥方法都是可以的）\n",
        "    print(\"Never smoker\")\n",
        "    Father.smoke(self) #方式2、主动调用\n",
        "\n",
        "if __name__=='__main__':\n",
        "  obj = Son()\n",
        "  obj.pingpeng()\n",
        "  obj.smoke()\n"
      ],
      "metadata": {
        "colab": {
          "base_uri": "https://localhost:8080/"
        },
        "outputId": "01a114b8-697d-4936-c946-8875ae6a80a9",
        "id": "ZSe4H6sHwKQ_"
      },
      "execution_count": 40,
      "outputs": [
        {
          "output_type": "stream",
          "name": "stdout",
          "text": [
            "I am a smoker\n",
            "Never smoker\n",
            "I am a smoker\n"
          ]
        }
      ]
    },
    {
      "cell_type": "markdown",
      "source": [
        "## 一个类可能继承多个父类【多继承】  \n",
        "可以想象一个问题：当继承多个父类的时候，如果两个父类间有重叠的方法，它是怎么处理的呢？  \n",
        "规则：自己==》左边父类==》右边父类"
      ],
      "metadata": {
        "id": "CpVOcKFv62YL"
      }
    },
    {
      "cell_type": "code",
      "source": [
        "# Father1和Father2中都有方法book\n",
        "class Father1:\n",
        "  def __init__(self) -> None:\n",
        "    pass\n",
        "  def trivel(self):\n",
        "    pass\n",
        "  def book(self):\n",
        "    print(\"chinese\") \n",
        "\n",
        "class Father2: \n",
        "  def __init__(self) -> None:\n",
        "    pass\n",
        "  def basketball(self):\n",
        "    pass\n",
        "  def football(self):\n",
        "    pass\n",
        "  def smoke(self):\n",
        "    pass\n",
        "  def drink(self):\n",
        "    pass\n",
        "  def book(self):\n",
        "    print(\"math\")\n",
        "\n",
        "class Son(Father1, Father2): #同时继承两个父类\n",
        "  def __init__(self) -> None:\n",
        "    super().__init__()\n",
        "  def pingpeng(self):\n",
        "    pass\n",
        "\n",
        "if __name__=='__main__':\n",
        "  obj = Son()\n",
        "  obj.book() #查找方法为：自己-->左边父类-->右边父类\n"
      ],
      "metadata": {
        "colab": {
          "base_uri": "https://localhost:8080/"
        },
        "id": "vARp0uAJ7ijc",
        "outputId": "f6f58f8d-678c-4e4d-c5e1-1f0f8e0b5b96"
      },
      "execution_count": 43,
      "outputs": [
        {
          "output_type": "stream",
          "name": "stdout",
          "text": [
            "chinese\n"
          ]
        }
      ]
    },
    {
      "cell_type": "markdown",
      "source": [
        "## 上面例子中，如果其中一个父类又继承了别人呢，查找的优先顺序又是咋样的呢？\n",
        "规则：自己找完==》左边找完==》右边找完\n",
        "\n",
        "# 但又出现一个问题：如果左右两个按不同路线继承，但最终汇聚继承到同一个类呢？？\n",
        "如：Son(Father1, Father2)  \n",
        "--------------Father1(Father1_0)  \n",
        "--------------Father1_0(Father1_1)  \n",
        "--------------Father1_1(FatherBase)\n",
        "\n",
        "--------------Father2(Father2_0)\n",
        "--------------Father2_0(Father2_1)\n",
        "--------------Father2_1(FatherBase) `FatherBase相当于根`\n",
        "\n",
        "规则:自己找完==》左边找完==》右边找完 `【最后找根】`\n"
      ],
      "metadata": {
        "id": "4xx8mMeG836I"
      }
    },
    {
      "cell_type": "markdown",
      "source": [],
      "metadata": {
        "id": "ThcDZNieEcyr"
      }
    },
    {
      "cell_type": "markdown",
      "source": [
        "## 理解下面例子中process_request的调用途径"
      ],
      "metadata": {
        "id": "hRCrP3yoEdIP"
      }
    },
    {
      "cell_type": "code",
      "source": [],
      "metadata": {
        "id": "S85rsVmkEhfZ"
      },
      "execution_count": null,
      "outputs": []
    },
    {
      "cell_type": "code",
      "source": [
        "class BaseRequest:\n",
        "  pass\n",
        "\n",
        "class RequestMandler(BaseRequest):\n",
        "  def server_forever(self):\n",
        "    print(\"RequestMandler.server_forever\")\n",
        "    self.process_request() #请问这里的process_request会先执行哪一个？\n",
        "  def process_request(self):\n",
        "    print(\"RequestMandler.process_request\")\n",
        "  pass\n",
        "\n",
        "class Minx:\n",
        "  def process_request(self):    \n",
        "    print(\"Minx.process_request\")\n",
        "  \n",
        "class Son(Minx, RequestMandler):\n",
        "  pass\n",
        "\n",
        "if __name__=='__main__':\n",
        "  obj=Son()\n",
        "  obj.process_request()\n",
        "  obj.server_forever()"
      ],
      "metadata": {
        "colab": {
          "base_uri": "https://localhost:8080/"
        },
        "outputId": "c25bb3c6-d847-4646-9328-48b057582841",
        "id": "w2LTb1bSEh3y"
      },
      "execution_count": null,
      "outputs": [
        {
          "output_type": "stream",
          "name": "stdout",
          "text": [
            "Minx.process_request\n",
            "RequestMandler.server_forever\n",
            "Minx.process_request\n"
          ]
        }
      ]
    },
    {
      "cell_type": "markdown",
      "source": [
        "## 上面例子中：加入__init__方法  \n",
        "一定要理清楚调用的规则哦"
      ],
      "metadata": {
        "id": "y_QuypgbEvyk"
      }
    },
    {
      "cell_type": "code",
      "source": [
        "class BaseRequest:\n",
        "  def __init__(self) -> None:\n",
        "    print(\"BaseRequest.init\")\n",
        "\n",
        "class RequestMandler(BaseRequest):\n",
        "  def __init__(self) -> None:\n",
        "    # super().__init__()\n",
        "    # BaseRequest.__init__(self) #加上就能同时执行BaseRequest中的__init__方法\n",
        "    print(\"RequestMandler.init\")\n",
        "  def server_forever(self):\n",
        "    print(\"RequestMandler.server_forever\")\n",
        "    self.process_request() #请问这里的process_request会先执行哪一个？\n",
        "  def process_request(self):\n",
        "    print(\"RequestMandler.process_request\")\n",
        "  pass\n",
        "\n",
        "class Minx:\n",
        "  def process_request(self):    \n",
        "    print(\"Minx.process_request\")\n",
        "  \n",
        "class Son(Minx, RequestMandler):\n",
        "  pass\n",
        "\n",
        "if __name__=='__main__':\n",
        "  obj=Son()\n",
        "  # obj.process_request()\n",
        "  # obj.server_forever()"
      ],
      "metadata": {
        "colab": {
          "base_uri": "https://localhost:8080/"
        },
        "id": "ctcVxf-WE9Js",
        "outputId": "c10db117-9901-4731-a5af-a780318ac852"
      },
      "execution_count": 48,
      "outputs": [
        {
          "output_type": "stream",
          "name": "stdout",
          "text": [
            "BaseRequest.init\n",
            "RequestMandler.init\n"
          ]
        }
      ]
    },
    {
      "cell_type": "code",
      "source": [
        "#在Pycharm中练习查找执行流程：确定1处需要几个参数；确定2处需要几个参数\n",
        "import socketserver\n",
        "obj = socketserver.ThreadingTCPServer() #1\n",
        "obj.process_request() #2"
      ],
      "metadata": {
        "id": "oJ2sDiQ8HF_T"
      },
      "execution_count": null,
      "outputs": []
    },
    {
      "cell_type": "markdown",
      "source": [
        "## 以上就是继承的所有内容，接下来看面向对象的三大特性之三：多态\n"
      ],
      "metadata": {
        "id": "d0oIH3ibSxEm"
      }
    },
    {
      "cell_type": "code",
      "source": [
        "class Dog():\n",
        "  #给小狗的简单指令\n",
        "  def __init__(self): #调用类的时候就会自动执行__init__方法，该方法有个特殊别名叫\"构造方法\"    \n",
        "    # self.name=name\n",
        "    # self.age=age\n",
        "    print(\"你调用Dog类了哦\") #后面函数的共有字段，就可以放到该方法中了   \n",
        "  def sit(self, baba):\n",
        "    #命令小狗蹲下\n",
        "    print(self.name + \"is sitting down now %s\" %(baba) + str(self.age))\n",
        "    return \"I like the dog\"\n",
        "  def roll_over(self):\n",
        "    #命令小狗打滚\n",
        "    print(self.name + \"rolled over\")\n",
        "\n",
        "if __name__== '__main__':\n",
        "  my_dog=Dog() #如果构造方法不传参数,可以发现每次都要该name和age，如果加入参数，直接将name和age作为参数传入了\n",
        "  my_dog.age=10\n",
        "  my_dog.name=\"shark\"\n",
        "  rent=my_dog.sit(\"hahha\")\n",
        "\n",
        "  dog2=Dog()\n",
        "  dog2.name=\"dahuang\"\n",
        "  dog2.age=9999\n",
        "  dog2.sit(\"wuwuuwuw\")\n"
      ],
      "metadata": {
        "colab": {
          "base_uri": "https://localhost:8080/"
        },
        "id": "Ylo-KwXbVAaA",
        "outputId": "63824d36-44ff-4752-8170-d9a8aa7d9f15"
      },
      "execution_count": null,
      "outputs": [
        {
          "output_type": "stream",
          "name": "stdout",
          "text": [
            "你调用Dog类了哦\n",
            "sharkis sitting down now hahha10\n",
            "你调用Dog类了哦\n",
            "dahuangis sitting down now wuwuuwuw9999\n"
          ]
        }
      ]
    }
  ]
}