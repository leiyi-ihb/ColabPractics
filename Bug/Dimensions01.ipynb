{
  "nbformat": 4,
  "nbformat_minor": 0,
  "metadata": {
    "colab": {
      "provenance": [],
      "authorship_tag": "ABX9TyO+XxQSDTBJGrA1+gC6xxE1",
      "include_colab_link": true
    },
    "kernelspec": {
      "name": "python3",
      "display_name": "Python 3"
    },
    "language_info": {
      "name": "python"
    }
  },
  "cells": [
    {
      "cell_type": "markdown",
      "metadata": {
        "id": "view-in-github",
        "colab_type": "text"
      },
      "source": [
        "<a href=\"https://colab.research.google.com/github/leiyi-ihb/ColabPractics/blob/main/Bug/Dimensions01.ipynb\" target=\"_parent\"><img src=\"https://colab.research.google.com/assets/colab-badge.svg\" alt=\"Open In Colab\"/></a>"
      ]
    },
    {
      "cell_type": "code",
      "execution_count": null,
      "metadata": {
        "colab": {
          "base_uri": "https://localhost:8080/"
        },
        "id": "MjXsh4Lkrlae",
        "outputId": "ff26afe6-9f71-4a51-f6e4-b038e5d88b66"
      },
      "outputs": [
        {
          "output_type": "stream",
          "name": "stdout",
          "text": [
            "Platform:Linux-5.10.133+-x86_64-with-Ubuntu-18.04-bionic\n",
            "Tensorflow version:2.9.2\n",
            "Keras version:2.9.0\n"
          ]
        }
      ],
      "source": [
        "import platform\n",
        "import tensorflow\n",
        "import keras\n",
        "print(\"Platform:{}\".format(platform.platform()))\n",
        "print(\"Tensorflow version:{}\".format(tensorflow.__version__))\n",
        "print(\"Keras version:{}\".format(keras.__version__))\n",
        "import numpy as np\n",
        "from IPython.display import Image\n",
        "\n",
        "from keras.models import Model\n",
        "from keras.layers import Input, Dense, Conv1D, MaxPool1D\n",
        "from keras.utils import plot_model"
      ]
    },
    {
      "cell_type": "code",
      "source": [
        "! if [ ! -f \"dataset_Li.pkl\" ]; then wget https://master.dl.sourceforge.net/project/summer-research-20/sim_data_1/dataset_Li.pkl ; else echo \"Found previous downloaded data.\"; fi"
      ],
      "metadata": {
        "colab": {
          "base_uri": "https://localhost:8080/"
        },
        "id": "D8qZML0cso86",
        "outputId": "7f500fbb-4bcd-4ade-9fa4-8f9493432634"
      },
      "execution_count": null,
      "outputs": [
        {
          "output_type": "stream",
          "name": "stdout",
          "text": [
            "--2022-11-10 16:11:59--  https://master.dl.sourceforge.net/project/summer-research-20/sim_data_1/dataset_Li.pkl\n",
            "Resolving master.dl.sourceforge.net (master.dl.sourceforge.net)... 216.105.38.12\n",
            "Connecting to master.dl.sourceforge.net (master.dl.sourceforge.net)|216.105.38.12|:443... connected.\n",
            "HTTP request sent, awaiting response... 301 Moved Permanently\n",
            "Location: https://downloads.sourceforge.net/project/summer-research-20/sim_data_1/dataset_Li.pkl [following]\n",
            "--2022-11-10 16:12:00--  https://downloads.sourceforge.net/project/summer-research-20/sim_data_1/dataset_Li.pkl\n",
            "Resolving downloads.sourceforge.net (downloads.sourceforge.net)... 204.68.111.105\n",
            "Connecting to downloads.sourceforge.net (downloads.sourceforge.net)|204.68.111.105|:443... connected.\n",
            "HTTP request sent, awaiting response... 302 Found\n",
            "Location: https://gigenet.dl.sourceforge.net/project/summer-research-20/sim_data_1/dataset_Li.pkl [following]\n",
            "--2022-11-10 16:12:00--  https://gigenet.dl.sourceforge.net/project/summer-research-20/sim_data_1/dataset_Li.pkl\n",
            "Resolving gigenet.dl.sourceforge.net (gigenet.dl.sourceforge.net)... 69.65.16.142\n",
            "Connecting to gigenet.dl.sourceforge.net (gigenet.dl.sourceforge.net)|69.65.16.142|:443... connected.\n",
            "HTTP request sent, awaiting response... 200 OK\n",
            "Length: 640080470 (610M) [application/octet-stream]\n",
            "Saving to: ‘dataset_Li.pkl’\n",
            "\n",
            "dataset_Li.pkl      100%[===================>] 610.43M  38.3MB/s    in 17s     \n",
            "\n",
            "2022-11-10 16:12:17 (36.7 MB/s) - ‘dataset_Li.pkl’ saved [640080470/640080470]\n",
            "\n"
          ]
        }
      ]
    },
    {
      "cell_type": "code",
      "source": [
        "# Data processing\n",
        "import pickle\n",
        "with open(\"dataset_Li.pkl\", \"rb\") as f:\n",
        "    data = pickle.load(f)\n",
        "x_train, y_train = np.array(data['train'][0]), np.array(data['train'][1])\n",
        "x_test, y_test = np.array(data['test'][0]), np.array(data['test'][1])\n",
        "print(x_train.shape, y_train.shape)\n",
        "print(x_train[0:1, 0:2])"
      ],
      "metadata": {
        "colab": {
          "base_uri": "https://localhost:8080/"
        },
        "id": "jJQMQF5bszd3",
        "outputId": "141eb59f-ac3a-4584-dea8-3e1b8d78f783"
      },
      "execution_count": null,
      "outputs": [
        {
          "output_type": "stream",
          "name": "stdout",
          "text": [
            "(16000, 1000, 4) (16000, 1)\n",
            "[[[0. 1. 0. 0.]\n",
            "  [0. 0. 0. 1.]]]\n"
          ]
        }
      ]
    },
    {
      "cell_type": "code",
      "source": [
        "# 创建网络\n",
        "input = Input(shape=(1000, 4), name='input')\n",
        "conv1d_1 = Conv1D(32, kernel_size=4, activation='relu', name='conv1d_1')(input)\n",
        "pool_1 = MaxPool1D(pool_size=2, name='pool_1')(conv1d_1)\n",
        "conv1d_2 = Conv1D(16, kernel_size=4, activation='relu', name='conv1d_2')(pool_1)\n",
        "pool_2 = MaxPool1D(pool_size=2, name='pool_2')(conv1d_2)\n",
        "hidden1 = Dense(64,activation='relu',name='dense')(pool_2)\n",
        "output = Dense(4,activation='softmax',name='output')(hidden1)\n",
        "\n",
        "model = Model(inputs=input, outputs=output)\n",
        "\n",
        "# 可视化\n",
        "# 1、打印网络\n",
        "print(model.summary())\n",
        "# 2、展示网络结构\n",
        "plot_model(model,to_file='multiple_inputs.png')\n",
        "Image('multiple_inputs.png')"
      ],
      "metadata": {
        "colab": {
          "base_uri": "https://localhost:8080/",
          "height": 1000
        },
        "id": "Or3_6P6ttWh2",
        "outputId": "d6d231d3-9f0b-41dc-b96e-ab8a46df128a"
      },
      "execution_count": null,
      "outputs": [
        {
          "output_type": "stream",
          "name": "stdout",
          "text": [
            "Model: \"model_6\"\n",
            "_________________________________________________________________\n",
            " Layer (type)                Output Shape              Param #   \n",
            "=================================================================\n",
            " input (InputLayer)          [(None, 1000, 4)]         0         \n",
            "                                                                 \n",
            " conv1d_1 (Conv1D)           (None, 997, 32)           544       \n",
            "                                                                 \n",
            " pool_1 (MaxPooling1D)       (None, 498, 32)           0         \n",
            "                                                                 \n",
            " conv1d_2 (Conv1D)           (None, 495, 16)           2064      \n",
            "                                                                 \n",
            " pool_2 (MaxPooling1D)       (None, 247, 16)           0         \n",
            "                                                                 \n",
            " dense (Dense)               (None, 247, 64)           1088      \n",
            "                                                                 \n",
            " output (Dense)              (None, 247, 4)            260       \n",
            "                                                                 \n",
            "=================================================================\n",
            "Total params: 3,956\n",
            "Trainable params: 3,956\n",
            "Non-trainable params: 0\n",
            "_________________________________________________________________\n",
            "None\n"
          ]
        },
        {
          "output_type": "execute_result",
          "data": {
            "image/png": "[encoded data removed]",
            "text/plain": [
              "<IPython.core.display.Image object>"
            ]
          },
          "metadata": {},
          "execution_count": 12
        }
      ]
    },
    {
      "cell_type": "code",
      "source": [
        "model.compile(optimizer='adam', metrics='acc', loss='mse')\n",
        "model.fit(x_train, y_train, epochs=10, batch_size=4)\n",
        "# 可以发现，按照上面的网络搭建方式，这里代码就会报错ValueError: Dimensions must be equal, but are 997 and 4 for。其实错误的发生是因为最后一层Dense的units在本例中没有设置为1。对于二分类问题，最后一层只能有一个输出结果，即只能设置为1\n",
        "# 要理解清楚，虽然我们的结果为A,T,C或G中的其中一个，但是对于一个而言只可能是其中一个，因此这是个二分类的问题【好好理解】"
      ],
      "metadata": {
        "colab": {
          "base_uri": "https://localhost:8080/",
          "height": 780
        },
        "id": "8aS4zxVgyOUk",
        "outputId": "51ca9294-7162-44d9-efeb-0c3d6de2e1ef"
      },
      "execution_count": null,
      "outputs": [
        {
          "output_type": "stream",
          "name": "stdout",
          "text": [
            "Epoch 1/10\n"
          ]
        },
        {
          "output_type": "error",
          "ename": "ValueError",
          "evalue": "ignored",
          "traceback": [
            "\u001b[0;31m---------------------------------------------------------------------------\u001b[0m",
            "\u001b[0;31mValueError\u001b[0m                                Traceback (most recent call last)",
            "\u001b[0;32m<ipython-input-13-8d23e6756ec1>\u001b[0m in \u001b[0;36m<module>\u001b[0;34m\u001b[0m\n\u001b[1;32m      1\u001b[0m \u001b[0mmodel\u001b[0m\u001b[0;34m.\u001b[0m\u001b[0mcompile\u001b[0m\u001b[0;34m(\u001b[0m\u001b[0moptimizer\u001b[0m\u001b[0;34m=\u001b[0m\u001b[0;34m'adam'\u001b[0m\u001b[0;34m,\u001b[0m \u001b[0mmetrics\u001b[0m\u001b[0;34m=\u001b[0m\u001b[0;34m'acc'\u001b[0m\u001b[0;34m,\u001b[0m \u001b[0mloss\u001b[0m\u001b[0;34m=\u001b[0m\u001b[0;34m'mse'\u001b[0m\u001b[0;34m)\u001b[0m\u001b[0;34m\u001b[0m\u001b[0;34m\u001b[0m\u001b[0m\n\u001b[0;32m----> 2\u001b[0;31m \u001b[0mmodel\u001b[0m\u001b[0;34m.\u001b[0m\u001b[0mfit\u001b[0m\u001b[0;34m(\u001b[0m\u001b[0mx_train\u001b[0m\u001b[0;34m,\u001b[0m \u001b[0my_train\u001b[0m\u001b[0;34m,\u001b[0m \u001b[0mepochs\u001b[0m\u001b[0;34m=\u001b[0m\u001b[0;36m10\u001b[0m\u001b[0;34m,\u001b[0m \u001b[0mbatch_size\u001b[0m\u001b[0;34m=\u001b[0m\u001b[0;36m4\u001b[0m\u001b[0;34m)\u001b[0m\u001b[0;34m\u001b[0m\u001b[0;34m\u001b[0m\u001b[0m\n\u001b[0m\u001b[1;32m      3\u001b[0m \u001b[0;31m# 可以发现，按照上面的网络搭建方式，这里代码就会报错ValueError: Dimensions must be equal, but are 997 and 4 for。其实错误的发生是因为最后一层Dense的units在本例中没有设置为1。对于二分类问题，最后一层只能有一个输出结果，即只能设置为1\u001b[0m\u001b[0;34m\u001b[0m\u001b[0;34m\u001b[0m\u001b[0;34m\u001b[0m\u001b[0m\n\u001b[1;32m      4\u001b[0m \u001b[0;31m# 要理解清楚，虽然我们的结果为A,T,C或G中的其中一个，但是对于一个而言只可能是其中一个，因此这是个二分类的问题【好好理解】\u001b[0m\u001b[0;34m\u001b[0m\u001b[0;34m\u001b[0m\u001b[0;34m\u001b[0m\u001b[0m\n",
            "\u001b[0;32m/usr/local/lib/python3.7/dist-packages/keras/utils/traceback_utils.py\u001b[0m in \u001b[0;36merror_handler\u001b[0;34m(*args, **kwargs)\u001b[0m\n\u001b[1;32m     65\u001b[0m     \u001b[0;32mexcept\u001b[0m \u001b[0mException\u001b[0m \u001b[0;32mas\u001b[0m \u001b[0me\u001b[0m\u001b[0;34m:\u001b[0m  \u001b[0;31m# pylint: disable=broad-except\u001b[0m\u001b[0;34m\u001b[0m\u001b[0;34m\u001b[0m\u001b[0m\n\u001b[1;32m     66\u001b[0m       \u001b[0mfiltered_tb\u001b[0m \u001b[0;34m=\u001b[0m \u001b[0m_process_traceback_frames\u001b[0m\u001b[0;34m(\u001b[0m\u001b[0me\u001b[0m\u001b[0;34m.\u001b[0m\u001b[0m__traceback__\u001b[0m\u001b[0;34m)\u001b[0m\u001b[0;34m\u001b[0m\u001b[0;34m\u001b[0m\u001b[0m\n\u001b[0;32m---> 67\u001b[0;31m       \u001b[0;32mraise\u001b[0m \u001b[0me\u001b[0m\u001b[0;34m.\u001b[0m\u001b[0mwith_traceback\u001b[0m\u001b[0;34m(\u001b[0m\u001b[0mfiltered_tb\u001b[0m\u001b[0;34m)\u001b[0m \u001b[0;32mfrom\u001b[0m \u001b[0;32mNone\u001b[0m\u001b[0;34m\u001b[0m\u001b[0;34m\u001b[0m\u001b[0m\n\u001b[0m\u001b[1;32m     68\u001b[0m     \u001b[0;32mfinally\u001b[0m\u001b[0;34m:\u001b[0m\u001b[0;34m\u001b[0m\u001b[0;34m\u001b[0m\u001b[0m\n\u001b[1;32m     69\u001b[0m       \u001b[0;32mdel\u001b[0m \u001b[0mfiltered_tb\u001b[0m\u001b[0;34m\u001b[0m\u001b[0;34m\u001b[0m\u001b[0m\n",
            "\u001b[0;32m/usr/local/lib/python3.7/dist-packages/keras/engine/training.py\u001b[0m in \u001b[0;36mtf__train_function\u001b[0;34m(iterator)\u001b[0m\n\u001b[1;32m     13\u001b[0m                 \u001b[0;32mtry\u001b[0m\u001b[0;34m:\u001b[0m\u001b[0;34m\u001b[0m\u001b[0;34m\u001b[0m\u001b[0m\n\u001b[1;32m     14\u001b[0m                     \u001b[0mdo_return\u001b[0m \u001b[0;34m=\u001b[0m \u001b[0;32mTrue\u001b[0m\u001b[0;34m\u001b[0m\u001b[0;34m\u001b[0m\u001b[0m\n\u001b[0;32m---> 15\u001b[0;31m                     \u001b[0mretval_\u001b[0m \u001b[0;34m=\u001b[0m \u001b[0mag__\u001b[0m\u001b[0;34m.\u001b[0m\u001b[0mconverted_call\u001b[0m\u001b[0;34m(\u001b[0m\u001b[0mag__\u001b[0m\u001b[0;34m.\u001b[0m\u001b[0mld\u001b[0m\u001b[0;34m(\u001b[0m\u001b[0mstep_function\u001b[0m\u001b[0;34m)\u001b[0m\u001b[0;34m,\u001b[0m \u001b[0;34m(\u001b[0m\u001b[0mag__\u001b[0m\u001b[0;34m.\u001b[0m\u001b[0mld\u001b[0m\u001b[0;34m(\u001b[0m\u001b[0mself\u001b[0m\u001b[0;34m)\u001b[0m\u001b[0;34m,\u001b[0m \u001b[0mag__\u001b[0m\u001b[0;34m.\u001b[0m\u001b[0mld\u001b[0m\u001b[0;34m(\u001b[0m\u001b[0miterator\u001b[0m\u001b[0;34m)\u001b[0m\u001b[0;34m)\u001b[0m\u001b[0;34m,\u001b[0m \u001b[0;32mNone\u001b[0m\u001b[0;34m,\u001b[0m \u001b[0mfscope\u001b[0m\u001b[0;34m)\u001b[0m\u001b[0;34m\u001b[0m\u001b[0;34m\u001b[0m\u001b[0m\n\u001b[0m\u001b[1;32m     16\u001b[0m                 \u001b[0;32mexcept\u001b[0m\u001b[0;34m:\u001b[0m\u001b[0;34m\u001b[0m\u001b[0;34m\u001b[0m\u001b[0m\n\u001b[1;32m     17\u001b[0m                     \u001b[0mdo_return\u001b[0m \u001b[0;34m=\u001b[0m \u001b[0;32mFalse\u001b[0m\u001b[0;34m\u001b[0m\u001b[0;34m\u001b[0m\u001b[0m\n",
            "\u001b[0;31mValueError\u001b[0m: in user code:\n\n    File \"/usr/local/lib/python3.7/dist-packages/keras/engine/training.py\", line 1051, in train_function  *\n        return step_function(self, iterator)\n    File \"/usr/local/lib/python3.7/dist-packages/keras/engine/training.py\", line 1040, in step_function  **\n        outputs = model.distribute_strategy.run(run_step, args=(data,))\n    File \"/usr/local/lib/python3.7/dist-packages/keras/engine/training.py\", line 1030, in run_step  **\n        outputs = model.train_step(data)\n    File \"/usr/local/lib/python3.7/dist-packages/keras/engine/training.py\", line 890, in train_step\n        loss = self.compute_loss(x, y, y_pred, sample_weight)\n    File \"/usr/local/lib/python3.7/dist-packages/keras/engine/training.py\", line 949, in compute_loss\n        y, y_pred, sample_weight, regularization_losses=self.losses)\n    File \"/usr/local/lib/python3.7/dist-packages/keras/engine/compile_utils.py\", line 201, in __call__\n        loss_value = loss_obj(y_t, y_p, sample_weight=sw)\n    File \"/usr/local/lib/python3.7/dist-packages/keras/losses.py\", line 139, in __call__\n        losses = call_fn(y_true, y_pred)\n    File \"/usr/local/lib/python3.7/dist-packages/keras/losses.py\", line 243, in call  **\n        return ag_fn(y_true, y_pred, **self._fn_kwargs)\n    File \"/usr/local/lib/python3.7/dist-packages/keras/losses.py\", line 1327, in mean_squared_error\n        return backend.mean(tf.math.squared_difference(y_pred, y_true), axis=-1)\n\n    ValueError: Dimensions must be equal, but are 247 and 4 for '{{node mean_squared_error/SquaredDifference}} = SquaredDifference[T=DT_FLOAT](model_6/output/Softmax, mean_squared_error/Cast)' with input shapes: [4,247,4], [4,1].\n"
          ]
        }
      ]
    },
    {
      "cell_type": "markdown",
      "source": [
        "**基于上面出现的问题，对输入和输出做个探讨**\n",
        "**1、输入层：**输入层要注意shape的设置。假设x_train多为数组的.shape为(20000, 10000, 20),那么这就是个3维数组，那么输入层的shape=(10000, 20), 这种对应1D卷积；如果x_train多为数组的.shape为(20000, 10000, 20, 5), 那么这就是个4维数组，那么输入层的shape=(10000, 20, 5), 这种对应2D卷积, 就像图片，在这里就表示为20000张，10000x20x5的图片，只不过卷积网络很多都是对长宽相等的图片进行处理而已，这就是为什么网上很多处理图片的例子，输入层的shape=(28, 28, 1)或(25, 25, 3)等的原因。  \n",
        "那么根据上面的例子，可以知道x_train.shape输出的结果，第一个元素就是batch的大小，这从最后一层batch_size的参数设置中就能看出来。x_train.shape如果为(500, 200, 6)，那么输入shape就为(200, 6), 如果用卷积，只能用1D；x_train.shape如果为(20000, 10000, 500, 200, 6)那么输入的shape就该为(10000, 500, 200, 6), 且应该对应3D卷积  \n",
        "**2、输出层：**最后一层一般是Dense层的分类输出。Dense的参数设置主要是units和activation。对于units而言，二分类问题只能设置为1，多分类问题一般分几类就设置为几；对于激活函数二分类为sigmoid，对应的损失函数为binary_crossentropy，而多分类一般为softmax，损失函数为categorical_crossentropy[深度学习 | (2) 二分类、多分类与多标签分类的区别与损失函数](https://blog.csdn.net/sdu_hao/article/details/103464286)  \n",
        "**再看看网络输出中的各种值**\n",
        "1、Output shape：要明白卷积之后shape的变化。例如你知道为什么第一层卷积的输出为(None, 997,32)吗？None其实是默认的，这个不用管，997是应为原数据为1000, 然后用kernel_size为4,且步长为1的filter扫过一遍，因此应该产生(1000-4+2x0)÷1+1=997个数；那个32其实就是filter的个数[卷积后大小计算](https://blog.csdn.net/Mr_WHITE2/article/details/112334812)   \n",
        "2、Param: 知道这个怎么得来的吗？[综合_详解keras的model.summary()输出参数output shape 与 Param，计算过程](https://blog.csdn.net/weixin_45330915/article/details/109003798)。按照下面我们看看第一层卷积，就该为(4x4x1+1)x32=544\n",
        "\n",
        "公式：  \n",
        "**dense 层**   \n",
        "Param = （输入数据维度+1）* 神经元个数  \n",
        "之所以要加1，是考虑到每个神经元都有一个Bias\n",
        "\n",
        "**Conv1D**  \n",
        "Param = (卷积核大小 x 词向量维度 + 1) x 卷积核个数  \n",
        "**Conv2D**  \n",
        "Param = （卷积核长度*卷积核宽度*通道数+1）x 卷积核个数  \n",
        "下一层的通道数 = 上一层的卷积核个数  \n",
        "**klayers.Embedding() ：词嵌入层**   \n",
        "Param = 词表数*词向量维度"
      ],
      "metadata": {
        "id": "eW6BfKtWVAqM"
      }
    },
    {
      "cell_type": "code",
      "source": [],
      "metadata": {
        "id": "Sgvj6feYx8Ia"
      },
      "execution_count": null,
      "outputs": []
    },
    {
      "cell_type": "code",
      "source": [
        "# 如下修改，就不会有问题了\n",
        "input = Input(shape=(1000, 4), name='input')\n",
        "conv1d_1 = Conv1D(32, kernel_size=4, activation='relu', name='conv1d_1')(input)\n",
        "pool_1 = MaxPool1D(pool_size=2, name='pool_1')(conv1d_1)\n",
        "conv1d_2 = Conv1D(16, kernel_size=4, activation='relu', name='conv1d_2')(pool_1)\n",
        "pool_2 = MaxPool1D(pool_size=2, name='pool_2')(conv1d_2)\n",
        "hidden1 = Dense(64,activation='relu',name='dense')(pool_2)\n",
        "output = Dense(1,activation='softmax',name='output')(hidden1) # 按理，对于二分类，最后一层输出的激活函数应该为sigmoid\n",
        "\n",
        "model = Model(inputs=input, outputs=output)\n",
        "\n",
        "# 可视化\n",
        "# 1、打印网络\n",
        "print(model.summary())\n",
        "# 2、展示网络结构\n",
        "plot_model(model,to_file='multiple_inputs.png')\n",
        "Image('multiple_inputs.png')\n",
        "\n",
        "model.compile(optimizer='adam', metrics='acc', loss='mse') # 按理，二分类对应的loss函数应该为'binary_crossentroy'\n",
        "model.fit(x_train, y_train, epochs=10, batch_size=4) #可以发现，batch_size为4，就是把16000进行4等分"
      ],
      "metadata": {
        "colab": {
          "base_uri": "https://localhost:8080/"
        },
        "id": "zyykLJv8bUX9",
        "outputId": "79580c43-7bd5-42ca-b102-18d7a597ae50"
      },
      "execution_count": null,
      "outputs": [
        {
          "output_type": "stream",
          "name": "stdout",
          "text": [
            "Model: \"model_7\"\n",
            "_________________________________________________________________\n",
            " Layer (type)                Output Shape              Param #   \n",
            "=================================================================\n",
            " input (InputLayer)          [(None, 1000, 4)]         0         \n",
            "                                                                 \n",
            " conv1d_1 (Conv1D)           (None, 997, 32)           544       \n",
            "                                                                 \n",
            " pool_1 (MaxPooling1D)       (None, 498, 32)           0         \n",
            "                                                                 \n",
            " conv1d_2 (Conv1D)           (None, 495, 16)           2064      \n",
            "                                                                 \n",
            " pool_2 (MaxPooling1D)       (None, 247, 16)           0         \n",
            "                                                                 \n",
            " dense (Dense)               (None, 247, 64)           1088      \n",
            "                                                                 \n",
            " output (Dense)              (None, 247, 1)            65        \n",
            "                                                                 \n",
            "=================================================================\n",
            "Total params: 3,761\n",
            "Trainable params: 3,761\n",
            "Non-trainable params: 0\n",
            "_________________________________________________________________\n",
            "None\n",
            "Epoch 1/10\n",
            "4000/4000 [==============================] - 43s 11ms/step - loss: 0.5003 - acc: 0.4997\n",
            "Epoch 2/10\n",
            "4000/4000 [==============================] - 38s 10ms/step - loss: 0.5003 - acc: 0.4997\n",
            "Epoch 3/10\n",
            "4000/4000 [==============================] - 38s 9ms/step - loss: 0.5003 - acc: 0.4997\n",
            "Epoch 4/10\n",
            "4000/4000 [==============================] - 38s 10ms/step - loss: 0.5003 - acc: 0.4997\n",
            "Epoch 5/10\n",
            "4000/4000 [==============================] - 38s 10ms/step - loss: 0.5003 - acc: 0.4997\n",
            "Epoch 6/10\n",
            "4000/4000 [==============================] - 38s 10ms/step - loss: 0.5003 - acc: 0.4997\n",
            "Epoch 7/10\n",
            "4000/4000 [==============================] - 40s 10ms/step - loss: 0.5003 - acc: 0.4997\n",
            "Epoch 8/10\n",
            "4000/4000 [==============================] - 40s 10ms/step - loss: 0.5003 - acc: 0.4997\n",
            "Epoch 9/10\n",
            "4000/4000 [==============================] - 46s 11ms/step - loss: 0.5003 - acc: 0.4997\n",
            "Epoch 10/10\n",
            "4000/4000 [==============================] - 45s 11ms/step - loss: 0.5003 - acc: 0.4997\n"
          ]
        },
        {
          "output_type": "execute_result",
          "data": {
            "text/plain": [
              "<keras.callbacks.History at 0x7fe43cdd2a90>"
            ]
          },
          "metadata": {},
          "execution_count": 14
        }
      ]
    },
    {
      "cell_type": "code",
      "source": [
        "# 就按二分类严格来改一下试试\n",
        "input = Input(shape=(1000, 4), name='input')\n",
        "conv1d_1 = Conv1D(32, kernel_size=4, activation='relu', name='conv1d_1')(input)\n",
        "pool_1 = MaxPool1D(pool_size=2, name='pool_1')(conv1d_1)\n",
        "conv1d_2 = Conv1D(16, kernel_size=4, activation='relu', name='conv1d_2')(pool_1)\n",
        "pool_2 = MaxPool1D(pool_size=2, name='pool_2')(conv1d_2)\n",
        "hidden1 = Dense(64,activation='relu',name='dense')(pool_2)\n",
        "output = Dense(1,activation='sigmoid',name='output')(hidden1) # 按理，对于二分类，最后一层输出的激活函数应该为sigmoid\n",
        "\n",
        "model = Model(inputs=input, outputs=output)\n",
        "\n",
        "# 可视化\n",
        "# 1、打印网络\n",
        "print(model.summary())\n",
        "# 2、展示网络结构\n",
        "plot_model(model,to_file='multiple_inputs.png')\n",
        "Image('multiple_inputs.png')\n",
        "\n",
        "model.compile(optimizer='adam', metrics='acc', loss='binary_crossentropy') # 按理，二分类对应的loss函数应该为'binary_crossentropy'\n",
        "model.fit(x_train, y_train, epochs=10, batch_size=4) #可以发现，batch_size为4，就是把16000进行4等分"
      ],
      "metadata": {
        "colab": {
          "base_uri": "https://localhost:8080/"
        },
        "id": "PE3up-VTczY-",
        "outputId": "db2321fe-718a-4d9f-ae6b-c551bbca8d1a"
      },
      "execution_count": null,
      "outputs": [
        {
          "output_type": "stream",
          "name": "stdout",
          "text": [
            "Model: \"model_8\"\n",
            "_________________________________________________________________\n",
            " Layer (type)                Output Shape              Param #   \n",
            "=================================================================\n",
            " input (InputLayer)          [(None, 1000, 4)]         0         \n",
            "                                                                 \n",
            " conv1d_1 (Conv1D)           (None, 997, 32)           544       \n",
            "                                                                 \n",
            " pool_1 (MaxPooling1D)       (None, 498, 32)           0         \n",
            "                                                                 \n",
            " conv1d_2 (Conv1D)           (None, 495, 16)           2064      \n",
            "                                                                 \n",
            " pool_2 (MaxPooling1D)       (None, 247, 16)           0         \n",
            "                                                                 \n",
            " dense (Dense)               (None, 247, 64)           1088      \n",
            "                                                                 \n",
            " output (Dense)              (None, 247, 1)            65        \n",
            "                                                                 \n",
            "=================================================================\n",
            "Total params: 3,761\n",
            "Trainable params: 3,761\n",
            "Non-trainable params: 0\n",
            "_________________________________________________________________\n",
            "None\n",
            "Epoch 1/10\n",
            "4000/4000 [==============================] - 43s 11ms/step - loss: 0.6934 - acc: 0.4954\n",
            "Epoch 2/10\n",
            "4000/4000 [==============================] - 44s 11ms/step - loss: 0.6932 - acc: 0.5036\n",
            "Epoch 3/10\n",
            "4000/4000 [==============================] - 43s 11ms/step - loss: 0.6918 - acc: 0.5026\n",
            "Epoch 4/10\n",
            "4000/4000 [==============================] - 46s 12ms/step - loss: 0.6910 - acc: 0.5040\n",
            "Epoch 5/10\n",
            "4000/4000 [==============================] - 45s 11ms/step - loss: 0.6908 - acc: 0.5068\n",
            "Epoch 6/10\n",
            "4000/4000 [==============================] - 43s 11ms/step - loss: 0.6906 - acc: 0.5036\n",
            "Epoch 7/10\n",
            "4000/4000 [==============================] - 43s 11ms/step - loss: 0.6906 - acc: 0.5048\n",
            "Epoch 8/10\n",
            "4000/4000 [==============================] - 43s 11ms/step - loss: 0.6905 - acc: 0.5051\n",
            "Epoch 9/10\n",
            "4000/4000 [==============================] - 40s 10ms/step - loss: 0.6904 - acc: 0.5081\n",
            "Epoch 10/10\n",
            "4000/4000 [==============================] - 41s 10ms/step - loss: 0.6903 - acc: 0.5105\n"
          ]
        },
        {
          "output_type": "execute_result",
          "data": {
            "text/plain": [
              "<keras.callbacks.History at 0x7fe437933850>"
            ]
          },
          "metadata": {},
          "execution_count": 15
        }
      ]
    }
  ]
}