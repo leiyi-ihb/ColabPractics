{
  "nbformat": 4,
  "nbformat_minor": 0,
  "metadata": {
    "colab": {
      "provenance": [],
      "authorship_tag": "ABX9TyMBFNAZx8VVkRyckaW9Ne6+",
      "include_colab_link": true
    },
    "kernelspec": {
      "name": "python3",
      "display_name": "Python 3"
    },
    "language_info": {
      "name": "python"
    }
  },
  "cells": [
    {
      "cell_type": "markdown",
      "metadata": {
        "id": "view-in-github",
        "colab_type": "text"
      },
      "source": [
        "<a href=\"https://colab.research.google.com/github/leiyi-ihb/ColabPractics/blob/main/Maltiplotlib_hist.ipynb\" target=\"_parent\"><img src=\"https://colab.research.google.com/assets/colab-badge.svg\" alt=\"Open In Colab\"/></a>"
      ]
    },
    {
      "cell_type": "code",
      "execution_count": null,
      "metadata": {
        "id": "MX8xDCWTOk86"
      },
      "outputs": [],
      "source": []
    },
    {
      "cell_type": "markdown",
      "source": [
        "# Maltiplotlib绘图之 --> 直方图(hist)\n",
        "了解清楚直方图和条形图的差别： \n",
        " \n",
        "|区别|频数分布直方图|条形图|  \n",
        "|---|---|---|  \n",
        "|横轴上的数据|连续的，是一个范围|孤立的，代表一个类别|  \n",
        "|长条形之间|没有空隙|有空隙|  \n",
        "|频数的表示|一般长条形面积表示，当宽度相同时，用长度表示|长条形的长度|\n"
      ],
      "metadata": {
        "id": "JyLWx_DlOnrj"
      }
    },
    {
      "cell_type": "code",
      "source": [
        "# https://zhuanlan.zhihu.com/p/37959111\n",
        "# https://qinqianshan.com/python/matplotlib/matplotlib-hist/\n",
        "import matplotlib.pyplot as plt\n",
        "import numpy as np"
      ],
      "metadata": {
        "id": "faebwFOPO6CS"
      },
      "execution_count": 2,
      "outputs": []
    },
    {
      "cell_type": "code",
      "source": [
        "# step01: 数据生成\n",
        "data = np.random.randn(10000) # 生成了服从正态分布的数据。实质就是一个列表\n",
        "data\n",
        "'''\n",
        "data：指定要绘制直方图的数据；输入值，这需要一个数组或者一个序列\n",
        "bins：指定直方图条形的个数，默认为10；\n",
        "range：指定直方图数据的上下界，默认包含绘图数据的最大值和最小值；\n",
        "density：布尔,可选。如果\"True\"，返回元组的第一个元素将会将计数标准化以形成一个概率密度，也就是说，直方图下的面积（或积分）总和为1。这是通过将计数除以数字的数量来实现的观察乘以箱子的宽度而不是除以总数数量的观察。如果叠加也是“真实”的，那么柱状图被规范化为1。(替代normed)\n",
        "weights：该参数可为每一个数据点设置权重；\n",
        "cumulative：是否需要计算累计频数或频率；\n",
        "bottom：可以为直方图的每个条形添加基准线，默认为0；\n",
        "histtype：指定直方图的类型，默认为bar，除此还有’barstacked’, ‘step’, ‘stepfilled’；\n",
        "align：设置条形边界值的对其方式，默认为mid，除此还有’left’和’right’；\n",
        "orientation：设置直方图的摆放方向，默认为垂直方向；\n",
        "rwidth：设置直方图条形宽度的百分比；\n",
        "log：是否需要对绘图数据进行log变换；\n",
        "color：设置直方图的填充色；\n",
        "label：设置直方图的标签，可通过legend展示其图例；\n",
        "stacked：当有多个数据时，是否需要将直方图呈堆叠摆放，默认水平摆放；\n",
        "normed：是否将直方图的频数转换成频率；(弃用，被density替代)\n",
        "alpha：透明度，浮点数。\n",
        "'''\n",
        "\n",
        "plt.hist(data, bins=100, facecolor=\"blue\", edgecolor=\"black\")\n",
        "\n",
        "n, bins_limits, patches = plt.hist(data, bins=100, facecolor=\"blue\", edgecolor=\"black\")\n",
        "\n",
        "\n",
        "print(\"n 是分组区间对应的频率：\",n,end=\"\\n\\n\")\n",
        "print(\"bins_limits 是分组时的分隔值：\",bins_limits,end=\"\\n\\n\")\n",
        "print(\"patches 指的是是直方图中列表对象\",type(patches),end=\"\\n\\n\")\n",
        "for a,b in enumerate(patches):\n",
        "    print(a,b) # 遍历取出patches列表的序列和值\n",
        "\n",
        "# 横纵坐标和标题\n",
        "plt.xlabel(\"region\")\n",
        "plt.ylabel(\"frequency\")\n",
        "plt.title(\"Hist\")\n",
        "\n",
        "plt.grid(ls=\":\", lw=1, color=\"gray\") # 栅格线\n",
        "\n",
        "plt.show()"
      ],
      "metadata": {
        "colab": {
          "base_uri": "https://localhost:8080/",
          "height": 1000
        },
        "id": "mon0SHVgPAQU",
        "outputId": "d8224797-5ce7-4d4f-842a-70297cd6f962"
      },
      "execution_count": 22,
      "outputs": [
        {
          "output_type": "stream",
          "name": "stdout",
          "text": [
            "n 是分组区间对应的频率： [  1.   1.   0.   0.   1.   0.   1.   0.   1.   3.   5.   2.   2.   5.\n",
            "   5.   7.  10.   9.   8.   8.   9.  23.  19.  27.  28.  33.  41.  50.\n",
            "  56.  79.  75.  89. 109. 107. 146. 143. 133. 143. 160. 217. 199. 246.\n",
            " 244. 244. 256. 272. 261. 261. 305. 278. 317. 315. 294. 266. 273. 299.\n",
            " 259. 304. 289. 257. 263. 250. 239. 201. 202. 197. 185. 165. 130. 135.\n",
            " 108.  95.  75.  82.  62.  58.  55.  53.  46.  32.  21.  22.  19.  22.\n",
            "  19.  18.   9.   8.   8.   4.   4.   3.   3.   4.   0.   1.   1.   2.\n",
            "   3.   1.]\n",
            "\n",
            "bins_limits 是分组时的分隔值： [-3.99946718 -3.92292146 -3.84637574 -3.76983002 -3.69328429 -3.61673857\n",
            " -3.54019285 -3.46364713 -3.38710141 -3.31055569 -3.23400997 -3.15746424\n",
            " -3.08091852 -3.0043728  -2.92782708 -2.85128136 -2.77473564 -2.69818991\n",
            " -2.62164419 -2.54509847 -2.46855275 -2.39200703 -2.31546131 -2.23891559\n",
            " -2.16236986 -2.08582414 -2.00927842 -1.9327327  -1.85618698 -1.77964126\n",
            " -1.70309554 -1.62654981 -1.55000409 -1.47345837 -1.39691265 -1.32036693\n",
            " -1.24382121 -1.16727549 -1.09072976 -1.01418404 -0.93763832 -0.8610926\n",
            " -0.78454688 -0.70800116 -0.63145544 -0.55490971 -0.47836399 -0.40181827\n",
            " -0.32527255 -0.24872683 -0.17218111 -0.09563538 -0.01908966  0.05745606\n",
            "  0.13400178  0.2105475   0.28709322  0.36363894  0.44018467  0.51673039\n",
            "  0.59327611  0.66982183  0.74636755  0.82291327  0.89945899  0.97600472\n",
            "  1.05255044  1.12909616  1.20564188  1.2821876   1.35873332  1.43527904\n",
            "  1.51182477  1.58837049  1.66491621  1.74146193  1.81800765  1.89455337\n",
            "  1.97109909  2.04764482  2.12419054  2.20073626  2.27728198  2.3538277\n",
            "  2.43037342  2.50691914  2.58346487  2.66001059  2.73655631  2.81310203\n",
            "  2.88964775  2.96619347  3.0427392   3.11928492  3.19583064  3.27237636\n",
            "  3.34892208  3.4254678   3.50201352  3.57855925  3.65510497]\n",
            "\n",
            "patches 指的是是直方图中列表对象 <class 'matplotlib.cbook.silent_list'>\n",
            "\n",
            "0 Rectangle(xy=(-3.99947, 0), width=0.0765457, height=1, angle=0)\n",
            "1 Rectangle(xy=(-3.92292, 0), width=0.0765457, height=1, angle=0)\n",
            "2 Rectangle(xy=(-3.84638, 0), width=0.0765457, height=0, angle=0)\n",
            "3 Rectangle(xy=(-3.76983, 0), width=0.0765457, height=0, angle=0)\n",
            "4 Rectangle(xy=(-3.69328, 0), width=0.0765457, height=1, angle=0)\n",
            "5 Rectangle(xy=(-3.61674, 0), width=0.0765457, height=0, angle=0)\n",
            "6 Rectangle(xy=(-3.54019, 0), width=0.0765457, height=1, angle=0)\n",
            "7 Rectangle(xy=(-3.46365, 0), width=0.0765457, height=0, angle=0)\n",
            "8 Rectangle(xy=(-3.3871, 0), width=0.0765457, height=1, angle=0)\n",
            "9 Rectangle(xy=(-3.31056, 0), width=0.0765457, height=3, angle=0)\n",
            "10 Rectangle(xy=(-3.23401, 0), width=0.0765457, height=5, angle=0)\n",
            "11 Rectangle(xy=(-3.15746, 0), width=0.0765457, height=2, angle=0)\n",
            "12 Rectangle(xy=(-3.08092, 0), width=0.0765457, height=2, angle=0)\n",
            "13 Rectangle(xy=(-3.00437, 0), width=0.0765457, height=5, angle=0)\n",
            "14 Rectangle(xy=(-2.92783, 0), width=0.0765457, height=5, angle=0)\n",
            "15 Rectangle(xy=(-2.85128, 0), width=0.0765457, height=7, angle=0)\n",
            "16 Rectangle(xy=(-2.77474, 0), width=0.0765457, height=10, angle=0)\n",
            "17 Rectangle(xy=(-2.69819, 0), width=0.0765457, height=9, angle=0)\n",
            "18 Rectangle(xy=(-2.62164, 0), width=0.0765457, height=8, angle=0)\n",
            "19 Rectangle(xy=(-2.5451, 0), width=0.0765457, height=8, angle=0)\n",
            "20 Rectangle(xy=(-2.46855, 0), width=0.0765457, height=9, angle=0)\n",
            "21 Rectangle(xy=(-2.39201, 0), width=0.0765457, height=23, angle=0)\n",
            "22 Rectangle(xy=(-2.31546, 0), width=0.0765457, height=19, angle=0)\n",
            "23 Rectangle(xy=(-2.23892, 0), width=0.0765457, height=27, angle=0)\n",
            "24 Rectangle(xy=(-2.16237, 0), width=0.0765457, height=28, angle=0)\n",
            "25 Rectangle(xy=(-2.08582, 0), width=0.0765457, height=33, angle=0)\n",
            "26 Rectangle(xy=(-2.00928, 0), width=0.0765457, height=41, angle=0)\n",
            "27 Rectangle(xy=(-1.93273, 0), width=0.0765457, height=50, angle=0)\n",
            "28 Rectangle(xy=(-1.85619, 0), width=0.0765457, height=56, angle=0)\n",
            "29 Rectangle(xy=(-1.77964, 0), width=0.0765457, height=79, angle=0)\n",
            "30 Rectangle(xy=(-1.7031, 0), width=0.0765457, height=75, angle=0)\n",
            "31 Rectangle(xy=(-1.62655, 0), width=0.0765457, height=89, angle=0)\n",
            "32 Rectangle(xy=(-1.55, 0), width=0.0765457, height=109, angle=0)\n",
            "33 Rectangle(xy=(-1.47346, 0), width=0.0765457, height=107, angle=0)\n",
            "34 Rectangle(xy=(-1.39691, 0), width=0.0765457, height=146, angle=0)\n",
            "35 Rectangle(xy=(-1.32037, 0), width=0.0765457, height=143, angle=0)\n",
            "36 Rectangle(xy=(-1.24382, 0), width=0.0765457, height=133, angle=0)\n",
            "37 Rectangle(xy=(-1.16728, 0), width=0.0765457, height=143, angle=0)\n",
            "38 Rectangle(xy=(-1.09073, 0), width=0.0765457, height=160, angle=0)\n",
            "39 Rectangle(xy=(-1.01418, 0), width=0.0765457, height=217, angle=0)\n",
            "40 Rectangle(xy=(-0.937638, 0), width=0.0765457, height=199, angle=0)\n",
            "41 Rectangle(xy=(-0.861093, 0), width=0.0765457, height=246, angle=0)\n",
            "42 Rectangle(xy=(-0.784547, 0), width=0.0765457, height=244, angle=0)\n",
            "43 Rectangle(xy=(-0.708001, 0), width=0.0765457, height=244, angle=0)\n",
            "44 Rectangle(xy=(-0.631455, 0), width=0.0765457, height=256, angle=0)\n",
            "45 Rectangle(xy=(-0.55491, 0), width=0.0765457, height=272, angle=0)\n",
            "46 Rectangle(xy=(-0.478364, 0), width=0.0765457, height=261, angle=0)\n",
            "47 Rectangle(xy=(-0.401818, 0), width=0.0765457, height=261, angle=0)\n",
            "48 Rectangle(xy=(-0.325273, 0), width=0.0765457, height=305, angle=0)\n",
            "49 Rectangle(xy=(-0.248727, 0), width=0.0765457, height=278, angle=0)\n",
            "50 Rectangle(xy=(-0.172181, 0), width=0.0765457, height=317, angle=0)\n",
            "51 Rectangle(xy=(-0.0956354, 0), width=0.0765457, height=315, angle=0)\n",
            "52 Rectangle(xy=(-0.0190897, 0), width=0.0765457, height=294, angle=0)\n",
            "53 Rectangle(xy=(0.0574561, 0), width=0.0765457, height=266, angle=0)\n",
            "54 Rectangle(xy=(0.134002, 0), width=0.0765457, height=273, angle=0)\n",
            "55 Rectangle(xy=(0.210548, 0), width=0.0765457, height=299, angle=0)\n",
            "56 Rectangle(xy=(0.287093, 0), width=0.0765457, height=259, angle=0)\n",
            "57 Rectangle(xy=(0.363639, 0), width=0.0765457, height=304, angle=0)\n",
            "58 Rectangle(xy=(0.440185, 0), width=0.0765457, height=289, angle=0)\n",
            "59 Rectangle(xy=(0.51673, 0), width=0.0765457, height=257, angle=0)\n",
            "60 Rectangle(xy=(0.593276, 0), width=0.0765457, height=263, angle=0)\n",
            "61 Rectangle(xy=(0.669822, 0), width=0.0765457, height=250, angle=0)\n",
            "62 Rectangle(xy=(0.746368, 0), width=0.0765457, height=239, angle=0)\n",
            "63 Rectangle(xy=(0.822913, 0), width=0.0765457, height=201, angle=0)\n",
            "64 Rectangle(xy=(0.899459, 0), width=0.0765457, height=202, angle=0)\n",
            "65 Rectangle(xy=(0.976005, 0), width=0.0765457, height=197, angle=0)\n",
            "66 Rectangle(xy=(1.05255, 0), width=0.0765457, height=185, angle=0)\n",
            "67 Rectangle(xy=(1.1291, 0), width=0.0765457, height=165, angle=0)\n",
            "68 Rectangle(xy=(1.20564, 0), width=0.0765457, height=130, angle=0)\n",
            "69 Rectangle(xy=(1.28219, 0), width=0.0765457, height=135, angle=0)\n",
            "70 Rectangle(xy=(1.35873, 0), width=0.0765457, height=108, angle=0)\n",
            "71 Rectangle(xy=(1.43528, 0), width=0.0765457, height=95, angle=0)\n",
            "72 Rectangle(xy=(1.51182, 0), width=0.0765457, height=75, angle=0)\n",
            "73 Rectangle(xy=(1.58837, 0), width=0.0765457, height=82, angle=0)\n",
            "74 Rectangle(xy=(1.66492, 0), width=0.0765457, height=62, angle=0)\n",
            "75 Rectangle(xy=(1.74146, 0), width=0.0765457, height=58, angle=0)\n",
            "76 Rectangle(xy=(1.81801, 0), width=0.0765457, height=55, angle=0)\n",
            "77 Rectangle(xy=(1.89455, 0), width=0.0765457, height=53, angle=0)\n",
            "78 Rectangle(xy=(1.9711, 0), width=0.0765457, height=46, angle=0)\n",
            "79 Rectangle(xy=(2.04764, 0), width=0.0765457, height=32, angle=0)\n",
            "80 Rectangle(xy=(2.12419, 0), width=0.0765457, height=21, angle=0)\n",
            "81 Rectangle(xy=(2.20074, 0), width=0.0765457, height=22, angle=0)\n",
            "82 Rectangle(xy=(2.27728, 0), width=0.0765457, height=19, angle=0)\n",
            "83 Rectangle(xy=(2.35383, 0), width=0.0765457, height=22, angle=0)\n",
            "84 Rectangle(xy=(2.43037, 0), width=0.0765457, height=19, angle=0)\n",
            "85 Rectangle(xy=(2.50692, 0), width=0.0765457, height=18, angle=0)\n",
            "86 Rectangle(xy=(2.58346, 0), width=0.0765457, height=9, angle=0)\n",
            "87 Rectangle(xy=(2.66001, 0), width=0.0765457, height=8, angle=0)\n",
            "88 Rectangle(xy=(2.73656, 0), width=0.0765457, height=8, angle=0)\n",
            "89 Rectangle(xy=(2.8131, 0), width=0.0765457, height=4, angle=0)\n",
            "90 Rectangle(xy=(2.88965, 0), width=0.0765457, height=4, angle=0)\n",
            "91 Rectangle(xy=(2.96619, 0), width=0.0765457, height=3, angle=0)\n",
            "92 Rectangle(xy=(3.04274, 0), width=0.0765457, height=3, angle=0)\n",
            "93 Rectangle(xy=(3.11928, 0), width=0.0765457, height=4, angle=0)\n",
            "94 Rectangle(xy=(3.19583, 0), width=0.0765457, height=0, angle=0)\n",
            "95 Rectangle(xy=(3.27238, 0), width=0.0765457, height=1, angle=0)\n",
            "96 Rectangle(xy=(3.34892, 0), width=0.0765457, height=1, angle=0)\n",
            "97 Rectangle(xy=(3.42547, 0), width=0.0765457, height=2, angle=0)\n",
            "98 Rectangle(xy=(3.50201, 0), width=0.0765457, height=3, angle=0)\n",
            "99 Rectangle(xy=(3.57856, 0), width=0.0765457, height=1, angle=0)\n"
          ]
        },
        {
          "output_type": "display_data",
          "data": {
            "text/plain": [
              "<Figure size 432x288 with 1 Axes>"
            ],
            "image/png": "[encoded data removed]"
          },
          "metadata": {
            "needs_background": "light"
          }
        }
      ]
    },
    {
      "cell_type": "code",
      "source": [
        "plt.hist(data)"
      ],
      "metadata": {
        "colab": {
          "base_uri": "https://localhost:8080/",
          "height": 369
        },
        "id": "N7CXXED5Ta6q",
        "outputId": "8a0b7e94-29d1-4941-d9f3-d95ded44017b"
      },
      "execution_count": 5,
      "outputs": [
        {
          "output_type": "execute_result",
          "data": {
            "text/plain": [
              "(array([  10.,   90.,  571., 1827., 3137., 2751., 1288.,  289.,   33.,\n",
              "           4.]),\n",
              " array([-3.97101045, -3.14414097, -2.31727149, -1.490402  , -0.66353252,\n",
              "         0.16333696,  0.99020644,  1.81707593,  2.64394541,  3.47081489,\n",
              "         4.29768438]),\n",
              " <a list of 10 Patch objects>)"
            ]
          },
          "metadata": {},
          "execution_count": 5
        },
        {
          "output_type": "display_data",
          "data": {
            "text/plain": [
              "<Figure size 432x288 with 1 Axes>"
            ],
            "image/png": "[encoded data removed]"
          },
          "metadata": {
            "needs_background": "light"
          }
        }
      ]
    }
  ]
}