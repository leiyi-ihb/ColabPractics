{
  "nbformat": 4,
  "nbformat_minor": 0,
  "metadata": {
    "colab": {
      "provenance": [],
      "authorship_tag": "ABX9TyO9zSKm/rMU7rzgK3cYmna9",
      "include_colab_link": true
    },
    "kernelspec": {
      "name": "python3",
      "display_name": "Python 3"
    },
    "language_info": {
      "name": "python"
    }
  },
  "cells": [
    {
      "cell_type": "markdown",
      "metadata": {
        "id": "view-in-github",
        "colab_type": "text"
      },
      "source": [
        "<a href=\"https://colab.research.google.com/github/leiyi-ihb/ColabPractics/blob/main/Keras_example01.ipynb\" target=\"_parent\"><img src=\"https://colab.research.google.com/assets/colab-badge.svg\" alt=\"Open In Colab\"/></a>"
      ]
    },
    {
      "cell_type": "code",
      "execution_count": 1,
      "metadata": {
        "colab": {
          "base_uri": "https://localhost:8080/"
        },
        "id": "Px_grfOZ0Fku",
        "outputId": "924a18d2-ddb3-4cb1-f0d4-f0e5eb03cbf8"
      },
      "outputs": [
        {
          "output_type": "stream",
          "name": "stdout",
          "text": [
            "--2022-10-28 18:17:49--  https://master.dl.sourceforge.net/project/summer-research-20/sim_data_1/dataset_Li.pkl\n",
            "Resolving master.dl.sourceforge.net (master.dl.sourceforge.net)... 216.105.38.12\n",
            "Connecting to master.dl.sourceforge.net (master.dl.sourceforge.net)|216.105.38.12|:443... connected.\n",
            "HTTP request sent, awaiting response... 301 Moved Permanently\n",
            "Location: https://downloads.sourceforge.net/project/summer-research-20/sim_data_1/dataset_Li.pkl [following]\n",
            "--2022-10-28 18:17:49--  https://downloads.sourceforge.net/project/summer-research-20/sim_data_1/dataset_Li.pkl\n",
            "Resolving downloads.sourceforge.net (downloads.sourceforge.net)... 204.68.111.105\n",
            "Connecting to downloads.sourceforge.net (downloads.sourceforge.net)|204.68.111.105|:443... connected.\n",
            "HTTP request sent, awaiting response... 302 Found\n",
            "Location: https://versaweb.dl.sourceforge.net/project/summer-research-20/sim_data_1/dataset_Li.pkl [following]\n",
            "--2022-10-28 18:17:49--  https://versaweb.dl.sourceforge.net/project/summer-research-20/sim_data_1/dataset_Li.pkl\n",
            "Resolving versaweb.dl.sourceforge.net (versaweb.dl.sourceforge.net)... 162.251.232.173\n",
            "Connecting to versaweb.dl.sourceforge.net (versaweb.dl.sourceforge.net)|162.251.232.173|:443... connected.\n",
            "HTTP request sent, awaiting response... 200 OK\n",
            "Length: 640080470 (610M) [application/octet-stream]\n",
            "Saving to: ‘dataset_Li.pkl’\n",
            "\n",
            "dataset_Li.pkl      100%[===================>] 610.43M  4.89MB/s    in 2m 3s   \n",
            "\n",
            "2022-10-28 18:19:52 (4.97 MB/s) - ‘dataset_Li.pkl’ saved [640080470/640080470]\n",
            "\n"
          ]
        }
      ],
      "source": [
        "! if [ ! -f \"dataset_Li.pkl\" ]; then wget https://master.dl.sourceforge.net/project/summer-research-20/sim_data_1/dataset_Li.pkl ; else echo \"Found previous downloaded data.\"; fi"
      ]
    },
    {
      "cell_type": "code",
      "source": [
        "import numpy as np\n",
        "from keras.models import Sequential\n",
        "from keras.layers import Dense, Activation, MaxPooling1D, GlobalMaxPooling1D, Conv1D"
      ],
      "metadata": {
        "id": "JasvOX3w0G1B"
      },
      "execution_count": 2,
      "outputs": []
    },
    {
      "cell_type": "code",
      "source": [
        "import pickle\n",
        "with open(\"dataset_Li.pkl\", \"rb\") as f:\n",
        "    data = pickle.load(f)\n",
        "\n",
        "# data is a Python dictionary with keys 'train', 'val', 'test'\n",
        "print(type(data), data.keys())\n",
        "# train has N=16000 datapoints for training the model\n",
        "print('train', data['train'][0].shape, data['train'][1].shape)\n",
        "# val has N=2000 datapoints for training the model\n",
        "print('val', data['val'][0].shape, data['val'][1].shape)\n",
        "# test has N=2000 datapoints for training the model\n",
        "print('test', data['test'][0].shape, data['test'][1].shape)"
      ],
      "metadata": {
        "colab": {
          "base_uri": "https://localhost:8080/"
        },
        "id": "aDNGn2qt0QsD",
        "outputId": "9ea9c25f-f70f-4ad9-a4b7-2ad26cc79dd9"
      },
      "execution_count": 3,
      "outputs": [
        {
          "output_type": "stream",
          "name": "stdout",
          "text": [
            "<class 'dict'> dict_keys(['train', 'val', 'test'])\n",
            "train (16000, 1000, 4) (16000, 1)\n",
            "val (2000, 1000, 4) (2000, 1)\n",
            "test (2000, 1000, 4) (2000, 1)\n"
          ]
        }
      ]
    },
    {
      "cell_type": "code",
      "source": [
        "x_train, y_train = np.array(data['train'][0]), np.array(data['train'][1])\n",
        "x_test, y_test = np.array(data['test'][0]), np.array(data['test'][1])\n",
        "# print(x_train)\n",
        "# print(y_train)"
      ],
      "metadata": {
        "id": "MyuCuBN90RhR"
      },
      "execution_count": 10,
      "outputs": []
    },
    {
      "cell_type": "code",
      "source": [
        "# First\n",
        "model = Sequential()\n",
        "model.add(Conv1D(32, kernel_size=(20), activation='relu', input_shape=(1000, 4)))\n",
        "model.add(MaxPooling1D(pool_size=(4)))\n",
        "model.add(GlobalMaxPooling1D())\n",
        "model.add(Dense(1, activation=\"relu\"))\n",
        "model.add(Dense(1, activation=\"sigmoid\"))\n",
        "print(model.summary())\n",
        "print({i: v for i, v in enumerate(model.layers)})\n",
        "# compile\n",
        "model.compile(optimizer='rmsprop',\n",
        "             metrics = ['acc'],\n",
        "             loss = 'binary_crossentropy')\n",
        "# training\n",
        "model.fit(x_train, y_train,\n",
        "                   epochs = 10,\n",
        "                   batch_size = 10,\n",
        "                   validation_split = 0.2)\n",
        "score = model.evaluate(x_test, y_test, batch_size=16)\n",
        "print(score)"
      ],
      "metadata": {
        "colab": {
          "base_uri": "https://localhost:8080/"
        },
        "id": "XC8qI_bU2EpZ",
        "outputId": "0b36601e-5efc-4c22-ecf8-c31c87f8abd7"
      },
      "execution_count": 15,
      "outputs": [
        {
          "output_type": "stream",
          "name": "stdout",
          "text": [
            "Model: \"sequential_6\"\n",
            "_________________________________________________________________\n",
            " Layer (type)                Output Shape              Param #   \n",
            "=================================================================\n",
            " conv1d_6 (Conv1D)           (None, 981, 32)           2592      \n",
            "                                                                 \n",
            " max_pooling1d_6 (MaxPooling  (None, 245, 32)          0         \n",
            " 1D)                                                             \n",
            "                                                                 \n",
            " global_max_pooling1d_6 (Glo  (None, 32)               0         \n",
            " balMaxPooling1D)                                                \n",
            "                                                                 \n",
            " dense_12 (Dense)            (None, 1)                 33        \n",
            "                                                                 \n",
            " dense_13 (Dense)            (None, 1)                 2         \n",
            "                                                                 \n",
            "=================================================================\n",
            "Total params: 2,627\n",
            "Trainable params: 2,627\n",
            "Non-trainable params: 0\n",
            "_________________________________________________________________\n",
            "None\n",
            "{0: <keras.layers.convolutional.conv1d.Conv1D object at 0x7f98d3f81310>, 1: <keras.layers.pooling.max_pooling1d.MaxPooling1D object at 0x7f98d21da890>, 2: <keras.layers.pooling.global_max_pooling1d.GlobalMaxPooling1D object at 0x7f98d6bbfb90>, 3: <keras.layers.core.dense.Dense object at 0x7f98d6b70650>, 4: <keras.layers.core.dense.Dense object at 0x7f98d3f98bd0>}\n",
            "Epoch 1/10\n",
            "1280/1280 [==============================] - 18s 13ms/step - loss: 0.6932 - acc: 0.4941 - val_loss: 0.6933 - val_acc: 0.4947\n",
            "Epoch 2/10\n",
            "1280/1280 [==============================] - 18s 14ms/step - loss: 0.6932 - acc: 0.5016 - val_loss: 0.6932 - val_acc: 0.4947\n",
            "Epoch 3/10\n",
            "1280/1280 [==============================] - 20s 16ms/step - loss: 0.6932 - acc: 0.4972 - val_loss: 0.6932 - val_acc: 0.4947\n",
            "Epoch 4/10\n",
            "1280/1280 [==============================] - 21s 17ms/step - loss: 0.6932 - acc: 0.4959 - val_loss: 0.6932 - val_acc: 0.4947\n",
            "Epoch 5/10\n",
            "1280/1280 [==============================] - 20s 16ms/step - loss: 0.6932 - acc: 0.4969 - val_loss: 0.6932 - val_acc: 0.4947\n",
            "Epoch 6/10\n",
            "1280/1280 [==============================] - 19s 15ms/step - loss: 0.6932 - acc: 0.4973 - val_loss: 0.6932 - val_acc: 0.4947\n",
            "Epoch 7/10\n",
            "1280/1280 [==============================] - 19s 15ms/step - loss: 0.6932 - acc: 0.5000 - val_loss: 0.6932 - val_acc: 0.4947\n",
            "Epoch 8/10\n",
            "1280/1280 [==============================] - 18s 14ms/step - loss: 0.6932 - acc: 0.4989 - val_loss: 0.6933 - val_acc: 0.4947\n",
            "Epoch 9/10\n",
            "1280/1280 [==============================] - 20s 16ms/step - loss: 0.6932 - acc: 0.4998 - val_loss: 0.6934 - val_acc: 0.4947\n",
            "Epoch 10/10\n",
            "1280/1280 [==============================] - 17s 13ms/step - loss: 0.6932 - acc: 0.5006 - val_loss: 0.6932 - val_acc: 0.4947\n",
            "125/125 [==============================] - 1s 5ms/step - loss: 0.6933 - acc: 0.4940\n",
            "[0.6932587027549744, 0.49399998784065247]\n"
          ]
        }
      ]
    },
    {
      "cell_type": "code",
      "source": [
        "from keras.layers import Dropout\n",
        "# Second\n",
        "\n",
        "model = Sequential()\n",
        "model.add(Conv1D(32, kernel_size=(20), activation='relu', input_shape=(1000, 4)))\n",
        "model.add(Dropout(0.2))\n",
        "model.add(MaxPooling1D(pool_size=(4)))\n",
        "model.add(GlobalMaxPooling1D())\n",
        "model.add(Dense(1, activation=\"relu\"))\n",
        "model.add(Dense(1, activation=\"sigmoid\"))\n",
        "print(model.summary())\n",
        "print({i: v for i, v in enumerate(model.layers)})\n",
        "# compile\n",
        "model.compile(optimizer='rmsprop',\n",
        "             metrics = ['acc'],\n",
        "             loss = 'binary_crossentropy')\n",
        "# training\n",
        "model.fit(x_train, y_train,\n",
        "                   epochs = 10,\n",
        "                   batch_size = 10,\n",
        "                   validation_split = 0.2)\n",
        "score = model.evaluate(x_test, y_test, batch_size=16)\n",
        "print(score)"
      ],
      "metadata": {
        "colab": {
          "base_uri": "https://localhost:8080/"
        },
        "id": "SXhuh25K1zHE",
        "outputId": "d9383d6d-eb55-4cd0-bb77-810f98bc11f7"
      },
      "execution_count": 16,
      "outputs": [
        {
          "output_type": "stream",
          "name": "stdout",
          "text": [
            "Model: \"sequential_7\"\n",
            "_________________________________________________________________\n",
            " Layer (type)                Output Shape              Param #   \n",
            "=================================================================\n",
            " conv1d_7 (Conv1D)           (None, 981, 32)           2592      \n",
            "                                                                 \n",
            " dropout (Dropout)           (None, 981, 32)           0         \n",
            "                                                                 \n",
            " max_pooling1d_7 (MaxPooling  (None, 245, 32)          0         \n",
            " 1D)                                                             \n",
            "                                                                 \n",
            " global_max_pooling1d_7 (Glo  (None, 32)               0         \n",
            " balMaxPooling1D)                                                \n",
            "                                                                 \n",
            " dense_14 (Dense)            (None, 1)                 33        \n",
            "                                                                 \n",
            " dense_15 (Dense)            (None, 1)                 2         \n",
            "                                                                 \n",
            "=================================================================\n",
            "Total params: 2,627\n",
            "Trainable params: 2,627\n",
            "Non-trainable params: 0\n",
            "_________________________________________________________________\n",
            "None\n",
            "{0: <keras.layers.convolutional.conv1d.Conv1D object at 0x7f98d3da8550>, 1: <keras.layers.regularization.dropout.Dropout object at 0x7f98d3da85d0>, 2: <keras.layers.pooling.max_pooling1d.MaxPooling1D object at 0x7f98d6aa0410>, 3: <keras.layers.pooling.global_max_pooling1d.GlobalMaxPooling1D object at 0x7f98d3f7a6d0>, 4: <keras.layers.core.dense.Dense object at 0x7f98d3dcbd10>, 5: <keras.layers.core.dense.Dense object at 0x7f98d3de4a90>}\n",
            "Epoch 1/10\n",
            "1280/1280 [==============================] - 21s 16ms/step - loss: 0.6933 - acc: 0.5000 - val_loss: 0.6932 - val_acc: 0.4947\n",
            "Epoch 2/10\n",
            "1280/1280 [==============================] - 20s 16ms/step - loss: 0.6932 - acc: 0.4963 - val_loss: 0.6932 - val_acc: 0.4947\n",
            "Epoch 3/10\n",
            "1280/1280 [==============================] - 20s 15ms/step - loss: 0.6932 - acc: 0.4978 - val_loss: 0.6932 - val_acc: 0.4947\n",
            "Epoch 4/10\n",
            "1280/1280 [==============================] - 20s 16ms/step - loss: 0.6932 - acc: 0.4981 - val_loss: 0.6932 - val_acc: 0.4947\n",
            "Epoch 5/10\n",
            "1280/1280 [==============================] - 20s 16ms/step - loss: 0.6932 - acc: 0.4992 - val_loss: 0.6932 - val_acc: 0.4947\n",
            "Epoch 6/10\n",
            "1280/1280 [==============================] - 20s 15ms/step - loss: 0.6932 - acc: 0.5008 - val_loss: 0.6931 - val_acc: 0.5053\n",
            "Epoch 7/10\n",
            "1280/1280 [==============================] - 20s 15ms/step - loss: 0.6932 - acc: 0.4986 - val_loss: 0.6931 - val_acc: 0.5053\n",
            "Epoch 8/10\n",
            "1280/1280 [==============================] - 20s 15ms/step - loss: 0.6932 - acc: 0.4955 - val_loss: 0.6931 - val_acc: 0.5053\n",
            "Epoch 9/10\n",
            "1280/1280 [==============================] - 20s 15ms/step - loss: 0.6932 - acc: 0.4998 - val_loss: 0.6933 - val_acc: 0.4947\n",
            "Epoch 10/10\n",
            "1280/1280 [==============================] - 22s 17ms/step - loss: 0.6933 - acc: 0.5017 - val_loss: 0.6934 - val_acc: 0.4947\n",
            "125/125 [==============================] - 1s 5ms/step - loss: 0.6934 - acc: 0.4940\n",
            "[0.6934458613395691, 0.49399998784065247]\n"
          ]
        }
      ]
    },
    {
      "cell_type": "code",
      "source": [
        "# Thired\n",
        "\n",
        "model = Sequential()\n",
        "model.add(Conv1D(32, kernel_size=(20), activation='relu', input_shape=(1000, 4)))\n",
        "model.add(GlobalMaxPooling1D())\n",
        "model.add(Dense(1, activation=\"relu\"))\n",
        "model.add(Dense(1, activation=\"sigmoid\"))\n",
        "print(model.summary())\n",
        "print({i: v for i, v in enumerate(model.layers)})\n",
        "# compile\n",
        "model.compile(optimizer='rmsprop',\n",
        "             metrics = ['acc'],\n",
        "             loss = 'binary_crossentropy')\n",
        "# training\n",
        "model.fit(x_train, y_train,\n",
        "                   epochs = 10,\n",
        "                   batch_size = 10,\n",
        "                   validation_split = 0.2)\n",
        "score = model.evaluate(x_test, y_test, batch_size=16)\n",
        "print(score)"
      ],
      "metadata": {
        "colab": {
          "base_uri": "https://localhost:8080/"
        },
        "id": "YBEKXs4y02IK",
        "outputId": "3559a15a-0ea7-4dc0-8b70-d7d4fc5785c3"
      },
      "execution_count": 17,
      "outputs": [
        {
          "output_type": "stream",
          "name": "stdout",
          "text": [
            "Model: \"sequential_8\"\n",
            "_________________________________________________________________\n",
            " Layer (type)                Output Shape              Param #   \n",
            "=================================================================\n",
            " conv1d_8 (Conv1D)           (None, 981, 32)           2592      \n",
            "                                                                 \n",
            " global_max_pooling1d_8 (Glo  (None, 32)               0         \n",
            " balMaxPooling1D)                                                \n",
            "                                                                 \n",
            " dense_16 (Dense)            (None, 1)                 33        \n",
            "                                                                 \n",
            " dense_17 (Dense)            (None, 1)                 2         \n",
            "                                                                 \n",
            "=================================================================\n",
            "Total params: 2,627\n",
            "Trainable params: 2,627\n",
            "Non-trainable params: 0\n",
            "_________________________________________________________________\n",
            "None\n",
            "{0: <keras.layers.convolutional.conv1d.Conv1D object at 0x7f98d3e32090>, 1: <keras.layers.pooling.global_max_pooling1d.GlobalMaxPooling1D object at 0x7f98d3e324d0>, 2: <keras.layers.core.dense.Dense object at 0x7f98d3e10790>, 3: <keras.layers.core.dense.Dense object at 0x7f98d3d88e10>}\n",
            "Epoch 1/10\n",
            "1280/1280 [==============================] - 14s 10ms/step - loss: 0.5216 - acc: 0.7530 - val_loss: 0.2933 - val_acc: 0.9578\n",
            "Epoch 2/10\n",
            "1280/1280 [==============================] - 13s 10ms/step - loss: 0.2141 - acc: 0.9612 - val_loss: 0.1704 - val_acc: 0.9588\n",
            "Epoch 3/10\n",
            "1280/1280 [==============================] - 14s 11ms/step - loss: 0.1345 - acc: 0.9648 - val_loss: 0.1267 - val_acc: 0.9609\n",
            "Epoch 4/10\n",
            "1280/1280 [==============================] - 14s 11ms/step - loss: 0.1090 - acc: 0.9672 - val_loss: 0.1154 - val_acc: 0.9600\n",
            "Epoch 5/10\n",
            "1280/1280 [==============================] - 13s 10ms/step - loss: 0.0960 - acc: 0.9694 - val_loss: 0.1117 - val_acc: 0.9613\n",
            "Epoch 6/10\n",
            "1280/1280 [==============================] - 13s 10ms/step - loss: 0.0899 - acc: 0.9706 - val_loss: 0.1089 - val_acc: 0.9606\n",
            "Epoch 7/10\n",
            "1280/1280 [==============================] - 13s 10ms/step - loss: 0.0861 - acc: 0.9713 - val_loss: 0.1105 - val_acc: 0.9616\n",
            "Epoch 8/10\n",
            "1280/1280 [==============================] - 13s 10ms/step - loss: 0.0825 - acc: 0.9712 - val_loss: 0.1169 - val_acc: 0.9594\n",
            "Epoch 9/10\n",
            "1280/1280 [==============================] - 13s 10ms/step - loss: 0.0782 - acc: 0.9746 - val_loss: 0.1205 - val_acc: 0.9584\n",
            "Epoch 10/10\n",
            "1280/1280 [==============================] - 13s 10ms/step - loss: 0.0743 - acc: 0.9752 - val_loss: 0.1181 - val_acc: 0.9594\n",
            "125/125 [==============================] - 1s 5ms/step - loss: 0.0895 - acc: 0.9725\n",
            "[0.08954726159572601, 0.9725000262260437]\n"
          ]
        }
      ]
    },
    {
      "cell_type": "code",
      "source": [
        "# Thired\n",
        "\n",
        "model = Sequential()\n",
        "model.add(Conv1D(32, kernel_size=(20), activation='relu', input_shape=(1000, 4)))\n",
        "model.add(MaxPooling1D(pool_size=(4)))\n",
        "model.add(MaxPooling1D(pool_size=(4)))\n",
        "model.add(GlobalMaxPooling1D())\n",
        "model.add(Dense(1, activation=\"relu\"))\n",
        "model.add(Dense(1, activation=\"sigmoid\"))\n",
        "print(model.summary())\n",
        "print({i: v for i, v in enumerate(model.layers)})\n",
        "# compile\n",
        "model.compile(optimizer='rmsprop',\n",
        "             metrics = ['acc'],\n",
        "             loss = 'binary_crossentropy')\n",
        "# training\n",
        "model.fit(x_train, y_train,\n",
        "                   epochs = 10,\n",
        "                   batch_size = 10,\n",
        "                   validation_split = 0.2)\n",
        "score = model.evaluate(x_test, y_test, batch_size=16)\n",
        "print(score)"
      ],
      "metadata": {
        "colab": {
          "base_uri": "https://localhost:8080/"
        },
        "id": "7eN_I-I76XFA",
        "outputId": "b63157f1-6918-4555-f16c-887629bcf3bd"
      },
      "execution_count": 20,
      "outputs": [
        {
          "output_type": "stream",
          "name": "stdout",
          "text": [
            "Model: \"sequential_11\"\n",
            "_________________________________________________________________\n",
            " Layer (type)                Output Shape              Param #   \n",
            "=================================================================\n",
            " conv1d_11 (Conv1D)          (None, 981, 32)           2592      \n",
            "                                                                 \n",
            " max_pooling1d_12 (MaxPoolin  (None, 245, 32)          0         \n",
            " g1D)                                                            \n",
            "                                                                 \n",
            " max_pooling1d_13 (MaxPoolin  (None, 61, 32)           0         \n",
            " g1D)                                                            \n",
            "                                                                 \n",
            " global_max_pooling1d_11 (Gl  (None, 32)               0         \n",
            " obalMaxPooling1D)                                               \n",
            "                                                                 \n",
            " dense_19 (Dense)            (None, 1)                 33        \n",
            "                                                                 \n",
            " dense_20 (Dense)            (None, 1)                 2         \n",
            "                                                                 \n",
            "=================================================================\n",
            "Total params: 2,627\n",
            "Trainable params: 2,627\n",
            "Non-trainable params: 0\n",
            "_________________________________________________________________\n",
            "None\n",
            "{0: <keras.layers.convolutional.conv1d.Conv1D object at 0x7f98d45da0d0>, 1: <keras.layers.pooling.max_pooling1d.MaxPooling1D object at 0x7f98d45da6d0>, 2: <keras.layers.pooling.max_pooling1d.MaxPooling1D object at 0x7f98d4fbfe10>, 3: <keras.layers.pooling.global_max_pooling1d.GlobalMaxPooling1D object at 0x7f98d45da8d0>, 4: <keras.layers.core.dense.Dense object at 0x7f98d45e78d0>, 5: <keras.layers.core.dense.Dense object at 0x7f98d45e7310>}\n",
            "Epoch 1/10\n",
            "1280/1280 [==============================] - 18s 13ms/step - loss: 0.6931 - acc: 0.5002 - val_loss: 0.6932 - val_acc: 0.4947\n",
            "Epoch 2/10\n",
            "1280/1280 [==============================] - 16s 13ms/step - loss: 0.6932 - acc: 0.4964 - val_loss: 0.6931 - val_acc: 0.5053\n",
            "Epoch 3/10\n",
            "1280/1280 [==============================] - 16s 13ms/step - loss: 0.6932 - acc: 0.4920 - val_loss: 0.6931 - val_acc: 0.5053\n",
            "Epoch 4/10\n",
            "1280/1280 [==============================] - 18s 14ms/step - loss: 0.6932 - acc: 0.4970 - val_loss: 0.6932 - val_acc: 0.4947\n",
            "Epoch 5/10\n",
            "1280/1280 [==============================] - 18s 14ms/step - loss: 0.6932 - acc: 0.5020 - val_loss: 0.6931 - val_acc: 0.5053\n",
            "Epoch 6/10\n",
            "1280/1280 [==============================] - 18s 14ms/step - loss: 0.6932 - acc: 0.5002 - val_loss: 0.6931 - val_acc: 0.5053\n",
            "Epoch 7/10\n",
            "1280/1280 [==============================] - 16s 13ms/step - loss: 0.6932 - acc: 0.4988 - val_loss: 0.6932 - val_acc: 0.4947\n",
            "Epoch 8/10\n",
            "1280/1280 [==============================] - 17s 13ms/step - loss: 0.6932 - acc: 0.4988 - val_loss: 0.6931 - val_acc: 0.5053\n",
            "Epoch 9/10\n",
            "1280/1280 [==============================] - 17s 13ms/step - loss: 0.6932 - acc: 0.4945 - val_loss: 0.6932 - val_acc: 0.4947\n",
            "Epoch 10/10\n",
            "1280/1280 [==============================] - 16s 13ms/step - loss: 0.6932 - acc: 0.5022 - val_loss: 0.6933 - val_acc: 0.4947\n",
            "125/125 [==============================] - 1s 5ms/step - loss: 0.6933 - acc: 0.4940\n",
            "[0.6932623982429504, 0.49399998784065247]\n"
          ]
        }
      ]
    },
    {
      "cell_type": "code",
      "source": [
        "# Fiveth\n",
        "model = Sequential()\n",
        "model.add(Conv1D(32, kernel_size=(20), activation='relu', input_shape=(1000, 4)))\n",
        "model.add(GlobalMaxPooling1D())\n",
        "model.add(Dense(1, activation=\"sigmoid\"))\n",
        "print(model.summary())\n",
        "print({i: v for i, v in enumerate(model.layers)})\n",
        "# compile\n",
        "model.compile(optimizer='rmsprop',\n",
        "             metrics = ['acc'],\n",
        "             loss = 'binary_crossentropy')\n",
        "# training\n",
        "model.fit(x_train, y_train,\n",
        "                   epochs = 10,\n",
        "                   batch_size = 10,\n",
        "                   validation_split = 0.2)\n",
        "score = model.evaluate(x_test, y_test, batch_size=16)\n",
        "print(score)"
      ],
      "metadata": {
        "colab": {
          "base_uri": "https://localhost:8080/"
        },
        "id": "fUE5EVg-7cym",
        "outputId": "c5b80034-5bf8-40ab-dfb8-b8c17d57d303"
      },
      "execution_count": 21,
      "outputs": [
        {
          "output_type": "stream",
          "name": "stdout",
          "text": [
            "Model: \"sequential_12\"\n",
            "_________________________________________________________________\n",
            " Layer (type)                Output Shape              Param #   \n",
            "=================================================================\n",
            " conv1d_12 (Conv1D)          (None, 981, 32)           2592      \n",
            "                                                                 \n",
            " global_max_pooling1d_12 (Gl  (None, 32)               0         \n",
            " obalMaxPooling1D)                                               \n",
            "                                                                 \n",
            " dense_21 (Dense)            (None, 1)                 33        \n",
            "                                                                 \n",
            "=================================================================\n",
            "Total params: 2,625\n",
            "Trainable params: 2,625\n",
            "Non-trainable params: 0\n",
            "_________________________________________________________________\n",
            "None\n",
            "{0: <keras.layers.convolutional.conv1d.Conv1D object at 0x7f98d438b850>, 1: <keras.layers.pooling.global_max_pooling1d.GlobalMaxPooling1D object at 0x7f98d438bd90>, 2: <keras.layers.core.dense.Dense object at 0x7f98d4445b10>}\n",
            "Epoch 1/10\n",
            "1280/1280 [==============================] - 13s 10ms/step - loss: 0.4923 - acc: 0.7893 - val_loss: 0.1872 - val_acc: 0.9550\n",
            "Epoch 2/10\n",
            "1280/1280 [==============================] - 13s 10ms/step - loss: 0.1234 - acc: 0.9615 - val_loss: 0.1198 - val_acc: 0.9553\n",
            "Epoch 3/10\n",
            "1280/1280 [==============================] - 14s 11ms/step - loss: 0.0973 - acc: 0.9645 - val_loss: 0.1085 - val_acc: 0.9591\n",
            "Epoch 4/10\n",
            "1280/1280 [==============================] - 13s 10ms/step - loss: 0.0924 - acc: 0.9664 - val_loss: 0.1101 - val_acc: 0.9581\n",
            "Epoch 5/10\n",
            "1280/1280 [==============================] - 13s 10ms/step - loss: 0.0897 - acc: 0.9669 - val_loss: 0.1123 - val_acc: 0.9581\n",
            "Epoch 6/10\n",
            "1280/1280 [==============================] - 13s 10ms/step - loss: 0.0891 - acc: 0.9675 - val_loss: 0.1148 - val_acc: 0.9581\n",
            "Epoch 7/10\n",
            "1280/1280 [==============================] - 13s 10ms/step - loss: 0.0871 - acc: 0.9695 - val_loss: 0.1170 - val_acc: 0.9569\n",
            "Epoch 8/10\n",
            "1280/1280 [==============================] - 13s 10ms/step - loss: 0.0842 - acc: 0.9705 - val_loss: 0.1197 - val_acc: 0.9578\n",
            "Epoch 9/10\n",
            "1280/1280 [==============================] - 13s 10ms/step - loss: 0.0827 - acc: 0.9711 - val_loss: 0.1203 - val_acc: 0.9569\n",
            "Epoch 10/10\n",
            "1280/1280 [==============================] - 13s 10ms/step - loss: 0.0799 - acc: 0.9710 - val_loss: 0.1225 - val_acc: 0.9566\n",
            "125/125 [==============================] - 1s 4ms/step - loss: 0.1009 - acc: 0.9610\n",
            "[0.10094007849693298, 0.9610000252723694]\n"
          ]
        }
      ]
    },
    {
      "cell_type": "code",
      "source": [
        "# Sixth: take more time\n",
        "from keras.layers import LSTM, AveragePooling1D, Conv2D, LocallyConnected1D\n",
        "model = Sequential()\n",
        "model.add(Conv1D(32, kernel_size=(20), activation='relu', input_shape=(1000, 4)))\n",
        "model.add(Conv1D(16, kernel_size=(20), activation='relu'))\n",
        "model.add(LocallyConnected1D(32, 3))\n",
        "model.add(MaxPooling1D(pool_size=(4)))\n",
        "model.add(AveragePooling1D(pool_size=(4)))\n",
        "model.add(GlobalMaxPooling1D())\n",
        "# model.add(LSTM())\n",
        "model.add(Dense(1, activation=\"relu\"))\n",
        "model.add(Dense(1, activation=\"sigmoid\"))\n",
        "print(model.summary())\n",
        "print({i: v for i, v in enumerate(model.layers)})\n",
        "# compile\n",
        "model.compile(optimizer='rmsprop',\n",
        "             metrics = ['acc'],\n",
        "             loss = 'binary_crossentropy')\n",
        "# training\n",
        "History = model.fit(x_train, y_train,\n",
        "                   epochs = 10,\n",
        "                   batch_size = 10,\n",
        "                   validation_split = 0.2)\n",
        "score = model.evaluate(x_test, y_test, batch_size=16)\n",
        "print(score)"
      ],
      "metadata": {
        "colab": {
          "base_uri": "https://localhost:8080/"
        },
        "id": "0GN8nptj9_6c",
        "outputId": "cc3cece5-176c-49c8-a638-ea9bc8fca625"
      },
      "execution_count": 36,
      "outputs": [
        {
          "output_type": "stream",
          "name": "stdout",
          "text": [
            "Model: \"sequential_27\"\n",
            "_________________________________________________________________\n",
            " Layer (type)                Output Shape              Param #   \n",
            "=================================================================\n",
            " conv1d_29 (Conv1D)          (None, 981, 32)           2592      \n",
            "                                                                 \n",
            " conv1d_30 (Conv1D)          (None, 962, 16)           10256     \n",
            "                                                                 \n",
            " locally_connected1d_1 (Loca  (None, 960, 32)          1505280   \n",
            " llyConnected1D)                                                 \n",
            "                                                                 \n",
            " max_pooling1d_26 (MaxPoolin  (None, 240, 32)          0         \n",
            " g1D)                                                            \n",
            "                                                                 \n",
            " average_pooling1d_3 (Averag  (None, 60, 32)           0         \n",
            " ePooling1D)                                                     \n",
            "                                                                 \n",
            " global_max_pooling1d_26 (Gl  (None, 32)               0         \n",
            " obalMaxPooling1D)                                               \n",
            "                                                                 \n",
            " dense_32 (Dense)            (None, 1)                 33        \n",
            "                                                                 \n",
            " dense_33 (Dense)            (None, 1)                 2         \n",
            "                                                                 \n",
            "=================================================================\n",
            "Total params: 1,518,163\n",
            "Trainable params: 1,518,163\n",
            "Non-trainable params: 0\n",
            "_________________________________________________________________\n",
            "None\n",
            "{0: <keras.layers.convolutional.conv1d.Conv1D object at 0x7f98cf745fd0>, 1: <keras.layers.convolutional.conv1d.Conv1D object at 0x7f98cf745d90>, 2: <keras.layers.locally_connected.locally_connected1d.LocallyConnected1D object at 0x7f98cf745890>, 3: <keras.layers.pooling.max_pooling1d.MaxPooling1D object at 0x7f98cf741f10>, 4: <keras.layers.pooling.average_pooling1d.AveragePooling1D object at 0x7f98d3a15690>, 5: <keras.layers.pooling.global_max_pooling1d.GlobalMaxPooling1D object at 0x7f98c36febd0>, 6: <keras.layers.core.dense.Dense object at 0x7f98d39afe10>, 7: <keras.layers.core.dense.Dense object at 0x7f98cf593f90>}\n",
            "Epoch 1/10\n",
            "1280/1280 [==============================] - 326s 234ms/step - loss: 0.6932 - acc: 0.4978 - val_loss: 0.6932 - val_acc: 0.4947\n",
            "Epoch 2/10\n",
            "1280/1280 [==============================] - 282s 220ms/step - loss: 0.6932 - acc: 0.4983 - val_loss: 0.6933 - val_acc: 0.4947\n",
            "Epoch 3/10\n",
            "1280/1280 [==============================] - 279s 218ms/step - loss: 0.6932 - acc: 0.4959 - val_loss: 0.6931 - val_acc: 0.5053\n",
            "Epoch 4/10\n",
            "1280/1280 [==============================] - 279s 218ms/step - loss: 0.6932 - acc: 0.4939 - val_loss: 0.6932 - val_acc: 0.4947\n",
            "Epoch 5/10\n",
            "1280/1280 [==============================] - 279s 218ms/step - loss: 0.6932 - acc: 0.5011 - val_loss: 0.6932 - val_acc: 0.4947\n",
            "Epoch 6/10\n",
            "1280/1280 [==============================] - 280s 219ms/step - loss: 0.6932 - acc: 0.5002 - val_loss: 0.6933 - val_acc: 0.4947\n",
            "Epoch 7/10\n",
            "1280/1280 [==============================] - 280s 219ms/step - loss: 0.6932 - acc: 0.4978 - val_loss: 0.6931 - val_acc: 0.5053\n",
            "Epoch 8/10\n",
            "1280/1280 [==============================] - 278s 217ms/step - loss: 0.6932 - acc: 0.4986 - val_loss: 0.6933 - val_acc: 0.4947\n",
            "Epoch 9/10\n",
            "1280/1280 [==============================] - 283s 221ms/step - loss: 0.6932 - acc: 0.4984 - val_loss: 0.6932 - val_acc: 0.4947\n",
            "Epoch 10/10\n",
            "1280/1280 [==============================] - 279s 218ms/step - loss: 0.6932 - acc: 0.4983 - val_loss: 0.6932 - val_acc: 0.4947\n",
            "125/125 [==============================] - 9s 23ms/step - loss: 0.6932 - acc: 0.4940\n",
            "[0.6931825280189514, 0.49399998784065247]\n"
          ]
        }
      ]
    },
    {
      "cell_type": "code",
      "source": [
        "import matplotlib.pyplot as plt\n",
        "def plot_history(history):\n",
        "    \n",
        "#   hist = pd.DataFrame(history.history)\n",
        "    hist = History.history\n",
        "    hist['epoch'] = History.epoch\n",
        " \n",
        "    plt.figure()\n",
        "    plt.xlabel('Epoch')\n",
        "    plt.ylabel('Mean Abs Error [MPG]')\n",
        "    plt.plot(hist['epoch'], hist['acc'], # need to be modified\n",
        "        label='Train Error')\n",
        "    plt.plot(hist['epoch'], hist['val_loss'], # need to be modified\n",
        "        label = 'Val Error')\n",
        "#     plt.ylim([0,5])\n",
        "    plt.legend()\n",
        " \n",
        "    plt.figure()\n",
        "    plt.xlabel('Epoch')\n",
        "    plt.ylabel('Mean Square Error [$MPG^2$]')\n",
        "    plt.plot(hist['epoch'], hist['acc'], # need to be modified\n",
        "        label='Train Error')\n",
        "    plt.plot(hist['epoch'], hist['val_acc'], # need to be modified\n",
        "        label = 'Val Error')\n",
        "#     plt.ylim([0,20])\n",
        "    plt.legend()\n",
        "    plt.show()\n",
        " \n",
        "if __name__=='__main__':\n",
        "  plot_history(History)\n"
      ],
      "metadata": {
        "colab": {
          "base_uri": "https://localhost:8080/",
          "height": 542
        },
        "id": "mo4lww8ARUXZ",
        "outputId": "94134e32-2f91-4300-b3ae-5d830aac2aaa"
      },
      "execution_count": 38,
      "outputs": [
        {
          "output_type": "display_data",
          "data": {
            "text/plain": [
              "<Figure size 432x288 with 1 Axes>"
            ],
            "image/png": "[encoded data removed]"
          },
          "metadata": {
            "needs_background": "light"
          }
        },
        {
          "output_type": "display_data",
          "data": {
            "text/plain": [
              "<Figure size 432x288 with 1 Axes>"
            ],
            "image/png": "[encoded data removed]"
          },
          "metadata": {
            "needs_background": "light"
          }
        }
      ]
    }
  ]
}